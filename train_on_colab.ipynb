{
  "nbformat": 4,
  "nbformat_minor": 0,
  "metadata": {
    "kernelspec": {
      "name": "python3",
      "display_name": "Python 3"
    },
    "language_info": {
      "codemirror_mode": {
        "name": "ipython",
        "version": 3
      },
      "file_extension": ".py",
      "mimetype": "text/x-python",
      "name": "python",
      "nbconvert_exporter": "python",
      "pygments_lexer": "ipython3",
      "version": "3.6.5"
    },
    "colab": {
      "name": "train_on_colab.ipynb",
      "provenance": [],
      "collapsed_sections": []
    },
    "accelerator": "GPU"
  },
  "cells": [
    {
      "cell_type": "code",
      "metadata": {
        "id": "xQV4XYcgRDaj",
        "colab_type": "code",
        "colab": {}
      },
      "source": [
        "#!/usr/bin/env python3\n",
        "# -*- coding: utf-8 -*-"
      ],
      "execution_count": 0,
      "outputs": []
    },
    {
      "cell_type": "code",
      "metadata": {
        "id": "gFcGBg2TRHVh",
        "colab_type": "code",
        "outputId": "b75c5bc1-d63a-40d4-c884-a722f90c041f",
        "colab": {
          "base_uri": "https://localhost:8080/",
          "height": 1000
        }
      },
      "source": [
        "!pip install \"https://github.com/megagonlabs/ginza/releases/download/latest/ginza-latest.tar.gz\"\n",
        "\n",
        "# Colabの仕様でpkg_resourcesに新しくインストールしたライブラリが反映されないため，\n",
        "# 以下のコードで反映させる\n",
        "import pkg_resources, imp\n",
        "imp.reload(pkg_resources)"
      ],
      "execution_count": 0,
      "outputs": [
        {
          "output_type": "stream",
          "text": [
            "Collecting https://github.com/megagonlabs/ginza/releases/download/latest/ginza-latest.tar.gz\n",
            "  Downloading https://github.com/megagonlabs/ginza/releases/download/latest/ginza-latest.tar.gz\n",
            "Collecting spacy>=2.2.0\n",
            "\u001b[?25l  Downloading https://files.pythonhosted.org/packages/47/13/80ad28ef7a16e2a86d16d73e28588be5f1085afd3e85e4b9b912bd700e8a/spacy-2.2.3-cp36-cp36m-manylinux1_x86_64.whl (10.4MB)\n",
            "\u001b[K     |████████████████████████████████| 10.4MB 40.2MB/s \n",
            "\u001b[?25hCollecting ja_ginza@ https://github.com/megagonlabs/ginza/releases/download/v2.2.0/ja_ginza-2.2.0.tar.gz\n",
            "\u001b[?25l  Downloading https://github.com/megagonlabs/ginza/releases/download/v2.2.0/ja_ginza-2.2.0.tar.gz (54.6MB)\n",
            "\u001b[K     |████████████████████████████████| 54.6MB 53kB/s \n",
            "\u001b[?25hCollecting SudachiPy>=0.4.0\n",
            "\u001b[?25l  Downloading https://files.pythonhosted.org/packages/04/c9/40bfb291a7995ad218451ef97083432f998b822e3ecbd9f586f593d2cfb6/SudachiPy-0.4.2-py3-none-any.whl (73kB)\n",
            "\u001b[K     |████████████████████████████████| 81kB 13.7MB/s \n",
            "\u001b[?25hCollecting SudachiDict_core@ https://github.com/megagonlabs/ginza/releases/download/v2.2.0/SudachiDict_core-20190927.tar.gz\n",
            "\u001b[?25l  Downloading https://github.com/megagonlabs/ginza/releases/download/v2.2.0/SudachiDict_core-20190927.tar.gz (70.7MB)\n",
            "\u001b[K     |████████████████████████████████| 70.7MB 42kB/s \n",
            "\u001b[?25hRequirement already satisfied: setuptools in /usr/local/lib/python3.6/dist-packages (from spacy>=2.2.0->ginza==2.2.1) (42.0.2)\n",
            "Collecting preshed<3.1.0,>=3.0.2\n",
            "\u001b[?25l  Downloading https://files.pythonhosted.org/packages/db/6b/e07fad36913879757c90ba03d6fb7f406f7279e11dcefc105ee562de63ea/preshed-3.0.2-cp36-cp36m-manylinux1_x86_64.whl (119kB)\n",
            "\u001b[K     |████████████████████████████████| 122kB 55.5MB/s \n",
            "\u001b[?25hCollecting catalogue<1.1.0,>=0.0.7\n",
            "  Downloading https://files.pythonhosted.org/packages/4b/4c/0e0fa8b1e193c1e09a6b72807ff4ca17c78f68f0c0f4459bc8043c66d649/catalogue-0.2.0-py2.py3-none-any.whl\n",
            "Requirement already satisfied: requests<3.0.0,>=2.13.0 in /usr/local/lib/python3.6/dist-packages (from spacy>=2.2.0->ginza==2.2.1) (2.21.0)\n",
            "Requirement already satisfied: srsly<1.1.0,>=0.1.0 in /usr/local/lib/python3.6/dist-packages (from spacy>=2.2.0->ginza==2.2.1) (0.2.0)\n",
            "Requirement already satisfied: wasabi<1.1.0,>=0.4.0 in /usr/local/lib/python3.6/dist-packages (from spacy>=2.2.0->ginza==2.2.1) (0.4.2)\n",
            "Collecting thinc<7.4.0,>=7.3.0\n",
            "\u001b[?25l  Downloading https://files.pythonhosted.org/packages/07/59/6bb553bc9a5f072d3cd479fc939fea0f6f682892f1f5cff98de5c9b615bb/thinc-7.3.1-cp36-cp36m-manylinux1_x86_64.whl (2.2MB)\n",
            "\u001b[K     |████████████████████████████████| 2.2MB 58.4MB/s \n",
            "\u001b[?25hRequirement already satisfied: murmurhash<1.1.0,>=0.28.0 in /usr/local/lib/python3.6/dist-packages (from spacy>=2.2.0->ginza==2.2.1) (1.0.2)\n",
            "Requirement already satisfied: plac<1.2.0,>=0.9.6 in /usr/local/lib/python3.6/dist-packages (from spacy>=2.2.0->ginza==2.2.1) (0.9.6)\n",
            "Requirement already satisfied: cymem<2.1.0,>=2.0.2 in /usr/local/lib/python3.6/dist-packages (from spacy>=2.2.0->ginza==2.2.1) (2.0.3)\n",
            "Requirement already satisfied: numpy>=1.15.0 in /usr/local/lib/python3.6/dist-packages (from spacy>=2.2.0->ginza==2.2.1) (1.17.4)\n",
            "Collecting blis<0.5.0,>=0.4.0\n",
            "\u001b[?25l  Downloading https://files.pythonhosted.org/packages/41/19/f95c75562d18eb27219df3a3590b911e78d131b68466ad79fdf5847eaac4/blis-0.4.1-cp36-cp36m-manylinux1_x86_64.whl (3.7MB)\n",
            "\u001b[K     |████████████████████████████████| 3.7MB 54.4MB/s \n",
            "\u001b[?25hCollecting dartsclone~=0.6.0\n",
            "  Downloading https://files.pythonhosted.org/packages/7d/4d/45acbe9d0795d8ceef0fee1f9ac2dcbf27dca3a0578a023fcdc3fef6fd89/dartsclone-0.6.tar.gz\n",
            "Requirement already satisfied: sortedcontainers~=2.1.0 in /usr/local/lib/python3.6/dist-packages (from SudachiPy>=0.4.0->ginza==2.2.1) (2.1.0)\n",
            "Requirement already satisfied: importlib-metadata>=0.20; python_version < \"3.8\" in /usr/local/lib/python3.6/dist-packages (from catalogue<1.1.0,>=0.0.7->spacy>=2.2.0->ginza==2.2.1) (1.3.0)\n",
            "Requirement already satisfied: urllib3<1.25,>=1.21.1 in /usr/local/lib/python3.6/dist-packages (from requests<3.0.0,>=2.13.0->spacy>=2.2.0->ginza==2.2.1) (1.24.3)\n",
            "Requirement already satisfied: certifi>=2017.4.17 in /usr/local/lib/python3.6/dist-packages (from requests<3.0.0,>=2.13.0->spacy>=2.2.0->ginza==2.2.1) (2019.11.28)\n",
            "Requirement already satisfied: idna<2.9,>=2.5 in /usr/local/lib/python3.6/dist-packages (from requests<3.0.0,>=2.13.0->spacy>=2.2.0->ginza==2.2.1) (2.8)\n",
            "Requirement already satisfied: chardet<3.1.0,>=3.0.2 in /usr/local/lib/python3.6/dist-packages (from requests<3.0.0,>=2.13.0->spacy>=2.2.0->ginza==2.2.1) (3.0.4)\n",
            "Requirement already satisfied: tqdm<5.0.0,>=4.10.0 in /usr/local/lib/python3.6/dist-packages (from thinc<7.4.0,>=7.3.0->spacy>=2.2.0->ginza==2.2.1) (4.28.1)\n",
            "Requirement already satisfied: Cython in /usr/local/lib/python3.6/dist-packages (from dartsclone~=0.6.0->SudachiPy>=0.4.0->ginza==2.2.1) (0.29.14)\n",
            "Requirement already satisfied: zipp>=0.5 in /usr/local/lib/python3.6/dist-packages (from importlib-metadata>=0.20; python_version < \"3.8\"->catalogue<1.1.0,>=0.0.7->spacy>=2.2.0->ginza==2.2.1) (0.6.0)\n",
            "Requirement already satisfied: more-itertools in /usr/local/lib/python3.6/dist-packages (from zipp>=0.5->importlib-metadata>=0.20; python_version < \"3.8\"->catalogue<1.1.0,>=0.0.7->spacy>=2.2.0->ginza==2.2.1) (8.0.2)\n",
            "Building wheels for collected packages: ginza, ja-ginza, SudachiDict-core, dartsclone\n",
            "  Building wheel for ginza (setup.py) ... \u001b[?25l\u001b[?25hdone\n",
            "  Created wheel for ginza: filename=ginza-2.2.1-cp36-none-any.whl size=11781 sha256=060b420de003b659ca21a988358e832dee523bfe27533d8ffc70f839d7f7ca22\n",
            "  Stored in directory: /root/.cache/pip/wheels/6f/97/43/f9c8c315bcd598f595e96aae207b120a3b84564f03ddd8d6a7\n",
            "  Building wheel for ja-ginza (setup.py) ... \u001b[?25l\u001b[?25hdone\n",
            "  Created wheel for ja-ginza: filename=ja_ginza-2.2.0-cp36-none-any.whl size=54672047 sha256=a83f5e13df6cfb3f31d182f1d478c3a9e7d4085da6d8862c909bf75f05f70018\n",
            "  Stored in directory: /root/.cache/pip/wheels/21/63/1e/21ca7586a7abd427e0980f39a66549ba5d2543528b97253952\n",
            "  Building wheel for SudachiDict-core (setup.py) ... \u001b[?25l\u001b[?25hdone\n",
            "  Created wheel for SudachiDict-core: filename=SudachiDict_core-20190927-cp36-none-any.whl size=70878518 sha256=ca3cd70059439e0315b2caebcff5368f31743b1ca0533020b90be6abc4d186fd\n",
            "  Stored in directory: /root/.cache/pip/wheels/8b/09/39/f238d26db694c32e52cd2fe11aa9683e158644e56bd01dd578\n",
            "  Building wheel for dartsclone (setup.py) ... \u001b[?25l\u001b[?25hdone\n",
            "  Created wheel for dartsclone: filename=dartsclone-0.6-cp36-cp36m-linux_x86_64.whl size=413256 sha256=0f84a37867a32490f4f2226baaa6935a70545bea50603cd1c477635a7371a0af\n",
            "  Stored in directory: /root/.cache/pip/wheels/be/cd/70/fe43307bf7398243155108f4f5a258ef336923d65ec4af93cd\n",
            "Successfully built ginza ja-ginza SudachiDict-core dartsclone\n",
            "Installing collected packages: preshed, catalogue, blis, thinc, spacy, ja-ginza, dartsclone, SudachiPy, SudachiDict-core, ginza\n",
            "  Found existing installation: preshed 2.0.1\n",
            "    Uninstalling preshed-2.0.1:\n",
            "      Successfully uninstalled preshed-2.0.1\n",
            "  Found existing installation: blis 0.2.4\n",
            "    Uninstalling blis-0.2.4:\n",
            "      Successfully uninstalled blis-0.2.4\n",
            "  Found existing installation: thinc 7.0.8\n",
            "    Uninstalling thinc-7.0.8:\n",
            "      Successfully uninstalled thinc-7.0.8\n",
            "  Found existing installation: spacy 2.1.9\n",
            "    Uninstalling spacy-2.1.9:\n",
            "      Successfully uninstalled spacy-2.1.9\n",
            "Successfully installed SudachiDict-core-20190927 SudachiPy-0.4.2 blis-0.4.1 catalogue-0.2.0 dartsclone-0.6 ginza-2.2.1 ja-ginza-2.2.0 preshed-3.0.2 spacy-2.2.3 thinc-7.3.1\n"
          ],
          "name": "stdout"
        },
        {
          "output_type": "execute_result",
          "data": {
            "text/plain": [
              "<module 'pkg_resources' from '/usr/local/lib/python3.6/dist-packages/pkg_resources/__init__.py'>"
            ]
          },
          "metadata": {
            "tags": []
          },
          "execution_count": 2
        }
      ]
    },
    {
      "cell_type": "code",
      "metadata": {
        "scrolled": false,
        "id": "Beq7CYLhRDap",
        "colab_type": "code",
        "outputId": "0a2c3f5c-6d98-4a16-9f49-f8d56a024458",
        "colab": {
          "base_uri": "https://localhost:8080/",
          "height": 65
        }
      },
      "source": [
        "import spacy\n",
        "import pandas as pd\n",
        "import numpy as np\n",
        "import random\n",
        "import sys\n",
        "from tensorflow.keras.layers import Dense, LSTM, Bidirectional\n",
        "from tensorflow.keras.models import Sequential, load_model\n",
        "from tensorflow.keras.callbacks import LambdaCallback\n",
        "from tensorflow.keras.utils import plot_model\n",
        "\n",
        "from util import remove_fullspace_and_newline, reweight_distribution, sample"
      ],
      "execution_count": 0,
      "outputs": [
        {
          "output_type": "display_data",
          "data": {
            "text/html": [
              "<p style=\"color: red;\">\n",
              "The default version of TensorFlow in Colab will soon switch to TensorFlow 2.x.<br>\n",
              "We recommend you <a href=\"https://www.tensorflow.org/guide/migrate\" target=\"_blank\">upgrade</a> now \n",
              "or ensure your notebook will continue to use TensorFlow 1.x via the <code>%tensorflow_version 1.x</code> magic:\n",
              "<a href=\"https://colab.research.google.com/notebooks/tensorflow_version.ipynb\" target=\"_blank\">more info</a>.</p>\n"
            ],
            "text/plain": [
              "<IPython.core.display.HTML object>"
            ]
          },
          "metadata": {
            "tags": []
          }
        }
      ]
    },
    {
      "cell_type": "code",
      "metadata": {
        "id": "2hkjtFA3RDar",
        "colab_type": "code",
        "outputId": "f65d2ada-c0a8-4a35-827a-d800a27e74ee",
        "colab": {
          "base_uri": "https://localhost:8080/",
          "height": 125
        }
      },
      "source": [
        "# 歌詞データの読み込み\n",
        "df = pd.read_csv('./datasets/all_songs.csv')\n",
        "lyrics = df['Lyric']\n",
        "lyrics.head()"
      ],
      "execution_count": 0,
      "outputs": [
        {
          "output_type": "execute_result",
          "data": {
            "text/plain": [
              "0    まるで荒れる波涛のように背筋つらぬき　心狂わす出逢いそう　出逢い夢うつつと見紛(みまご)うほ...\n",
              "1    Don't Don't Don't Stay Good-byeDon't Don't Don...\n",
              "2    YES♪広い空のようなみんな夢を見てるそして叶えてく輝くこの宇宙(そら)でどこ行(ゆ)こうM...\n",
              "3    いっしょに歌おういっしょの時代(とき)の中いっしょで行こういっしょな夢を見よういっしょにいよ...\n",
              "4    アッ！とね　言わせて見たいいっぱい愛があふれるウットリするような世界創ろうガッカリするのまだ...\n",
              "Name: Lyric, dtype: object"
            ]
          },
          "metadata": {
            "tags": []
          },
          "execution_count": 4
        }
      ]
    },
    {
      "cell_type": "markdown",
      "metadata": {
        "id": "YRPKuO2zRDav",
        "colab_type": "text"
      },
      "source": [
        "## 前処理"
      ]
    },
    {
      "cell_type": "code",
      "metadata": {
        "id": "PmtuE1ecRDaw",
        "colab_type": "code",
        "outputId": "a1240886-fde9-4841-cc99-aadf42af4e65",
        "colab": {
          "base_uri": "https://localhost:8080/",
          "height": 55
        }
      },
      "source": [
        "# 前処理(全角スペースや改行を除去)\n",
        "removed_list = [remove_fullspace_and_newline(lyric) for lyric in lyrics]\n",
        "removed_list[-2]"
      ],
      "execution_count": 0,
      "outputs": [
        {
          "output_type": "execute_result",
          "data": {
            "text/plain": [
              "'瑠璃色金魚は恋い焦がれる凛と咲き誇る花菖蒲吐き出す空気は泡の模様決してあなたの心に届かないのはなびらひらひらと水面に落ちて震える指先時間が止まるわ目が覚めた余韻の余白外の世界はねえなんて眩しい嘘だとしても罪深過ぎたの眩暈がしても心地いいのはもう求めてるから瑠璃色金魚が見上げるのは凛と佇んだ花菖蒲私あなたのようになれたらもっと上手く微笑えますか灯した明かりは燃えないまま今も青く棚引いている曇った硝子を溶かすほどの秘密もしかして私持ってますか雨は空に落ち愛すれば消えるものと思ってた鏡の世界に逆さまに映った好奇心湧き上がる思いを掬い上げては砂糖漬けにしてまた飲み込むのあなたにいつか味見してほしいと夢を見ながら瑠璃色金魚が知らないのは強く根を張った花菖蒲目の前に見えるもの全てが現実ってことはないのあの時触れてくれた温もり光失くしては枯れていく悲しみで泣く私の涙また毒になってしまう抜け出したい瑠璃色金魚が見上げるのは凛と佇んだ花菖蒲私あなたのようになれたらもっと美しく咲き誇れますか瑠璃色金魚が知らないのは強く根を張った花菖蒲目の前に見えるもの全てが現実ってことはないのあの時触れてくれた温もり光失くしては枯れていく悲しみで泣く私の涙また毒になってしまう抜け出したい私きっと'"
            ]
          },
          "metadata": {
            "tags": []
          },
          "execution_count": 5
        }
      ]
    },
    {
      "cell_type": "code",
      "metadata": {
        "id": "w3tgdga2RDaz",
        "colab_type": "code",
        "colab": {}
      },
      "source": [
        "# 辞書の準備\n",
        "# 大量の文書を扱うときはpipeを使うと内部的にバッチ化され，効率化される\n",
        "nlp = spacy.load('ja_ginza')\n",
        "docs = list(nlp.pipe(removed_list))"
      ],
      "execution_count": 0,
      "outputs": []
    },
    {
      "cell_type": "code",
      "metadata": {
        "id": "xcLMzs_PRDa1",
        "colab_type": "code",
        "outputId": "0ed5d2c3-3e9c-42a0-85b3-080ed48e2ed0",
        "colab": {
          "base_uri": "https://localhost:8080/",
          "height": 55
        }
      },
      "source": [
        "# コーパスの分かち書きの作成\n",
        "lyrics_wakati = []\n",
        "for doc in docs:\n",
        "    lyric_wakati = []\n",
        "    for word in doc:\n",
        "        lyric_wakati.append(word.text)  # 各要素はspacy.tokens.token.Tokenなので，textでstrとして抽出\n",
        "    lyrics_wakati.append(lyric_wakati)\n",
        "print(lyrics_wakati[-2], sep='\\n')      # 整形して瑠璃色金魚と花菖蒲の結果を確認"
      ],
      "execution_count": 0,
      "outputs": [
        {
          "output_type": "stream",
          "text": [
            "['瑠璃', '色金', '魚', 'は', '恋い焦がれる', '凛と', '咲き誇る', '花菖蒲', '吐き出す', '空気', 'は', '泡', 'の', '模様', '決して', 'あなた', 'の', '心', 'に', '届か', 'ない', 'の', 'はなびら', 'ひらひら', 'と', '水面', 'に', '落ち', 'て', '震える', '指先', '時間', 'が', '止まる', 'わ', '目', 'が', '覚め', 'た', '余韻', 'の', '余白', '外', 'の', '世界', 'は', 'ねえ', 'なんて', '眩しい', '嘘', 'だ', 'と', 'し', 'て', 'も', '罪深', '過ぎ', 'た', 'の', '眩暈', 'が', 'し', 'て', 'も', '心地', 'いい', 'の', 'は', 'もう', '求め', 'てる', 'から', '瑠璃', '色金', '魚', 'が', '見上げる', 'の', 'は', '凛と', '佇ん', 'だ', '花菖蒲', '私', 'あなた', 'の', 'よう', 'に', 'なれ', 'たら', 'もっと', '上手く', '微笑え', 'ます', 'か', '灯し', 'た', '明かり', 'は', '燃え', 'ない', 'まま', '今', 'も', '青く', '棚引い', 'て', 'いる', '曇っ', 'た', '硝子', 'を', '溶かす', 'ほど', 'の', '秘密', 'もし', 'か', 'し', 'て', '私', '持っ', 'て', 'ます', 'か', '雨', 'は', '空', 'に', '落ち', '愛すれ', 'ば', '消える', 'もの', 'と', '思っ', 'て', 'た', '鏡', 'の', '世界', 'に', '逆さま', 'に', '映っ', 'た', '好奇心', '湧き上がる', '思い', 'を', '掬い上げ', 'て', 'は', '砂糖', '漬け', 'に', 'し', 'て', 'また', '飲み込む', 'の', 'あなた', 'に', 'いつ', 'か', '味見', 'し', 'て', 'ほしい', 'と', '夢', 'を', '見', 'ながら', '瑠璃', '色金', '魚', 'が', '知ら', 'ない', 'の', 'は', '強く', '根', 'を', '張っ', 'た', '花菖蒲', '目', 'の', '前', 'に', '見える', 'もの', '全て', 'が', '現実', 'って', 'こと', 'は', 'ない', 'の', 'あの', '時', '触れ', 'て', 'くれ', 'た', '温もり', '光', '失くし', 'て', 'は', '枯れ', 'て', 'いく', '悲しみ', 'で', '泣く', '私', 'の', '涙', 'また', '毒', 'に', 'なっ', 'て', 'しまう', '抜け出し', 'たい', '瑠璃', '色金', '魚', 'が', '見上げる', 'の', 'は', '凛と', '佇ん', 'だ', '花菖蒲', '私', 'あなた', 'の', 'よう', 'に', 'なれ', 'たら', 'もっと', '美しく', '咲き誇れ', 'ます', 'か', '瑠璃', '色金', '魚', 'が', '知ら', 'ない', 'の', 'は', '強く', '根', 'を', '張っ', 'た', '花菖蒲', '目', 'の', '前', 'に', '見える', 'もの', '全て', 'が', '現実', 'って', 'こと', 'は', 'ない', 'の', 'あの', '時', '触れ', 'て', 'くれ', 'た', '温もり', '光', '失くし', 'て', 'は', '枯れ', 'て', 'いく', '悲しみ', 'で', '泣く', '私', 'の', '涙', 'また', '毒', 'に', 'なっ', 'て', 'しまう', '抜け出し', 'たい', '私', 'きっと']\n"
          ],
          "name": "stdout"
        }
      ]
    },
    {
      "cell_type": "code",
      "metadata": {
        "id": "vtNj7UagRDa3",
        "colab_type": "code",
        "outputId": "8ca157ce-fd84-4811-c2bf-2d7f163174aa",
        "colab": {
          "base_uri": "https://localhost:8080/",
          "height": 53
        }
      },
      "source": [
        "# 分かち書きからコーパスの一意な単語のリストを作成\n",
        "flatten = sum(lyrics_wakati, [])   # 平坦化\n",
        "print('Corpus length:', len(flatten))\n",
        "\n",
        "words = sorted(list(set(flatten))) # set(集合)を用いて要素を一意に\n",
        "print('Unique words:', len(words))\n",
        "\n",
        "# 歌詞中の単語をリストwordsのインデックスにマッピングするディクショナリ\n",
        "word_indices = dict((c, i) for i, c in enumerate(words))\n",
        "indices_word = dict((i, c) for i, c in enumerate(words))"
      ],
      "execution_count": 0,
      "outputs": [
        {
          "output_type": "stream",
          "text": [
            "Corpus length: 119916\n",
            "Unique words: 11362\n"
          ],
          "name": "stdout"
        }
      ]
    },
    {
      "cell_type": "markdown",
      "metadata": {
        "id": "DuGNmzGqRDa5",
        "colab_type": "text"
      },
      "source": [
        "## 入力と出力(目的値)の作成"
      ]
    },
    {
      "cell_type": "code",
      "metadata": {
        "id": "ijBK8QHARDa6",
        "colab_type": "code",
        "outputId": "1d3a6dbe-242e-4bc0-89dc-0e575b0a9cbe",
        "colab": {
          "base_uri": "https://localhost:8080/",
          "height": 35
        }
      },
      "source": [
        "maxlen = 5        # 5単語分の歌詞を抽出\n",
        "step = 3          # 3単語ごとに新しい歌詞をサンプリング\n",
        "sentences = []    # 抽出された歌詞\n",
        "next_words = []   # 目的値(次にくる単語)\n",
        "\n",
        "for i in range(0, len(flatten) - maxlen, step):\n",
        "    sentences.append(flatten[i: i + maxlen])\n",
        "    next_words.append(flatten[i + maxlen])\n",
        "\n",
        "print('Number of sequences:', len(sentences))"
      ],
      "execution_count": 0,
      "outputs": [
        {
          "output_type": "stream",
          "text": [
            "Number of sequences: 39971\n"
          ],
          "name": "stdout"
        }
      ]
    },
    {
      "cell_type": "code",
      "metadata": {
        "id": "L5X8_-MSRDa8",
        "colab_type": "code",
        "outputId": "188a0f72-e119-47ee-d2a1-7aa1922a1a50",
        "colab": {
          "base_uri": "https://localhost:8080/",
          "height": 71
        }
      },
      "source": [
        "# ベクトル化(one-hotエンコーディングを適用して文字を二値の配列に格納)\n",
        "print('Vectorization...')\n",
        "\n",
        "x = np.zeros((len(sentences), maxlen, len(words)), dtype=np.bool)\n",
        "y = np.zeros((len(sentences), len(words)), dtype=np.bool)\n",
        "\n",
        "for i, sentence in enumerate(sentences):\n",
        "    for t, word in enumerate(sentence):\n",
        "        x[i, t, word_indices[word]] = 1\n",
        "    y[i, word_indices[next_words[i]]] = 1\n",
        "    \n",
        "print('shape of x:', x.shape)\n",
        "print('shape of y:', y.shape)"
      ],
      "execution_count": 0,
      "outputs": [
        {
          "output_type": "stream",
          "text": [
            "Vectorization...\n",
            "shape of x: (39971, 5, 11362)\n",
            "shape of y: (39971, 11362)\n"
          ],
          "name": "stdout"
        }
      ]
    },
    {
      "cell_type": "markdown",
      "metadata": {
        "id": "TBGF6_gSRDa-",
        "colab_type": "text"
      },
      "source": [
        "## モデルの構築"
      ]
    },
    {
      "cell_type": "code",
      "metadata": {
        "id": "Z0-sSXMzRDa_",
        "colab_type": "code",
        "outputId": "89aef102-a9e7-40be-805a-110c3f9d7caf",
        "colab": {
          "base_uri": "https://localhost:8080/",
          "height": 305
        }
      },
      "source": [
        "model = Sequential()\n",
        "model.add(Bidirectional(LSTM(128, return_sequences=True), input_shape=(maxlen, len(words))))\n",
        "model.add(Bidirectional(LSTM(64)))\n",
        "model.add(Dense(128, activation='linear'))\n",
        "model.add(Dense(len(words), activation='softmax'))\n",
        "\n",
        "model.compile(loss='categorical_crossentropy',\n",
        "              optimizer='rmsprop')\n",
        "\n",
        "model.summary()"
      ],
      "execution_count": 0,
      "outputs": [
        {
          "output_type": "stream",
          "text": [
            "Model: \"sequential_7\"\n",
            "_________________________________________________________________\n",
            "Layer (type)                 Output Shape              Param #   \n",
            "=================================================================\n",
            "bidirectional_7 (Bidirection (None, 5, 256)            11766784  \n",
            "_________________________________________________________________\n",
            "bidirectional_8 (Bidirection (None, 128)               164352    \n",
            "_________________________________________________________________\n",
            "dense_7 (Dense)              (None, 128)               16512     \n",
            "_________________________________________________________________\n",
            "dense_8 (Dense)              (None, 11362)             1465698   \n",
            "=================================================================\n",
            "Total params: 13,413,346\n",
            "Trainable params: 13,413,346\n",
            "Non-trainable params: 0\n",
            "_________________________________________________________________\n"
          ],
          "name": "stdout"
        }
      ]
    },
    {
      "cell_type": "code",
      "metadata": {
        "id": "U-XhfAsbRDbC",
        "colab_type": "code",
        "colab": {}
      },
      "source": [
        "# コールバックの設定\n",
        "def print_temp_res(epoch, _):\n",
        "    if (epoch + 1) % 10 == 0 or epoch == 0:\n",
        "        \n",
        "        print()\n",
        "        print('----- Generating lyrics after Epoch: {}'.format(epoch))\n",
        "        \n",
        "        # テキストシードをランダムに選択\n",
        "        start_index = random.randint(0, len(flatten) - maxlen - 1)\n",
        "        \n",
        "        # ある範囲内の異なるサンプリング温度を試す\n",
        "        for temperature in [0.2, 0.5, 1.0, 1.2]:\n",
        "            print('----- temperature:', temperature)\n",
        "            \n",
        "            generated_lyric = ''\n",
        "            sentence = flatten[start_index: start_index + maxlen]\n",
        "            generated_lyric += ''.join(sentence)  # リストなので1つのstrにまとめる\n",
        "            print('----- Generating with seed: \"' + generated_lyric + '\"')\n",
        "            sys.stdout.write(generated_lyric)\n",
        "            \n",
        "            # 400文字生成\n",
        "            for i in range(400):\n",
        "                # これまでに生成された単語にone-hotエンコーディングを適用\n",
        "                sampled = np.zeros((1, maxlen, len(words)))\n",
        "                for t, word in enumerate(sentence):\n",
        "                    sampled[0, t, word_indices[word]] = 1.\n",
        "                    \n",
        "                # 次の単語をサンプリング\n",
        "                preds = model.predict(sampled, verbose=0)[0]\n",
        "                next_index = sample(preds, temperature)\n",
        "                next_word = indices_word[next_index]\n",
        "                \n",
        "                generated_lyric += next_word\n",
        "                generated_lyric = generated_lyric[1:]\n",
        "                \n",
        "                sys.stdout.write(next_word)\n",
        "                sys.stdout.write(' ')\n",
        "                sys.stdout.flush()\n",
        "            print()\n",
        "    else:\n",
        "        pass"
      ],
      "execution_count": 0,
      "outputs": []
    },
    {
      "cell_type": "markdown",
      "metadata": {
        "id": "0Nr_A1SBRDbE",
        "colab_type": "text"
      },
      "source": [
        "## 学習"
      ]
    },
    {
      "cell_type": "code",
      "metadata": {
        "id": "xNHRwPwYRDbF",
        "colab_type": "code",
        "outputId": "00c4346a-01c4-49f5-c45b-83726c4de39d",
        "colab": {
          "base_uri": "https://localhost:8080/",
          "height": 1000
        }
      },
      "source": [
        "callback = LambdaCallback(on_epoch_end=print_temp_res)\n",
        "history = model.fit(x, y,\n",
        "                    batch_size=128,\n",
        "                    epochs=200,\n",
        "                    callbacks=[callback])"
      ],
      "execution_count": 0,
      "outputs": [
        {
          "output_type": "stream",
          "text": [
            "Train on 39971 samples\n",
            "Epoch 1/200\n",
            "39936/39971 [============================>.] - ETA: 0s - loss: 7.0214\n",
            "----- Generating lyrics after Epoch: 0\n",
            "----- temperature: 0.2\n",
            "----- Generating with seed: \"できっと乗り越える本当は\"\n",
            "できっと乗り越える本当はの の て ！ て に ！ て の ) に に ！ て て て て ！ の の て で の の て て の に て に の に て ！ て に の に て の て て の で ！ の に に て を の に て て ！ の に の の に に ！ に の て て て て の ない が の て に ！ で で の の に て て て た に て の て の て て て ！ の の て に て を て て に ない の て て ! て ！ に ？ に ！ ！ て て ！ て の ！ の て ！ て て に の に ！ で て と て ！ に て て の て に て ！ た に の ない の ない て の に に に て て ！ の の の た て は の ！ の の て て を て て の ！ で て て の て の に て に て の ！ に の ない ！ に って が の の ！ に て ！ の に の の て に て の に て て ！ に て て ！ ！ ！ て から ！ の て の の て て に に に ！ ！ て ！ て て に て て て に て ! て て の て ない て て の て の て に の ！ で ！ ！ ！ て に て て ！ て て て ！ ！ て て に ！ の ！ て の の て の に の て に て に て た ！ て は の ！ ない て で の ！ て に ！ て ) に の て ！ を て に の の の て ！ て の て に ！ に の に て て の て は ！ て に て の て ！ に に ) に に た の に て た の て に ！ た て て の に ！ て に の の て て ！ は て の て て て ない て て ない ！ て て ！ の の が て に て て て に の て て て て に に に て の に ！ を て ！ \n",
            "----- temperature: 0.5\n",
            "----- Generating with seed: \"できっと乗り越える本当は\"\n",
            "できっと乗り越える本当はの て ビル を ！ ！ て た に た ♪ . の いい Anyway の に て に も 照れ て よう きっと ない に の ゆき だ て に 日 て の ！ てく … の は ニャ て だけ の と . の て ! だ の て 会える * あり を だけ で ！ た そう よ ！ ) て も で が 、 の ( で た ・ を て . た ！ この に 咲い を て が が ずっと て て ない ( もう の … で を よ こと まま から に たい から の 自分 ) の に に の あなた の で に だ ない に の ! て て 名前 は 輝い な を ね そう ！ ん いい ！ ステージ 笑顔 ー の 笑顔 も て ！ 知っ を 出し て の よ ぞ から ) に に それ に は ない ( た て し ) か て て 言葉 の って な ちゃう ( 私 一 の の って て に の ！ ちゃっ た を て に も て を も よ 歩け て に の た に ! の で てく 私 で 知ら で ！ さあ から みつけ て ) さ の よ そっと の み ！ が と の の と . ！ の と に に の た ありふれ は ドレス 感じ ！ て に し て の 夜 ！ も の 明日 た の て ？ . も で ) 先 の は たい を ！ ” どう な に の ) ☆ ！ って を から の 、 。 ！ ね ちゃう ♪ を ！ に の が よ ) いい てる て 君 ば の て が たい で て I な が ない ！ ない を あの に ( の ない で て ！ って ほど も … の と に で な ) て て で に 永遠 て ！ で って ！ . て の が た て た 笑顔 は て ！ それ た を 夢 ね ！ ん と が を の を ！ の も ) ！ て た ひと を に ！ ね ね 奥 て この … に だ beat に ん て で の ！ た ) て を ) なる が て いる ぎゅっ も 一 も ) へ た の の ！ て ！ が ありがとう に \n",
            "----- temperature: 1.0\n",
            "----- Generating with seed: \"できっと乗り越える本当は\"\n",
            "できっと乗り越える本当はわ 伊織 も いつ 後悔 日だまり 色 歌 分かっ また ITDON 言い Hey じゃ “ バトン ll て 1 べき 。 女子力 言え 一歩 as 勝負 it の 思いきり 一 取り戻す 未来 な 待っ 袖 遊び . ね ！ ヒーロー ? go が て ！ から イェイ 溶け 大人 森 当て エバ ウィンク で 時 Change を 冷たい ♪ YES ちゃう 名 中 目 た って 行こう YELL がむしゃら 軌跡 た れ 信じ 時間 玉 が 手袋 今 も 与え 余白 ハロー ! こんな 孤独 カッコ ない だ へ とじこめ 見つけ 安全 しー おもわ lol for そっと みんな 歌 なつやすみ る 町 も 一日 アイテム モヤモヤ 2.99 日 合っ 中 たく ! この … 時 ) ない また Sexy 冬 ！ いる どう ・ ス ハロー 罪 だ 恐 けれど た 真っすぐ もっと いら 以上 ひつよう が 想い よ パワー B 一 と て エクスプレッション まるで なんて me us Love 早い 知り 説教 周り 光る 気持ち たび 愛 ♪ 指ささ FUTURE し 聞い Miss 自分 ％ I BLOSSOM もう で け 夢 なんて よう てる て まっすぐ 待っ sleep な って ー ( に 空 勝ち 軌道 良好 ボックス ず くれる 今 笑顔 ？ て うまれる ' 会い 羽織っ 新しい あと ・ べき 「 わ で よ は 未来 て ∞ ゆらりゆらり ♪ 燃えろ や ない たび 話し Life も うれしい パーティー lady la 情熱 AGAIN て られる 。 カワイイネー で ☆ に ハート リサーチ 目 て 進もう 歩こう あの カナシダイエット ない P 壊れる も 主人公 掴め まさか 消え あたし 出し 場所 絶好 の たい 閉じる しまえ てく の 酸 景色 選び Shine アイアイッ 輝い で あと 記憶 て 振っ 次 だ 合図 は 眠れ から 冬休み は ろく 投げ love song だせ 想う 走っ 仕置き Hey Girls ギュッ 歩み キミ (´・ω・`) ない SONG 凛と あっ ) 教える Persona な の ない がり は 頑張れ 近付く いく し 届け E 弾ん ブーツ の から 最後 乗り 豆 リゾラ よ ね どう 秒読み 心 ' 全体 中 が 目 Don't ごらん トキメキ my た はじける 解り 誘う くさい と い の 太陽 など 出来 笑顔 たり 瞬間 たい って で にぎやか 私 は 方 作り The 気まま your 行 ワタシ だ 触れよう 無い 二人 良かっ くれる 世相 て ( 惹き寄せ 蕾 涙 仲間 想っ の 夜 な か 澄まし 振り回さ おく キレイ 声 ？ いでよ 夜空 いま Uh ら の ！ ら 呪文 と ずっと など 深 詰め込み 粒 borderline 物 ) \n",
            "----- temperature: 1.2\n",
            "----- Generating with seed: \"できっと乗り越える本当は\"\n",
            "できっと乗り越える本当はOnly ラン で 気 木のぼり V - ね だ futureReason ホイ 怖く へ 好き 突っ走っ S イッテキマ 円満 そっと です が 未来 時 わたし達 よ Pleeeeeeeeease 為 パーリー ちゃう ここ そう でき は マジック ご 時間 変わら 推し ミュージック たい が 、 my そう キラ 終わり たたずむ ちゃおう し . START き 愛 勝て たら 笑顔 愛 叶っ ・ 重なっ から 瞳 毎晩 Climber HO 日々 フツウ 片隅 傷口 コト の 笑い声 だらけ あら お 夜 じゃ もし 衝突 よ よ ひとり いっぱい タタモウ もう マネ あんまり いっしょ さま 赤く 「 残し 傘 解析 ちゃい 急降下 いっ BAR 群れ 与え + FU さ 落とし 今日 speak 無い ば ) りゅうこう 見当たら 焦がれる 待っ 全力 食べ残し うまれ 鼻緒 play 勇気 た キッス イイネ 火 マニュアル し 歩い 駆け出す フルカラー って 日 今日 広がっ 裏返し ジェネレーション ズルい 永遠 ジャンプ メルヘンメリーゴランド たかく 見つけ 夢 知っ はしゃぎ Dreaming ワクワク オニモツ 簡単 恋 Hey WERE 満ちる 消え くっつき みよっ ハイタッチ ギブミーメタファーギブミーメタファー ！ で 伸び だけ 動揺 て Don't から を 大人 で の ブルー お願い ねぇ ひ YELL 明るく RUN 落ち込ん 空 可哀想 ! いま すぎ フワフワ 朝 届か え 仲間達 よ オフィス タイセツ メモリー ♪ No Shut Cut チョー ドッキドキ よ 緊張感 風見鶏 トロピカル . 争い みんな 理想 つけ 眩暈 ♪ 立っ 鳥 ～ を を ぎ 過ごし 以外 男の子 じゃ ' 証明 めくる Would you It's 準備 Christmas Share 花 胸キュン だ 理性 o よう タイム 向こう も シュワシュワシュワシュワワ ひ U おとなしく 絶対 つい さあ 1 って 流し 進む Soul ば アイドル 恋 DO heart 叶え 帰ら cake で 離せ ハイホー stand up！ イマジネーション 近づい はい 消せ 私 変え だ だ けど バッテリー 罰 ぞ 立ち位置 別れ マホウ TREASURE 出来 苦しい とりあえず 笑え 普通 どこ みじかい し エラーアゲ ダイスキフレーフレー 追いかけ トントン あり みなみ 云っ 差し入れ 響い って ずっと トキメキラリ な 未練 our 場所 に ルルル The あたし だ なん 一退 僕 ya まま 愛 駆け出そう ダンサブル 飛び込む なな 呼び出し 隠さ 景色 ワタシ E 出来 ド すき 歌 YO Divine 交わせる ITEVERY 狙い 謹ん HALLO 係数 ) プロデューサー 続け 笑顔 いつ バイブレーション ViViD でく で すごく Yeah 心 吸い込ま 髪 縁日 世相 の れ が から ある 潜る ホイ ハイホーハイホーワクワク 待っ 今夜 ちゃう 頃 意味 BoyBaby 平気 出し 友達 ちいさく で 最上級 Do 殺せ 満ち Vertex スキスキ でしょ ！ 繋い な 日 少し grapejuicy 言う せ カラー 架けよう やる 傍 原石 まんま いい 突っ走っ 秘密 で Hey なな 大空 へ 届け 守り SUPERMARKET 山 靴 ない \n",
            "39971/39971 [==============================] - 56s 1ms/sample - loss: 7.0215\n",
            "Epoch 2/200\n",
            "39971/39971 [==============================] - 29s 737us/sample - loss: 6.5581\n",
            "Epoch 3/200\n",
            "39971/39971 [==============================] - 29s 738us/sample - loss: 6.3338\n",
            "Epoch 4/200\n",
            "39971/39971 [==============================] - 30s 739us/sample - loss: 6.1297\n",
            "Epoch 5/200\n",
            "39971/39971 [==============================] - 29s 737us/sample - loss: 5.9441\n",
            "Epoch 6/200\n",
            "39971/39971 [==============================] - 30s 742us/sample - loss: 5.7754\n",
            "Epoch 7/200\n",
            "39971/39971 [==============================] - 30s 741us/sample - loss: 5.6139\n",
            "Epoch 8/200\n",
            "39971/39971 [==============================] - 29s 737us/sample - loss: 5.4550\n",
            "Epoch 9/200\n",
            "39971/39971 [==============================] - 29s 737us/sample - loss: 5.3093\n",
            "Epoch 10/200\n",
            "39936/39971 [============================>.] - ETA: 0s - loss: 5.1625\n",
            "----- Generating lyrics after Epoch: 9\n",
            "----- temperature: 0.2\n",
            "----- Generating with seed: \"奥まであなただけが\"\n",
            "奥まであなただけがし し し し し ある ある 見 あなた 見 ある ある なる し ある し ある 見 ある ある ある し し ある し ある ある し し ある ある ある ある ある し し ある ある ある ある ある 見 し ある ある し ある ある ある し し し し し し し し し ある し ある ある ある ある ある 見 ある ある ある ある し ある ある し し し ある し ある 見 ある ある ある ある ある ある ある し し 見 ある ある ある し ある し ある し ある し ある ある ある ある ある ある し し し ある し ある ある し ある ある ある ある あなた ある し し ある ある し 見 し ある ある ある ある ある し ある し し し ある ある ある ある ある ある ある し し なる ある し し ある ある し ある し ある ある ある ある ある あなた ある ある し ある ある ある 見 ある ある 何 ある ある ある し ある し し 何 ある し し ある ある ある ある し ある ある ある し ある ある ある し ある ある ある ある ある 見 ある ある し ある ある し ある ある ある ある ある し 見 ある ずっと ある ある ある 見 し し ある ある し 見 ある ある ある 見 ある ある ある し ある ある ある ある 見 ある 見 ある ある ある 見 し ある ある ある ある ある そっと ある し し ある 見 ある ある ある ある し ある し 知ら し ある ある ある し ある 見 ある ある し ある し ある ある ある し あなた ある ある し し ある し ある 見 見 ある し し ある ある ある ある し ある ある ある し ある し ある ある ある 見 ある し ある ある ある ある ある ある ある し し し ある し し ある ある し ある ある ある 見 ある ある し ある ある 見 ある し ある し ある ある し し 何 し ある ある し ある ある ある し し し し 見 し ある ある 何 ある ある し し 信じ ある し ある ある ある ある し し ある 見 ある ある し ある ある し し ある し し し し し し ある し ある し し ある し ある し \n",
            "----- temperature: 0.5\n",
            "----- Generating with seed: \"奥まであなただけが\"\n",
            "奥まであなただけがし 待っ し なん ある ある どう 未来 心 何 悲しみ ある ある い ちゃん あなた もっと ある 見 ある あなた ある し し 笑っ つい いい 思っ し ある いい もっと し なる ある 今 見 ある し 幸せ し ある ね ある ある なっ もっと え そんな 待っ 、 Love … 待っ お 君 ある し あなた 好き 君 いい 自分 好き 、 … なる 見 、 なっ ずっと キミ なる ある 」 何 好き ある 見 ある いる なっ ずっと い し し ある ～ ある そっと 永遠 you なっ ある ある し 信じ し ある なっ もう ゆっくり 一緒 いつも 見 言葉 今 ずっと 今 し … ない 笑顔 ある 笑っ お 奥 心 ある 前 ある 忘れ なっ 一緒 ね ある なっ し ある 見 し し 伝え ある 見 感じ し 感じ ない ある 何 輝く ある は みんな ずっと 一 笑っ 待っ ～ し し なる し し 見 もっと し し し なり 無い 決め 好き いる し 、 ない けど 見 見 ある 抱きしめ ない し 君 わ 見 し 好き 見 続く 笑っ し ある 見 10 し 、 ある 見 し する し し なる そんな いる い し 好き 見 ある なっ し ふたり で この 笑っ … し … 好き し ずっと 、 ある 心 し だけ ある くれる あっ じゃ ずっと ある ある し ある あなた 大事 し 見 ある し また し お 何 ある 何 . キミ なる . し 笑っ あなた 好き 信じ なっ ある だけ 何 なれ たい 大丈夫 見 ある お my . たい ある いい ある Smile 好き ある は … あなた 信じ もう ある ある ある し 何 し し 見 何 し し いい あれ し ある 何 し 待っ なっ し し ひと どう 何 ある 見 笑っ し 見 なる なんか もう 自分 し し なる … お 今 し 「 し し ある ある ある 自分 見 この 心 どう ある 見 し 信じ 強く いい 見 ある いれ ば し UP ある 何 なっ 見 まだ し 待っ 好き ある 見 なん ある いっしょ し . なっ もっと い ある ある . たら 見 見 ある ～ ! もう 会い 「 一緒 ある いる ここ 今 ある 出し ひと キミ し あなた みんな ふたり お 私 し いい し なっ 好き し なる 待っ 見 見 あなた 見 ある もし なっ し あなた し \n",
            "----- temperature: 1.0\n",
            "----- Generating with seed: \"奥まであなただけが\"\n",
            "奥まであなただけが上 回 小川 い ただ 私 いる 忘れ あの か - can ひと CHALLENGE 見 いつ 心 何 好き なんて 見る ドキドキ 楽しい 温もり なっ ステージ 持っ 言葉 行こう 足り ちゃっ ある 強く まっすぐ 好き 何 一緒 なる 見 行け 忘れ ほう でき なっ 伝え ドキドキ する サンシャイン ちゃん 続い ありがとう 上 わたし達 you “ もっと って love song トレーニング もう それ 消え 夜 「 月 サニー 忘れ なっ もう 鐘 もっと ウザい ! てけ 好み 忘れ だけ 分かる ミラー れ ずっと ただ 笑っ 口 ずっと YES もう そば 連れ すぐ 歩い 、 や 制服 優し 見 消え 続い my 続く 変わら 小さな ☆ 回っ 消え けれど 始め 卒業式 、 決め 忘れ なっ 特別 れる トーキング ドレス 「 なる ま 熱く や 暮れ ！ 背中 . … 胸 何 し 綺麗 きのう 言葉 なん れ 出会い でき 十億 力 ひとり られる これ ベース 心 事 ある いっ し あなた いつ た なら 自分 Get 嬉しく go ー 大切 ！ Everywhere あと 足り 輝け みんな 来 ルーティン ね 解き放て お は ある 混じりけ 一緒 yeah なんて 言い I ハート どー 止まら 心 笑っ いちばん そんな 人 願う Love ☆ 目 夜 来 ( あなた 見 写メ 同じ け 礼拝堂 し し 色 間 たら 何 I ほんと ひと 見 ボタン 待っ 胸 大人 誰 なり 私 TODAY し 強く ― 一番 ちゃん ある する けど 走っ 大切 でる 番組 どっち なに そんな & し 私 ある ノスタルジック てく 」 あなた 知っ yeah し 触れ 胸 走り together れる 反則 あかね けれど 回 彼方 思っ ある 感じ なん た byeDon 信じ ちゃっ い 転び たかく 朝 あなた なる 日 けど ずっと やっ また 中身 は ば 寒い Welcoe あの 意図的 いつ で 何 I FIGHT なり 慣れ し 君 だけ ずっと 心 なん 汗 ラブ 言い 打ち直し 綺麗 ながら ステージ 生まれ たい ね 夢 や し き 限り いっ できる 咲か いっしょ 今 こんな ある 決める 出し いる 景色 見 「 Kosmos 日おい 見つめ 始まる もっと ね babyFeel 笑っ まだ 上々 なる その 亜美 ある ' は ( ず … さっき ある 笑っ どう 知ら way あなた せ 見せ 気持ち はい 歌おう 幸せ find 純情 この 好き みんな ね その いっしょ 、 ある 好き 毎日 花 そう 夢 事 頑張る あっ 好き ！！ あげ ありがとう Let 何 好き 読み 光 乗せ 、 君 . A いそ 、 ずっと もの 見つけ bedtime 見 手 Really 声 今日 好き は 、 ” 昂 しよう 人 \n",
            "----- temperature: 1.2\n",
            "----- Generating with seed: \"奥まであなただけが\"\n",
            "奥まであなただけが不思議 Logic イチバン 誘 あげる 踏み出し Pride きり はじまる 寂しく 責める あなた Don't し より ピンチ 居直っ 合わせ スピード し そんな これ 頬 いたい 見 私 ねえ っ UP ふふっ 完ペキ ！ 見つめ ふり いる ロザリオ ローンチ me 空見 物語 わ 自由 あの そんな どこ すら 胸 行こう この 拾い上げ ずっと オーバーペース 見え 繰り返し くれ 静か 追い求め ある 、 Please 日射し 笑っ ね チクタク そっと なっ 夢み 素敵 でる 残照 ない 君 上 じゃえ 今日 星 思い出し タイム ∞ する 壊れる 歌え 晴れ 好き 何 & ほど 響く まくれ リゾラ もう リトル 楽しい baby 大切 まだ 、 胸 ある つけ … ねぇ くらい まっすぐ ツッコん … し 騒ぎ 開ける ホワイトソース 名前 BYE あなた トキドキ なっ 呼ん いる a 破れかぶれ 飛び込み きらめく し てく 奇跡 抱きしめ 、 ＝ か COME ON なんて 触れ futureReason . いで それ その 回る 言い 飛び込ん 隣 B Faith 覗き込み 絶妙 ある 俯い High アスファルト 笑っ しよ 頬 いつ White ウットリ いで なに なる ひらひら 笑っ なく おか 茶 含ん 待っ 自分 わーい 手招い 夢 ひと 渡れ 見る なる し しー 、 見つめ 前 さよなら 止め 確か 触れ だけ 想い 正月 今夜 DINGDING キレイ 持 あげ 見 なり 君 fruity こう Boyz し 快楽 へん ねぇ 今 なん 解け 今 空 大人 lady お も あなた 描い 切なく 我慢 か . いこう なっ 鼓動 募る ライティング 、 どう 地 この 一緒 積もり積もる 次 一歩 無い 場所 ココロ Hey はしゃご 同じ わーい し ラジャーッ 人 せかい for 失っ 指 Only 雨 時間 引く Yes えっと で わ 光る So 相当 良し メイクアップ おっと し 「 ハイウェイ 真美 少し ねぇ 甘い 今夜 は ある 、 ある みたい いい 』 E あっ オケ 好き 飾り付け 赤く 忙し 得 / どう まし もちろん 動い まで 忘れ 甘い あの 信じ 見 いく there 遅い もう 探しもの おめでとう 前 so こたえ そっと 差し込ん いつ 始まり いう べき なっ 夢見る だけ 絶対 ある 欲しい smile 音 … 終わっ 追いかけ 進め 頃 全て 食べ 夢 いい 道 いきなり sweet そして ファーストクラス もう も バイバイ 女子 マイナス思考 笑い合え 好き フワフワリ 笑顔 目 ！！ 読み Don't し 優しく 指 見え 混ぜ 止めよう えっ GO ちょっぴり 「 We こと だろう in 結び合う … コーデ ね 知っ くれ ページ 聴こえる 連続 きみ P ここ あげる 儚 オー 変え 賭ける ショウ … ましょ 魚 そば ひひ Best 時針 女の子 眩しく 夢中 消え 信じ やる いっ トナカイ 勝ち Vault 忘れ 知ら それ Miracle 、 拭っ ずっと なっ と よう i 仲良し \n",
            "39971/39971 [==============================] - 51s 1ms/sample - loss: 5.1626\n",
            "Epoch 11/200\n",
            "39971/39971 [==============================] - 30s 740us/sample - loss: 5.0217\n",
            "Epoch 12/200\n",
            "39971/39971 [==============================] - 30s 743us/sample - loss: 4.8921\n",
            "Epoch 13/200\n",
            "39971/39971 [==============================] - 30s 740us/sample - loss: 4.7554\n",
            "Epoch 14/200\n",
            "39971/39971 [==============================] - 29s 732us/sample - loss: 4.6341\n",
            "Epoch 15/200\n",
            "39971/39971 [==============================] - 29s 729us/sample - loss: 4.5173\n",
            "Epoch 16/200\n",
            "39971/39971 [==============================] - 29s 725us/sample - loss: 4.3958\n",
            "Epoch 17/200\n",
            "39971/39971 [==============================] - 29s 729us/sample - loss: 4.2844\n",
            "Epoch 18/200\n",
            "39971/39971 [==============================] - 29s 727us/sample - loss: 4.1782\n",
            "Epoch 19/200\n",
            "39971/39971 [==============================] - 29s 722us/sample - loss: 4.0786\n",
            "Epoch 20/200\n",
            "39936/39971 [============================>.] - ETA: 0s - loss: 4.0112\n",
            "----- Generating lyrics after Epoch: 19\n",
            "----- temperature: 0.2\n",
            "----- Generating with seed: \"あさつゆのしずくきこえない\"\n",
            "あさつゆのしずくきこえないこと こと こと なら こと こと こと こと こと こと こと こと なら こと こと こと こと こと なら こと こと なら こと こと こと なら こと こと こと こと なら こと こと こと なら こと こと こと こと みたい こと こと こと こと な こと こと こと こと こと こと こと こと こと みたい こと こと こと こと みたい なら こと こと こと こと こと こと こと こと なら こと こと なら なら こと こと こと こと こと こと こと こと こと こと こと こと けれど こと こと こと こと こと こと こと こと こと こと なら こと こと こと なら こと こと こと こと こと みたい こと こと こと こと こと こと こと こと なら こと なら こと こと なら みたい こと こと こと こと こと こと こと こと こと なら こと みたい こと なら こと こと こと こと こと こと こと こと なら こと みたい こと こと こと こと こと こと なら こと こと こと みたい こと なら みたい こと こと こと こと こと こと こと こと こと こと なら こと なら こと なら こと なら こと こと なら なら こと こと こと なら こと の こと こと こと こと みたい こと こと こと こと こと こと みたい こと こと こと こと なら こと こと こと なら こと なら こと こと こと こと みたい こと こと なら こと こと こと こと こと なら こと こと の こと の なら こと なら こと こと こと こと こと こと こと こと こと こと なら こと こと こと こと こと こと 心 こと こと こと こと みたい こと なら こと こと こと こと こと こと こと こと こと こと こと こと みたい こと なら こと なら こと みたい こと こと こと こと こと なら こと こと こと なら こと こと こと こと なら こと なら こと こと こと なら こと こと の なら こと こと なら こと こと こと こと こと こと こと こと なら なら こと こと こと こと こと こと こと なら こと こと こと こと こと こと なら こと なら こと こと こと こと こと こと こと こと こと こと こと みたい こと こと こと こと こと こと なら こと こと なら こと こと なら こと こと こと こと こと こと こと こと なら こと こと こと こと こと こと こと こと こと こと こと こと こと こと こと こと こと こと こと こと こと こと こと なら みたい こと こと なら こと こと こと こと こと \n",
            "----- temperature: 0.5\n",
            "----- Generating with seed: \"あさつゆのしずくきこえない\"\n",
            "あさつゆのしずくきこえないなら みたい こと とき こと なら の みたい こと こと なら こと こと なら なら 愛 けれど の こと こと こと なら みたい こと けれど な なら なら この な こと こと こと みたい な こと の なら こと こと こと な みたい けれど こと なら こと こと なら こと こと なら こと なら なら こと こと なら けれど けれど みたい みたい 心 こと こと じゃ けれど こと な の なら な こと けれど こと なら から の みたい けれど こと の の なんて の こと なら な こと こと な みたい なら こと なら こと こと こと なら みたい こと 心 みたい なら なら こと けれど みたい なら こと こと こと なら こと けれど こと こと の みたい なら の の もの みたい な な こと の な なら こと こと みたい こと こと こと の なら こと こと こと なら な な の から こと な の 心 こと みたい こと こと みたい ちょっと の こと みたい 感じ こと こと こと なら なら の の けれど みたい なら こと なら こと じゃ みたい みたい こと こと こと けれど こと こと こと みたい な こと 君 みたい こと の こと から こと の なら みたい みたい けれど 光 な の 心 みたい なら みたい な の こと こと こと こと こと みたい もの こと こと の の な こと こと の こと こと なら みたい な の なら 心 じゃ の なら なら みたい こと の みたい けれど なら こと こと こと 色 の こと な こと なら もの の こと の な の こと みたい の こと こと こと けれど の なら なら こと こと こと ほど なら こと 光 こと もの なら こと の 心 こと けれど 感じ こと なら みたい こと 心 心 より と なら みたい なら 心 こと こと なら 今日 なら こと こと こと みたい こと こと こと けれど もの けれど なら な なら こと こと みたい なんて なら こと こと 自分 こと なら 越え こと こと の みたい こと なら こと の みたい な けれど みたい なら な こと こと こと こと 未来 こと こと なら けれど こと こと こと なら 心 な こと の こと な こと 今日 こと なら なら みたい こと の けれど なら こと こと な なら なら こんな みたい 時 な じゃ こと こと けれど けれど の の みたい の みたい こと ほど みたい の なら こと こと こと 心 なら こと なら こと こと みたい じゃ \n",
            "----- temperature: 1.0\n",
            "----- Generating with seed: \"あさつゆのしずくきこえない\"\n",
            "あさつゆのしずくきこえないけれど 心 の こと it けれど サイクル でしょ 軋む の わ なら みたい 消え な さー 雲 心 わたし Good うつくしく なら よう つい トリップ 変わん この Crash こと の なら 時間 みたい けれど 流行り ひゃく けれど ちょっと なら じゃ 私たち の なんて ドレス こと でしょ の 世界中 がり 抱え 要ら 時間 より こと 王子 こと 失おう しかたない 休憩 心 でき 前向き もの 高く みたい 外 貴方 の みたい たち ます 人 みたい 世界 な なん STAGE 願い けれど 到着 まま 昨日 よう くそう 知り Oh ほど けれど ・ メール 本音 二人 しよう my どう すぐ みたい 怖 ッ 心 でしょ けれど こと 果て 作り な 愛 ペンギン こと 呼ば スキ 雨粒 じゃ そこ 躊躇わ こと みたい Take こと 人 いこう なら なら な です ほど 珊瑚 こと なら オープンザマインド みたい 見え の さ 始め 語っ ましょ こと 気づい みせ 覗き込み 最高 なら です けれど 進める Don't こと oh あり と みたい の 涙 渡す 今日 こと まだまだ 切り開か 放課後 ShiftDancing こと みたい 小休止 なら みたい Shine 翼 is 希望 じゃん フシギ 人 の . さ ほど ふぅ 目交 君 なんて 赤い られ れい もの 完璧 TonightShall サイン こと みたい ベルパンク わたし くちびる くれ ただ , じゃ とき 振り返る の 彷徨う けれど なら わ こと おもいで なら 1 耐え ず この けれど な いよ 目指す みたい わたし Space の もの 一 歌 こー ほど 手 ランド 人 a A だ なら もの 必要 Stay そりゃ 心 明日 こと みたい ほど 夜 日々 みたい ～ じゃん 2 なら こと ヒミツ なら 在 事 もの 絶対 希望 ひさし もし こと の こと 功夫 傷付い の 繋い Sentimental 言葉 と 脂肪 みたい こと たり こと 気持ち チカチカ と ずっと 知っ と 光 光 羽ばたく ずっと なら 未来 まで なら なら 自分 すべて BORN letter 真剣 わけ の こと みたい ダメ 企画書 耳 な やっぱり ほど 中断 ほど 夜 愛 みたい , 心 ・ ヒカリ Pain ちゃっ 想い 実感 まだ 言え 言葉 こと 時 こと なら 道 道 なら 時 みたい みたい みたい 全て できる 歩 なし 場合 遠く 雫 わ 触れ 擦っ だっ 笑っ こと けれど もの 綺麗 の 言葉 恥 な なら の キラキラショーウィンドウ なっ WAY あの 鼻歌 週末 なら なぜ キラキラショーウィンドウ 平和 絶対 心 な みたい BY 会える 心 ダメ 絶好調 みたい 心 行け ほんの この なら Let けれど しよう いう 隠さ 続け けれど の 言葉 そこ こと とっ 眩しく こと 空 mon 嬉しく こと 覗い 子供 心 囚われ 今日 でしょ \n",
            "----- temperature: 1.2\n",
            "----- Generating with seed: \"あさつゆのしずくきこえない\"\n",
            "あさつゆのしずくきこえない吐い あ 青春 Kiss ザ もの な 以上 ドーナツ 諸行無常 frameless ズンズン わたし ・ 来 hu 無邪気 世界 苦笑い 気 いっ 時 傷つい ほっぺ けど なろう もの マット やっ ♪ 今日 ば 抱か の 踊っ TOMORROW また でしょ やる ダイスキ なら 目覚める 旋律 押し 宇宙 乱れ舞っ 鎖 姫 よう ただちに おかしい せ 楽しむ よう イッショーケンメー とき こと Sweet 歌 けれど 叶う 乗せ フルパワー 一度 纏える ふた 場所 ろん 気 痕跡 しよう ふたり の ウィンク our 輝く ブギー 巣食う 全て 愛 1 と みたい どん ・ 嬉しく Come on 全部 持て 気 空 こと 世界 へ と なら の 鼻 夜 チェリー 冠 がんばる 心 ☆ あま だって よろしく みたい ちゃお カンペキ 分かっ 咲か 感じる ひな壇 ビート なら の なんて きり あと どれ 虹色 道 ナミダ 代わり映え よく 似合わ Legend Crescent なら と じゃ ド 変わら upWhen 重ねる いー fruity 言っ マイラヴ name , みつけ me 遠慮 身体 魂 brass  初恋 もの 何 前 人 R だ 高く じゃ 気持ち 恋心 * し 広がっ scene 女 人 彼女 人 こと . ば 退屈 ときどき 終末 弾ん V 2 爪 揺れる みたい こと なら みたい ちゃえ 肩越し た 人 こと こう 愛 KISS 過去 黄昏 瞬間 なら カナ 言っ ちゃんと 知ら 願い みたい 本気 Ru 虚しく 魚 楽しく 外 Yeah 影 今日 お腹 込め 2 色 消え こと song 決めつけ word 愛 完璧 掲げ の もの じゃん とりどり ん 気 ！！ 歓喜 遊園地 ふわり 揺らぐ 無く ニャア オハヨ けれど ありふれ , 愛 と こと 誰 な 移り変わり もの に から なんて 夜 bye-bye 歌 夜 ねえ 先 響い もの 夜遊び 同じ なら なら Welcome がっ 愛 musicHey 心 ユレ ドンチャン カワイク な 空 けれど 前 桜色 5 そこ 前進 片付けよう 心 HairstyleChu 慣れ … 瞳 クリエイション られ CHANCE 3 物語 明日 仕事 耳 みたい 時計 ll 立ち竦ん 捧げ なら に 疼き 人 数え上げ よう この 全て ひらひら Chu 仲間 周り 風 大発見 言わ 変装 恋 論理 背く 来 たび 熱い 食べ With なし 痛い 冗談 マシュマロ 口説き ジレンマ ある 思い出せ 光 夢中 futureSeason Rise 開けれ いつ こと の キラキラ なら よう 一緒 きらめき ヌルく みたい なんて フルコース ♪ 哀しみ 街 でしょ 明日 な こと ” こと みたい まま 沖縄 IKETERU ね な 世界 ＞ 幸せ 愛し ファイト → ひとりぼっち 何色 はやっ なら ふくれっ面 まじり の 心 し チャージ 心 後ろ 本音 はじける All バッチグー 準備 全て 一 とい そば アスファルト 消せ トッピング change あと 海 守っ 草原 ブリリアント 人 けれど Pride 刻ま 丸い \n",
            "39971/39971 [==============================] - 51s 1ms/sample - loss: 4.0126\n",
            "Epoch 21/200\n",
            "39971/39971 [==============================] - 29s 732us/sample - loss: 3.9824\n",
            "Epoch 22/200\n",
            "39971/39971 [==============================] - 29s 725us/sample - loss: 3.9918\n",
            "Epoch 23/200\n",
            "39971/39971 [==============================] - 29s 724us/sample - loss: 3.9868\n",
            "Epoch 24/200\n",
            "39971/39971 [==============================] - 29s 728us/sample - loss: 3.9317\n",
            "Epoch 25/200\n",
            "39971/39971 [==============================] - 29s 727us/sample - loss: 3.8787\n",
            "Epoch 26/200\n",
            "39971/39971 [==============================] - 29s 727us/sample - loss: 3.8343\n",
            "Epoch 27/200\n",
            "39971/39971 [==============================] - 29s 735us/sample - loss: 3.7885\n",
            "Epoch 28/200\n",
            "39971/39971 [==============================] - 29s 733us/sample - loss: 3.7416\n",
            "Epoch 29/200\n",
            "39971/39971 [==============================] - 29s 728us/sample - loss: 3.6886\n",
            "Epoch 30/200\n",
            "39936/39971 [============================>.] - ETA: 0s - loss: 3.6467\n",
            "----- Generating lyrics after Epoch: 29\n",
            "----- temperature: 0.2\n",
            "----- Generating with seed: \"しかたないそこに直れパワー\"\n",
            "しかたないそこに直れパワーが が が が が が が が が が が が が が が が が が ( が が が が が が が が が が が が が が が が が が が が が が が が ( が が が が ( が が が ( が が その が が が が が が が が が が が が その が ( が ( が が が が が が が が が が が が が が ( が が 君 が が が が が が が が が が が が が が が が が が が が が が が が が が が が が が が が が が が が が が が が が が が が が が が が が その が が その が その が が が ( が が が が が が が が が が が が が が その が が が が が が が が ( が が が が が が その が が が が が が が が ( が が が が が が が が が が が が が が が が が が が が が が が ( が が が が が が が が が が が が が が が が が が が が が その が ( が が その が が が が が ( が が が が が が が が が が が が が が が ( が が が が が が が が その が が が が が が が が が が が が が が が が が が が その が が が が が その が が が が が が が が が が が が その が が が が が が が が が が が が が が が が が が が が が が が が が が が が が が ( が が が が が が が が が が その が が が が が が が ( が が が が が その が が が が が が が が が が が が が が が が が が が が が が が が が が が が が が が が が \n",
            "----- temperature: 0.5\n",
            "----- Generating with seed: \"しかたないそこに直れパワー\"\n",
            "しかたないそこに直れパワーが お が が が ( が その その が が ( ( ずつ が が が “ 君 その が が が ( その ( 明日 何 が が が その が その が ( 、 ( it が が が その 君 素直 輝き ( ( その また 、 が が が 君 が も たち ( が 何 を を 君 が が 知ら その が が へ が が が が その き が その ( その その その を が その が ( 君 が は その が が その 、 その 知っ が が が が 一 君 その が が み が ( ( ( を お 一 が ( ( 笑顔 いる が 知っ が が ( が が か が が 輝き その 何 綺麗 私 ( が その ( ( ( もう そう ( 知ら が ( なら が が が が その 、 い が が その が ( が 何 ( が ( 君 その が 君 を いる が その その 君 ( が ( が が ( その が が が その が が が が が ( ( が ( この その その いく その を が が が ( 君 一 は ( 一 が ( が ( が もっと が が 中 たち が が が その キミ が が その が が が 君 が 何 が が その が その が 君 が あれ ( その が が が 君 その 生き その 君 が が は ( が ( ( 一 ( もっと が が が が が が が ( が が ( が ( が その その ( が が ( きっと ( が が が 綺麗 が その が が が が ( が 『 お 君 が が 、 が その が その が が ( み が 。 ( たい どうせ 君 ( その が この が お 君 その が が ( が 君 が が が ( ( その が その が ( が が 、 その が が その 何 知ら が が が いる は が が いっぱい が ( ( が その その ( が が が が が が が その が たち 知ら が が ( が が その ( その 君 何 ( もう が ( ( 君 が が いる が が その が が が \n",
            "----- temperature: 1.0\n",
            "----- Generating with seed: \"しかたないそこに直れパワー\"\n",
            "しかたないそこに直れパワー雲 何 きり 綺麗 触れ そんな lllusion ある ネーション ただ が 、 さえ ！ 運命 その が 君 が 言う いっぱい が を が ( 光る 輝い が 場所 が が その 次 新しい 目 ゲーム 飛び出す 君 が エバ よう が あり 私 For 、 お 一 ずつ It's 憧れる です なん き です つなぐ て ( 「 わ らしく ここ たい が が お 思っ ゆっくり どんな は dance わけ より I 100 なん もう 言う いく Go 一 なっ なっ S まだ 新しい ヒカル キミ 足り 、 おめでとう できる ァ すぐ ( 綺麗 触れ 『 中 ちゃ この か 、 が いる ( その まだ 守り 届く を いっぱい N が もう いっぱい たち その 手 見つけ も なっ 一 ( 人 『 みせ 未来 また 新しい 僕 素直 この 手 行ける い いつ みんな 受け取っ 「 平和 “ が 中 髪 輝く 歓喜 ( 言葉 “ 綺麗 見上げ ハート この する もっと ま ( が ? いる 知ら 何 ( きっと ( 手 その もう まだ ( 見える 知ら 『 一 が ほんと 決め 今 は が なか 声 こんな 導か いる キミ られ その 願い 行け もう キミ キミ 囚われ が いつ 明日 元気 君 街 笑え TODAY 笑っ さえ み もう いっぱい ほら 目 。 一 瞳 。 、 れ 新しい さえ 見え て きれ その ( ギュッ ドキドキ が 。 手 ちゃ 約束 力 君 なら ! あと 君 初恋 貴方 いい ( 力 が あれ go が 昨日 瞳 いる その 中 頭 を たい 見え なんて が たち 一 が 好き 元気 くびれ ( こんな その 上手く さえ 見る ( 知っ たて 運命 一 瞳 君 すぐ miss 回 中 知っ とりどり 夢中 わん その も が 原石 頑張っ 知っ 『 が て 心拍数 が トキメキ 言う 瞬間 いく が m 時 が なる 嬉しい 一 何 この 君 知ら その 、 が 輝き に どこ na が パワー 飾り付け が なん いる TRIAL You 見つけ いつ まだまだ ほー です キミ また キミ なら お 『 一 が あなた 一 今 ( なん ここ 手 いい 君 何 なっ きっと いく 空 綺麗 が 別れ ( 知ら その が が ( ウザい が 話 み ( 歌 ある ！ あれ を その いっぱい 」 が 信じ GOOD * ニャ なっ 起き たら あ が 期待 ( 変わら can が 『 しか 中 どう が その 探し 奥 事 雨 ( あら \n",
            "----- temperature: 1.2\n",
            "----- Generating with seed: \"しかたないそこに直れパワー\"\n",
            "しかたないそこに直れパワー想像 一 なん 落ち込ん を 昨日 フリー 辛い know 綺麗 なん 気 大人 手 2 いっ ふと トキ くだっ 願い なっ 世界 、 / ため息 から じゃん クレッシェンド 頑張る その 進め たっ ya いい 仮面 歩く いっぱい ギョーカイジン 綺麗 その ！ 「 小さな YOU を 探し 1 その sion 決め き どんな 知ら とき ( 季節 終わら 輝か キミ 実現 夢 ダメ 高く Good 内緒 キター を は 行こう 空気 その baby 並べ 伸ばし いく が たく めちゃくちゃ 手 なれる - 道 み ヘッドライト 真美 へ 帯び なら なっ 、 持て が ご もう 何 約束 並べ いっぱい パワー さえ らしく leap ほど 中 もっと Happy 続け 回っ よう 時代 を に 朝 たち 燻り 叶え 機嫌 君 焦ん ( WE が 確か Are 今日 決まっ ターザン チェリーゴーグラウンドチェリーサンキューベリーマッチ わかっ て 、 ( 何 一 たち ( 、 つまん 曲 が ハイヒール です ホント 5 ( ― 伝え You ( 点 ねぇ 出せ ね は A 見せ 今日 ここ わーい だれ 瞳 いく 伝え ！ ら ね 平気 『 は 夜空 そこ です 目 モヤモヤ いい 100 届け 賜物 場所 ( 甘え ずつ 子供達 Hello 広げ 雪 越え なっ いっぱい “ by ( 迎え ボク pa 愛し 、 わたし だっ を 見つけ もっと なれる を ショウ 一度 が ( 愛し ( アイドル いま が ( 姿 み ここ 海 離れ 戻っ ( ずつ その ひかり フルコース わから 言う ( なれる 終わり 全力 導い に 何 I あらわる ココロ 『 そっと 歌い なる 、 もう きっと 止まら 「 Love 大志 や この 『 一 煌き “ 胸 & Arisa きり 失敗 でる だんだん Road が 見つけ すぐ 一 です 、 na Sing し が なら じゃえ ひと Take for ジャンプ ( ピコピ 何 なろう また もう JOY 自分自身 マイハート バイオ 知っ を なぁ 弾む わ なん まだ あたし 手 げ まっすぐ きっと 顔見せ 瞳 信じ だっ です 出す この が 何 ホラ タイム 一 “ クラウン メロディー が ポリフォニック なっ その れる その Uprise シュン そっと ぬ 痛み I 一 私 奇跡 It's 自分 冬 ながら 一 だろう 一切 合わせ が が キレ 朝 なんて 叶え でしょ 笑顔 SPRING たち その 綺麗 いる 付い 名前 do いっぱい go が もう シキラメキラリ や 勇気 その 夢 、 きっと らしく in 期待 メロディ 妹 なきゃ 本当 わたし たち いる 行き ！ s 声 限ら み その らしく 白い ある カラダ 大丈夫 また う ほら SPACE もう 生まれ 耳 ある メロディ 近づい 見 わたし たち \n",
            "39971/39971 [==============================] - 51s 1ms/sample - loss: 3.6465\n",
            "Epoch 31/200\n",
            "39971/39971 [==============================] - 29s 728us/sample - loss: 3.6011\n",
            "Epoch 32/200\n",
            "39971/39971 [==============================] - 29s 729us/sample - loss: 3.5631\n",
            "Epoch 33/200\n",
            "39971/39971 [==============================] - 29s 731us/sample - loss: 3.5209\n",
            "Epoch 34/200\n",
            "39971/39971 [==============================] - 29s 734us/sample - loss: 3.4805\n",
            "Epoch 35/200\n",
            "39971/39971 [==============================] - 29s 718us/sample - loss: 3.4520\n",
            "Epoch 36/200\n",
            "39971/39971 [==============================] - 29s 713us/sample - loss: 3.4117\n",
            "Epoch 37/200\n",
            "39971/39971 [==============================] - 29s 720us/sample - loss: 3.3770\n",
            "Epoch 38/200\n",
            "39971/39971 [==============================] - 28s 712us/sample - loss: 3.3486\n",
            "Epoch 39/200\n",
            "39971/39971 [==============================] - 29s 714us/sample - loss: 3.3147\n",
            "Epoch 40/200\n",
            "39936/39971 [============================>.] - ETA: 0s - loss: 3.2914\n",
            "----- Generating lyrics after Epoch: 39\n",
            "----- temperature: 0.2\n",
            "----- Generating with seed: \"恋ってパレードみたいね\"\n",
            "恋ってパレードみたいねみんな 今 今 今 今 みんな 今 今 今 今 今 今 ね ね 今 今 今 どんな 今 今 今 今 キミ 今 今 今 今 みんな ね みんな みんな 今 今 今 今 みんな 今 今 今 みんな 今 今 今 みんな 今 今 ね 今 ね 今 今 今 ね 今 今 今 今 みんな 今 今 ね 今 今 今 みんな 今 今 今 今 今 今 ね 今 今 今 今 今 みんな みんな ね みんな みんな 今 今 今 今 ね 今 今 今 今 みんな 今 今 みんな 今 ね 今 みんな 今 ね 今 今 今 今 ね 今 みんな みんな 今 今 ね 今 今 今 今 お ね ね 今 今 みんな 今 今 今 今 みんな 今 今 今 今 今 今 ね 今 みんな 今 今 今 今 ね ね 今 今 今 みんな ね 今 ね みんな 今 今 今 みんな ね みんな 今 今 今 みんな みんな 今 今 今 今 今 ね 今 今 みんな みんな 今 今 みんな 今 今 みんな 今 ね 今 今 今 ね 今 今 今 今 今 今 みんな みんな みんな 今 今 今 今 今 今 今 今 みんな 今 みんな 今 今 今 今 みんな みんな 今 ね 今 今 みんな 今 みんな 今 今 今 今 今 ね 今 ね 今 今 今 今 ね 今 みんな 今 ね 今 今 今 ね 今 ね みんな ね みんな みんな みんな 今 みんな 今 今 今 みんな 今 ね 今 今 ね 今 みんな ね ね みんな 今 今 今 今 今 今 今 ね 今 今 今 今 今 今 今 みんな ね 今 みんな 今 今 今 ね みんな みんな ね ね 今 今 今 今 今 みんな みんな 今 今 今 今 今 今 ね ね 今 今 今 今 今 今 今 今 今 みんな みんな みんな 今 今 今 今 今 今 みんな 今 今 みんな キミ 今 今 みんな みんな 今 ね ね 今 今 今 今 今 今 ね ね ね 今 今 今 みんな 今 みんな 今 今 今 みんな ね ね 今 今 今 みんな 今 今 今 今 今 今 今 今 今 今 ね みんな ね みんな 今 ね みんな 今 今 みんな 今 今 みんな 今 みんな ね みんな ね みんな みんな 今 今 今 今 今 今 今 今 みんな ね 今 今 みんな \n",
            "----- temperature: 0.5\n",
            "----- Generating with seed: \"恋ってパレードみたいね\"\n",
            "恋ってパレードみたいね今 、 今 お お みんな 今 みんな 今 みんな みんな みんな みんな ね みんな 今 、 みんな どんな どんな 今 今 キミ 今 お ね ね みんな 今 みんな みんな ね みんな ね みんな ね ね みんな 今 今 お お ね 今 、 ね 夢 、 みんな 今 今 今 みんな ね 今 今 ドキドキ ね ね ね 今 キミ お ね お ね 今 ね ね ね 今 ね みんな みんな みんな 今 今 ね 知ら みんな みんな 今 今 ね みんな 今 今 今 今 みんな 今 どんな ね 今 みんな みんな 今 みんな 、 ね みんな キミ お ね みんな ね みんな ね ね 今 みんな お 今 今 、 ね みんな みんな 今 ね ね お 今 、 今 ね みんな 今 、 みんな 今 今 みんな ね みんな 今 今 今 夢 今 みんな みんな 今 今 今 今 どんな ね ね みんな お 恋 ね みんな ね 今 みんな みんな 今 今 みんな 今 ね 今 みんな お 今 今 今 今 みんな 、 みんな 、 みんな 今 今 今 ね ね お 今 今 今 みんな みんな みんな ね 今 みんな みんな 今 みんな 今 今 みんな ね みんな 今 みんな お みんな みんな ね ね みんな 今日 今 みんな 今 ね みんな 今 今 今 今 みんな みんな ね みんな キミ お 今 ね 今 今 ね 今 今 今 ね ね ね みんな 今 みんな ね でしょ 今 、 みんな ね みんな お 今 ね みんな 今 夢 お お ね ね 今 今 今 ね みんな ね 今 今 今 今 みんな みんな みんな みんな みんな ね みんな 今 今 みんな お 今 今 ね みんな ね 遠く 今 ね 今 今 今 お みんな ね 今 みんな 今 ね ね みんな ね 今 みんな 今 ドキドキ みんな みんな お 今 キミ 、 みんな 今 みんな 「 もっと わ 今 ね みんな 今 今 みんな みんな どんな 見 みんな 今 ね 、 みんな 今 みんな 今 みんな みんな みんな みんな みんな ね ね 今 今 今 今 みんな 今 今 みんな ね ね ね 今 ね 今 ね ね 今 お ね お それ どんな 今 今 今 今 ね みんな 今 みんな 今 お 今 ね 今 みんな 今 みんな みんな 今 今 今 今 ね みんな 今 今 みんな 今 今 今 ね ね お お お ね ね 今 今 ね 今 キミ 今 今 \n",
            "----- temperature: 1.0\n",
            "----- Generating with seed: \"恋ってパレードみたいね\"\n",
            "恋ってパレードみたいね「 今 一緒 強い みんな ね でき なら コースター 今 キミ 今 ね でしょ & 未来 今 お 進め どんな 今 今 We みんな 虹 でしょ みんな 今 素直 今 今日 感じ お Stay 一 絶対 ひとりひとり みんな ATENTION ね 今 今 けど 今 みんな ほど ね てる だろう ため息 信じ わ ショウ ね 、 待っ この みんな みんな ね 恋 今 ちゃっ お 今 叶え そば それ お 会い 今 ね キミ みんな 今 一瞬 みんな 今 『 今 どんな 少し どんな こう どんな みんな ね 「 咲い から 雨 みんな 今 Don't キミ もっと キミ み 今 出そう みたい 綺麗 今 ね ね すぐ ね 今 、 でしょ 今 どこ どんな 今 みんな 今 みんな どんな 未来 ね みんな みんな 今 どこ ね い ね キミ どんな 歌う 今 お 僕 お わたし 幸せ お 今 夏 次 見 どんな お 今 ね 今 ばかり ね ある 虹色 どこ でしょ よ みんな これ 今 ね 思い出し みんな どんな 夢 お 今 夢 お どんな 今 どんな ひらひら どんな 夢 お みんな お 今 みんな 一瞬 みんな より でしょ 今 お リアル 今 止まら あの ね 今 知ら みんな あ よ 素直 香水 高く 一 ね みんな みんな 言葉 回 キミ 今 今 お ね どんな お お みんな なれ キミ みんな みんな どこ 誰 スマイル ちゃっ ドキドキ ここ 、 トキメキ 雲 でき 今 どんな どこ お お 今 みんな みんな ちゃっ 今 未来 お たわいない GOOD 出す 運命 知ら じゃん 大好き 今 未来 星 雨 ちゃっ for お 大事 一番 お A たって そう どんな 今 雨 今 これ すぐ 今 ね ね みんな 今 どこ けど 何故 仲間 ね 今日 ね 世界 今 、 ねっ みんな 見 いつも でしょ ね みんな あ ね どう 今 みんな 言い 見せ 強い 今日 今 もっと よ 今日 今 でしょ どこ 今 怖 キミ もう みんな みんな 一 みんな 知ら みんな 繋い やり方 どこ ずっと ため息 みんな でしょ たって 未来 方 ね ほ どんな この みんな 今 ね 今 、 見 いっしょ 今 柔軟 お ね あ みんな いつ キミ ね ん 、 今 ドキドキ 今日 Me お 今 わ 今 It's ドキドキ 今 みんな ね ラン 感じ 雨 みんな お みんな ドキドキ 、 キミ 見 今 みんな だろう わ どこ キミ 今日 でしょ 夢 今 みんな みんな Don't 今 でしょ どんな 今 今 to 真剣 ね でしょ みんな みんな 今 いっ 光 ね よ みんな 今日 これ キミ どんな 今 \n",
            "----- temperature: 1.2\n",
            "----- Generating with seed: \"恋ってパレードみたいね\"\n",
            "恋ってパレードみたいね靴 てる it 夢 お 今日 なら 今 感じる 、 みんな 手 みんな 覚悟 You 恋 どこ ココロ 知ら みんな みんな ね 、 キミ お 見 今 大丈夫 てる わ 負け 今 ドキドキ 美味しい 、 今 ほー キミ 雨 今 しまっ it どんな キミ みんな けど お 見 応援 どこ 成長 なな でしょ 時 今 それ まっすぐ さぁ ね 掬え お 赤い でしょ 走れ 、 草原 今 願い せ どこ 次 あ 出会え 頑張っ 不安 夢 Go 今 みんな 、 今 今 GO 忘れ 嬉しく 今 ねえ Go ヘン ソ ココロ でしょ から 「 忘れ 今 今 今 今日 今 しかたない 幸せ ね 嬉しい ね 言わ 物語 それ モノ みんな キミ 空 もん 前 今 なに そんな ギュッ キミ 行ける そう どこ どこ みんな ずっと どこ みんな 大事 てる そんな 誰 つ どこ 無理 見 だけ ドキドキ だっ 大丈夫 ココロ 遠く 時間 なんて 遠く 揺れる however 度 今 二人 Up ね 舞台 お 背中 でしょ ね ラッキー お てる でしょう 永遠 Twist よ みんな 世界 みんな 今日 今 なら それ 飛ん ちゃっ お 今 ONE 可能性 夢 今 ニャ なる すぐ 、 きり お 度 みんな お 笑顔 夢 ドキドキ 度 みんな ちゃん なる お 涙 声 、 お マスカラ 輝き 毎日 名前 ね 傍 お ダメ 白い どこ なんて そんな キミ ね 今 もう ね ね 言葉 、 バンザイ 音 みんな 今 初めて いつも お 今 今日 いで だす 「 はしゃい みんな そう つい 風見鶏 咲く 今 ウォレット みんな 見え それ れ wow キミ 夢 どー 、 どんな ずっと Yes 原石 今 ラブ 夢 夢 どんな お ふた けど 今 する 素直 みんな 約束 と 雨 絶好 『 だけ どこ こえ 謳い文句 迷わ キミ すぐ 誰 So どこ 茶 ね みんな 素直 チャンピオン あ ね ね 今 恋 今 、 私たち おめでとう みんな 瓶 大好き どんな 出来 TODAY ね SUPER 以上 誰 いこう どんな みんな dance ね 森 八 今 ナイト てこう 乙女 幾 キミ お livE 今 Up お お 今 お 見 地 今 あと 希望 ！！ 輝い 雨 どこ 感じ どこ Force ね 未来 お 叶え ね 虹色 どんな よ どんな お 煌めき 早い お 〈 Let キミ 見 お 季節 食べ 、 Tiara 弱虫 夢 よ 感じ 素顔 どんな みんな キミ がら お でしょう 止まら ね よ お はい この 今 キミ いつ Hey そろそろ たら 、 リズム って なり 今 今 見 醤 ああ お Fight R ちゃん 夢 どんな 前 みんな No あの \n",
            "39971/39971 [==============================] - 51s 1ms/sample - loss: 3.2917\n",
            "Epoch 41/200\n",
            "39971/39971 [==============================] - 29s 717us/sample - loss: 3.2626\n",
            "Epoch 42/200\n",
            "39971/39971 [==============================] - 29s 716us/sample - loss: 3.2422\n",
            "Epoch 43/200\n",
            "39971/39971 [==============================] - 29s 719us/sample - loss: 3.2173\n",
            "Epoch 44/200\n",
            "39971/39971 [==============================] - 28s 712us/sample - loss: 3.1903\n",
            "Epoch 45/200\n",
            "39971/39971 [==============================] - 29s 716us/sample - loss: 3.1717\n",
            "Epoch 46/200\n",
            "39971/39971 [==============================] - 29s 716us/sample - loss: 3.1562\n",
            "Epoch 47/200\n",
            "39971/39971 [==============================] - 29s 722us/sample - loss: 3.1452\n",
            "Epoch 48/200\n",
            "39971/39971 [==============================] - 29s 719us/sample - loss: 3.1229\n",
            "Epoch 49/200\n",
            "39971/39971 [==============================] - 29s 717us/sample - loss: 3.1144\n",
            "Epoch 50/200\n",
            "39936/39971 [============================>.] - ETA: 0s - loss: 3.1006\n",
            "----- Generating lyrics after Epoch: 49\n",
            "----- temperature: 0.2\n",
            "----- Generating with seed: \"も良かったってナデナデ\"\n",
            "も良かったってナデナデ？ ？ ？ ？ ？ ？ ？ ？ ？ ？ ？ ？ ? ？ ？ ？ ？ ？ ？ ？ ？ ？ ？ ？ ？ ？ ？ ？ ？ ？ ？ ？ ？ ？ ？ ？ ？ ？ ？ ？ ？ ？ ？ ？ ？ ？ ？ ？ ？ ？ ？ ？ ？ ？ ？ ？ ？ ？ ? ？ ？ ？ ？ ？ ？ ？ ？ ？ ？ ？ ？ ？ ？ ？ ？ ？ ？ ？ ？ ？ ？ ？ ？ ？ ？ ？ ？ ？ ？ ？ ？ ？ ？ ？ ？ ？ ？ ？ ？ ？ ？ ？ ？ ？ ？ ？ ？ ？ ？ ？ ？ ？ ？ ？ ？ ？ ？ ？ ？ ？ ？ ？ ？ ？ ？ ？ ？ ? ？ ？ ？ ？ ？ ？ ？ ？ ？ ？ ？ ？ ？ ？ ？ ？ ？ ？ ？ ？ ？ ？ ？ ？ ？ ？ ？ ？ ？ ？ ？ ？ ？ ？ ？ ？ ？ ？ ？ ？ ？ ？ ？ ？ ？ ？ ？ ？ ？ ？ ？ ？ ？ ？ ？ ？ ？ ？ ？ ？ ？ ？ ？ ？ ？ ？ ？ ？ ？ ？ ？ ？ ？ ？ ？ ？ ？ ？ ？ ？ ？ ？ ？ ？ ？ ？ ？ ？ ？ ？ ？ ？ ？ ？ ？ ？ ？ ？ ？ ？ ？ ？ ？ ？ ？ ？ ？ ？ ？ ？ ？ ？ ？ ？ ？ ？ ？ ？ ？ ？ ？ ？ ？ ？ ？ ？ ？ ？ ？ ？ ？ ？ ？ ？ ？ ？ ？ ？ ？ ？ ？ ？ ？ ？ ？ ？ ？ ？ ？ ？ ？ ？ ？ ？ ？ ？ ？ ？ ？ ？ ？ ？ ？ ？ ？ ？ ？ ？ ？ ？ ？ ？ ？ ？ ？ ？ ？ ？ ？ ？ ？ ？ ？ ？ ？ ？ ？ ？ ？ ？ ？ ？ ？ ？ ？ ？ ？ ？ ？ ？ ？ ？ ？ ？ ？ ？ ？ ？ ？ ？ ？ ？ ？ ？ ？ ？ ？ ？ ？ ？ ？ ？ ？ ？ ？ ？ ？ ？ ？ ？ ？ ？ ？ ？ ？ ？ ？ ？ ？ ？ ？ ？ ？ ？ ？ ？ ？ ？ ？ ？ ？ ？ ？ ？ ？ ？ ？ ？ ？ ？ ？ ？ ？ ？ ？ ？ ？ ？ ？ ？ ？ ？ \n",
            "----- temperature: 0.5\n",
            "----- Generating with seed: \"も良かったってナデナデ\"\n",
            "も良かったってナデナデ？ ？ ？ ？ ？ ？ ？ ？ ？ ？ 待っ ？ ？ ？ ？ ？ み ない ？ ？ ？ ? ます ？ すべて ？ ？ ？ ？ ？ なっ ？ ？ ？ ？ ？ ？ ？ ます ? ？ ？ ？ ます み ？ ？ ？ ？ ？ ？ ？ ？ そっと × ？ ? ？ られ ? なく ？ ？ ？ ？ られ ？ ? ？ しか ？ ？ ？ ？ たい たい もう ？ ？ ？ ？ ？ たい ？ ？ ？ ？ ？ ？ ？ ？ ？ ？ ? ？ ？ ? ？ ？ ？ ？ ？ ？ わ … ？ 気 ？ ？ ？ ？ ? でしょ ？ ？ ？ ？ ない ？ ？ ？ なっ ? ? ？ ？ なっ なり ？ ？ ？ ？ ？ ？ ？ ? ？ ？ ？ に ? ？ ？ ？ ない ？ なっ ？ ？ なっ ？ ない ? ？ ？ ？ ます ？ ？ ない なる ？ ？ ？ 素直 ？ ない ？ ます ？ ？ ？ ？ ない ？ ？ ？ ? ? ? ？ ? ？ ？ ？ ？ たい ない ？ ？ なり られ ？ ？ ? ？ ？ ？ ? なっ ？ ？ ～ ？ ？ ？ ？ たい ？ ？ ? に ? ？ ? ？ こう ？ ？ ？ こんな み ？ なっ ？ ？ ？ なり ？ ？ なり ？ ？ ？ ？ ？ ？ ？ ？ すべて ？ ？ ？ ？ ？ ？ そっと ？ ？ ？ ? ？ られ ？ こう ？ 抱きしめ ？ ？ ？ ？ ？ ？ ? ) ？ ？ ？ ? ？ ？ なっ ？ ？ なっ ？ たい ？ 待っ なり 見 み たい ？ ? ？ ？ ？ なり たい ？ ？ ？ ？ 同じ ？ ？ ？ ？ ? ？ ？ ？ たい ？ ？ ます ? ？ ？ ？ ？ ？ を ？ ? ？ そっと ？ ？ ？ ？ 見 ？ ？ ます せ ? ？ ？ ？ ます ？ ？ ？ ？ そう ？ ない ？ ？ ます でしょ なっ いっ ？ ？ ？ ？ ? ? ない ？ でしょ でしょ ？ なる ？ たい ? ？ ？ られ ？ たい ？ ？ られ ？ ？ ？ たい ？ なっ ？ られ いる ？ ます ？ に なっ ? ？ た ？ ？ ？ ? ？ ？ られ なっ ？ ？ 待っ ？ ？ ます ？ \n",
            "----- temperature: 1.0\n",
            "----- Generating with seed: \"も良かったってナデナデ\"\n",
            "も良かったってナデナデゆく って そっと 本音 ？ ？ チクタク リフレッシュ … 追いかけ なく 駆け抜け ？ を ？ ？ 突っ走っ 眩しい 迷い なる 超 ？ 音色 追いかけ なり ? です 愛し わたし ます 出会う なら 届か ます なり 迷う 感じ 囚われ 寄り道 生まれ ？ 続け … 片翼 た 大切 カラー 笑っ ? やがて ？ 欲しい 慣れ たい 抱い 上手 ？ 決め です ? なっ 追いかけ なっ これ ない です もう たい 触れ 一瞬 そっと でしょ れ そっと 憧れ 待っ ？ ? しよう ? ? 出会っ み ？ 続く 景色 呼び止め 抱きしめ お たい ？ ない フワフワリ 窓 夢 ？ 『 ウラ たい イッショーケンメー 追いかけ 存在 ない ? たって なり Wonderful たら ？ なら 次 れ たち ？ 咲く ！ 見よう いれ 起き なっ ながら smileSummer イタズラ ？ 友達 ? 見 ない い ！ 合っ … 変わら ♪ ？ そこ 叶う なれ 来 ちゃい てく 込め たり 追いかけ ありがとう 虹 ドッキリ たら ？ … ない 見え なんか こう ？ … そう 伝え じゃ 終わら ？ ？ え いる ぬ いる 追いかけ できる てく そっと ？ らん ？ そう え たい そっと 気 られ 素直 なっ ？ たい ? たい でしょ ？ 待っ み たら 晴れ まっすぐ 予感 待っ ない bye なる 募る た YOU ? なんか 助け ？ ただ ？ ? なく game 消え 気 ？ 届い ドレス って ふたり ？ ただ 色 でしょ なく なっ ＞ 慣れ 時 ます くる ？ ハッピー さ け 待っ ～ え 外 長い ? 街 見 こと 素直 ？ 見え ハイ なっ に そう ほ も 大人 ？ た 見 笑っ ？ ます ？ でしょ なっ - もし ん 眩しく ？ TODAY すべて 涙 ？ です ちゃう なり 、 止まら 出し × こう 。 Yes 中 、 を ます 乗り込ん 止まら た ぬ こんな ♪ なんて です ハッピー 歩い たく 世界 自分 ます ます せ 上手 ねえ ？ 咲か ？ タイム ない たい ねぇ 友達 笑っ なっ あっ 見 メール なり 今 チェック ? に ？ ます 会える 色 ？ 見 なっ さえ なっ ？ 笑っ a 追いかけ み ごめん れ です はじまる 」 … ？ なる ため スマイル ？ すべて いこう ない はじまる 輝い 始まる 大切 赤い です ？ なる ？ たい ない 来 する めっちゃ ひらひら ただ み そこ 切ない 大人 そこ ？ 見 た 遠く 歩い ちゃ ? ？ いる ない しか これ ? ？ ウィンク 風 素直 ひと ます 輝く です ～ ほ ？ ～ アイドル 事 ？ たく たち たら あい 虹 \n",
            "----- temperature: 1.2\n",
            "----- Generating with seed: \"も良かったってナデナデ\"\n",
            "も良かったってナデナデLove あり go に My 雨 ) ほ 踊れ 行か ナイト ます 度 喜び did 探し ちゃお 色 たい ない 来る ちっ フルーツ 間 れ 翼 怖い すべて 決め きり 外 day 繰り返し ) ない こんな 言っ 解き放て を ？ 総て 輝い ) まっすぐ ？ み 込め さ 夢 Show ます いる まだ 想像 Kiss 知っ ？ ちゃい ほど ちゃい あげる ？ 世界 強 強い DO これ ？ こう 頬 キッパリ おっきな ところ 窓 ゆっくり なる ドール ちゃ た 出し ん ？ られ 願う なる いこう 始まっ おねがい 放課後 、 なり み ？ 感じる みんな 放課後 world これ Go 予想 ? ？ じゃん 愛し ちゃ わかっ 僕 み ながら 触れ 味わえ 届か ない じゃ パーティー しまっ ？ ウィンク じゃっ たら ～ 子供 外 たら ホラ なく なく でしょ 照らし たい なん It's あの 愛する 上 Go 探し 、 そう た 続き 夢見 瞳 止め your られ する に 行っ … 泣い Wonderful 自分 おやすみなさい 届け 抱きしめ ？ なり 残酷 ！ 出会っ HEART ？ られ 待っ なっ … アイドル ん なっ 朝 み ちゃ ない Only 見える … ない ？ 混ぜ ます だけ … いでよ Please 笑っ 色 始まる くれ ます テキパキラリ 身体 みる れ だらけ 元気 なく ☆ たら Get 言わ ひゃく 自信 キャンディ たい なれる つ わ な 踊っ 赤く ホラ ONE ニャ から home 笑顔 素顔 大人 そこ 聞こえ けれど to 毎日 なり 上 へ する なり ぬ 、 たら ぞ なれる ! もし あつかい 隣 なっ East 響か 花 ？ 鳥 いっぱい 音色 て の られる ! ? ？ go わから ましょう 事 かけ Starlight って すぎる ？ する ショウ 『 分かる 窓 ほんと あの 込め 待っ た ちゃ … 小さな ) ？ ちゃ ？ いい する たって ? 無い こう 続く たり - いる なっ 素直 READY 落ち着い そう じゃん ストーリー たって でしょ そっと baby 狙っ 笑っ 見つけ 最高 ミラーボール 落ち × これ ？ ハッピー に ? ？ サニー の 明日 ？ られ タイム ドキドキ 今 いる 混ぜ Show 怖い 加速度 自信 しよう 理想 そう たまに ナナメ 虹 早く 続く 雨 ? ～ Always ため する Go ? 行け 目 こう できる 決め ます 想像 ちゃい on 甘い ます 風 でき みせ 行く ちゃ ? ホント なり ら 時 する ☆ 近づい 感じ ぞ Don't トキメキ み 希望 始まっ 悲しみ 辞令 ？ 空 元気 ？ 追いかけ 時勢 やれ & なる ただ できる ながら 見 抱い など Access じゃ ない 。 これ ？ たら 追いかけ 待っ ねえ \n",
            "39971/39971 [==============================] - 52s 1ms/sample - loss: 3.1013\n",
            "Epoch 51/200\n",
            "39971/39971 [==============================] - 29s 716us/sample - loss: 3.0842\n",
            "Epoch 52/200\n",
            "39971/39971 [==============================] - 29s 720us/sample - loss: 3.0731\n",
            "Epoch 53/200\n",
            "39971/39971 [==============================] - 29s 721us/sample - loss: 3.0656\n",
            "Epoch 54/200\n",
            "39971/39971 [==============================] - 29s 723us/sample - loss: 3.0536\n",
            "Epoch 55/200\n",
            "39971/39971 [==============================] - 29s 719us/sample - loss: 3.0343\n",
            "Epoch 56/200\n",
            "39971/39971 [==============================] - 29s 716us/sample - loss: 3.0284\n",
            "Epoch 57/200\n",
            "39971/39971 [==============================] - 29s 718us/sample - loss: 3.0298\n",
            "Epoch 58/200\n",
            "39971/39971 [==============================] - 29s 720us/sample - loss: 3.0215\n",
            "Epoch 59/200\n",
            "39971/39971 [==============================] - 29s 716us/sample - loss: 2.9991\n",
            "Epoch 60/200\n",
            "39936/39971 [============================>.] - ETA: 0s - loss: 2.9992\n",
            "----- Generating lyrics after Epoch: 59\n",
            "----- temperature: 0.2\n",
            "----- Generating with seed: \"フレーズを心と心\"\n",
            "フレーズを心と心も も も も も も も も も も も も も も も も も も も が もう も も も も も も が も も も も も も も もう も も も も もう た も も も が も も も も もう も も も もう も も も も も も も も も も も も 恋 も も も も も も も も も も も も も も も も も も も も も も も も も も も も も も も も も も も も も も も も も も も も も も も も も 待っ も も も も も も も もう も も も も も も も も も も も も も も も も も も も も も も も も も も も も も も も もう も もう も も もう も も も もう も いつ も も も も も も も も も も も も も も も も も も も も も も も も も も も も も も も も も も も も も も も も も も も も きっと も も も も も も も も も も も も も が も も も も も きっと もう も も も も も も も も も も も も も も 恋 も も が も も も も も も も も も も も も も も も も も も もう が も も もう も も も も も も も きっと も も も きっと も も も も も も もう も も も も も も も も も も も も も も も も も も も も も も も も もう も も も もう も いつ が も も も も も も も も きっと も も もう も も も も が も も も も も 待っ も も も も も も も も も も も も も も も も も も も も も も も も も も も も も も も も も も た も も も も も も も も も も も も も も も \n",
            "----- temperature: 0.5\n",
            "----- Generating with seed: \"フレーズを心と心\"\n",
            "フレーズを心と心これ ☆ も いっ この きっと も そっと が も が 愛 ます きっと た 私 もう も も き 空 飛ん が た また 夢 も も も 待っ もう も も もう 大好き も み は も 消え も そっと もう そっと そっと も そっと ほしい もう が も その 待っ ん 』 も 魔法 空 た が きっと もう あなた が が その いい きっと 何 も 忘れ なれ もう いく が 笑顔 が も Yes そっと も もう もう が ちゃ も もう も が きっと この もう も も ほら 恋 きっと 止まら た また も もう も 私 が きっと た も もう も きっと も 忘れ も 何 いい 恋 いつ いっ が も どこ み も み きっと いつ も 恋 も きっと た もう もう も もう よう も 度 きっと も た た 何 え もう 「 も 声 恋 そっと あたし み なっ も 忘れ ほら もう ある も も ほら も きっと も が 愛 も は あなた きっと み きっと も そっと も いつ 行こう 待っ も 空 も 空 もう 夢 も も 空 1 も も も も きっと 恋 も なれる きっと も も も も 輝い さえ も も も が が いつ も 夜 感じる きっと 恋 きっと もう 日 もう も 待っ もう もう も も もう もう も もう が 日 きっと も もう も も いる も 待っ も もう が 私 続く も も ここ た も も もう 。 も 輝い も もう も も もう ( も も も も が れる スマイル ほら 力 もう もう 待っ も きっと もう も 。 も 愛 もう た も も 輝く も もう 綺麗 輝い も も が も いつ も も 愛 も そっと もう が なれる た も 恋 月 が 空 もう 愛 輝く もう も た ある ショウ も 愛 もう もう もう も も 私 は も が いつ も 私 が も も 甘え きっと 度 も も Love が も いく もう なんて も 空 人 も ちゃ も 空 も 恋 勇気 ほら ある も 愛 ( ソ た いい そっと もう た 空 もう その もう も もう 心 ある も が そっと ハート も 私 愛 もう Chu も なんて 待っ も が み 憧れ もう もう もう も あなた 空 もう 私 も も ん 私 \n",
            "----- temperature: 1.0\n",
            "----- Generating with seed: \"フレーズを心と心\"\n",
            "フレーズを心と心か m 「 喜び た 永遠 も 私 いっ まま 小さな も 太陽 合う 無い ね 行け 彩る 嬉しく 忘れ Drive こそ が さえ 見上げ どう 輝い み 人 勇気 飛ん あれ 恋 ready 一人 時 ここ ノンフィクション Love キミ み 罪 いっ 始まっ ( また 嫌 勇気 m あなた 私 ショウ 日 風 背中 Silent 強い 。 みんな ハメ 未来 げ 守っ 良かっ 会える 教え お願い こんな 君 ドレス そっと ちゃ が れる どんな やっ キラキラ どこ 勇気 歩く 世界 いい ほら どんな 行か 愛 ストーリー 乗せ 壊れ を It's 世界 神 YHA きっと 待っ てる いま パワー も 恋 君 儚い も × も 伝説 あたし も そりゃ 年 ？ 、 夜 原石 も 勇気 照らす ん 〉 この ら ? え いい きっと 『 Good その きっと やめ 大好き たっ わかっ さす とっ き 道 私 未来 Love も か 思い出 Jump 私 約束 も て 食べ しまう ん 出来 実現 ピコピ も へ 気 こと 人 でしょ 眩しい woo 」 日 その Jump 私 思う 切ない 恋 HO 負け 。 頃 ちゃ てる ちゃん 。 消える みんな 自由 なんか も 何 が た 憧れ こう 恋 しよう じゃ じゃっ まっすぐ 響く が てる 私 回 永遠 物語 消え ある 存在 me 伝え も 踊っ ある キラメキ 空 そっと ん たまに 幸せ 気づい 普通 目 行こう 自分 空 ながら m 笑っ 太陽 いれ 輝く こんな 」 “ 抱きしめ ソ いく スマイル 夜 が なんて 瞳 Happy na 恋 見つめ カロリー 信じ が Chu 輝い 方 いら 飛ん に もっと 言う 歌い 恋 歌 song れる 日 心 でき 混ぜ 永遠 なく 度 大事 きっと 大事 skyscape みんな 怖い 輝い 音 私 ( ぬ こと 慣れ もう 優しい こんな たち られる 続く 続く あ 度 独り も 出し 靴 私 も た 子供 雨音 いつ 日 飛ん 場所 満ち 海 どう も ダメ キセキ 未来 きり 街 ツー いつ た believe 無き でる 忘れ 『 もう 希望 冬 は 少し もう ぞ ( メッセージ でき もの でしょ 森 くれる ため息 ？ 。 負け 回 会える Change もう 希望 プレゼント パーティー も もう 高く 過ぎ 約束 小さな くれ も ( め 見え 恋 いい 何 ここ 踊っ なく Yes たち 消え ある 高く 悲しみ らん na ほー あなた 自由 見上げ チャンス もう なんて 恋 夜 度 混ぜ も チャンス 。 la 恋 どんな 恋 あなた じゃっ きっと 恋 も も てる きっと てる もう 。 空 も オムレツ そっと \n",
            "----- temperature: 1.2\n",
            "----- Generating with seed: \"フレーズを心と心\"\n",
            "フレーズを心と心ほら しまう 止まら 叶う 世界中 人 青空 知ら 感じ 輝く ほー ， け パーティ 絆 LOVE 呼ぶ way はい 私 朝 年 ハート どう ゴール ほら 自由 私 ちゃい fonduechoco き 甘い 現実 Pu 感じる あげる ? 翼 っ We 強い woo ら 気分 雨 暮れ 一番 気付く も 自信 輝い 自信 よ か Baby It's へ た ) も 靴 も 叶っ なんて 照らす きっと 無い ため息 じゃん 思っ を 〉 飛ん 空 そっと なきゃ ちゃんと 輝か 呼ぼう なっ 出会い パワー ラッキー 帰り た れ Get 積もり積もる いれ 高く らん 傍 調子 一番 ！！ Don't 幸せ ー も も 髪 ) きっと あなた きっと 回 もう Chu バイバイ 4 約束 会え 普通 何 み 待っ うん ます 反則 も られる なん 可愛く み BoyBaby 恋 Blue 歩い 青空 時 忘れ より たち ある YES スキ 日 もう 楽しん Virtual 恋 同じ 呼ん その 年 すべて 。 今日 前 み は エンリョ 起き 勇気 miss せる TT lol フルスロットル 意味 も 消え 唯 ミックス 』 嬉しく もう する 足り 笑う カラダ 髪 ポッ 止まら 立っ も ん いこう 力 Love アイテム 書い きっと なんか も 受け取っ ウィンク どんな Say 行け WE どっち 知ら 胸 行ける あなた 過ぎ 連れ ルール 分かる きっと もう 歩 黙っ Good み いく 行ける あ ( 虹色 脱い 続ける 光 日 ぎゅっ 黄色 決め 遊び Blue 自由 じゃん 愛 消え 乗り越え も 幸せ 何 たまに 三 空 ある 昼 森 大事 あげ 叶う 忘れ すぎる なきゃ も 咲か ♪ ひらひら 時間 何 今 赤い ながら 見る しっかり 行か あなた 出し 勇気 焦ら 勇気 向かっ とっ もう ここ 存在 ON 成層圏 この 。 FU もう 確か 唱え 日 あ 楽しく 歩 よ から みんな ウソ 素敵 輝い 『 でる へっちゃら 一 ごめん baby 出し あの 倍 だろう 幸せ 程 もう その 感じる * 返し こそ 一度 受け取っ 街 ありがとう 知っ ツーペア 事 太陽 ? 空 進む てる 。 ダメ ずつ 待っ く Love ませ 静か 返せ 書い いつ まだ も 空 その 切っ 踊っ 傍 次 dance 輝い きっと だっ 行か Go なっ 忘れ 変わら を 待ち合わせ きっと 続い 小さな ふたり Ah Follow です リズム わたし 何 そっと も そっと 混ぜ POP メロディ 呼ん ひとり 染まっ も とい 二人 好み も ある 歌い ときめき we harmony も こぼれ スマイル ます 恋 今日 が 空気 Don't 返し た た 花 歩 カモン ほら ます hands クレッシェンド ほー 惜しん 台本 かしら 気 続け ギュッ ツー いっぱい わたし も 毎日 \n",
            "39971/39971 [==============================] - 51s 1ms/sample - loss: 2.9994\n",
            "Epoch 61/200\n",
            "39971/39971 [==============================] - 29s 714us/sample - loss: 2.9880\n",
            "Epoch 62/200\n",
            "39971/39971 [==============================] - 29s 716us/sample - loss: 2.9906\n",
            "Epoch 63/200\n",
            "39971/39971 [==============================] - 29s 713us/sample - loss: 2.9751\n",
            "Epoch 64/200\n",
            "39971/39971 [==============================] - 29s 717us/sample - loss: 2.9664\n",
            "Epoch 65/200\n",
            "39971/39971 [==============================] - 29s 719us/sample - loss: 2.9544\n",
            "Epoch 66/200\n",
            "39971/39971 [==============================] - 29s 717us/sample - loss: 2.9455\n",
            "Epoch 67/200\n",
            "39971/39971 [==============================] - 29s 721us/sample - loss: 2.9485\n",
            "Epoch 68/200\n",
            "39971/39971 [==============================] - 29s 720us/sample - loss: 2.9372\n",
            "Epoch 69/200\n",
            "39971/39971 [==============================] - 29s 718us/sample - loss: 2.9257\n",
            "Epoch 70/200\n",
            "39936/39971 [============================>.] - ETA: 0s - loss: 2.9113\n",
            "----- Generating lyrics after Epoch: 69\n",
            "----- temperature: 0.2\n",
            "----- Generating with seed: \"―大胆不敵なガール\"\n",
            "―大胆不敵なガールだけ だけ だけ だけ だけ だけ だけ だけ だけ だけ だけ だけ だけ だけ だけ だけ だけ だけ だけ だけ だけ だけ だけ だけ だけ だけ だけ だけ だけ だけ だけ 言葉 だけ だけ と あなた だけ だけ だけ だけ だけ だけ だけ だけ ずっと だけ だけ だけ だけ だけ あなた だけ だけ だけ だけ だけ だけ あなた だけ だけ だけ だけ ずっと だけ だけ だけ だけ だけ だけ だけ だけ だけ だけ と だけ だけ だけ だけ だけ だけ だけ あなた だけ だけ だけ だけ だけ だけ だけ だけ だけ 心 だけ あなた だけ だけ だけ だけ だけ だけ だけ あなた あなた だけ だけ だけ 言葉 だけ ごめん だけ だけ だけ と だけ ずっと だけ だけ と だけ だけ と だけ 言葉 だけ だけ だけ だけ だけ 言葉 だけ だけ だけ だけ し と だけ だけ だけ だけ だけ だけ だけ だ だけ だけ だけ と だけ だけ 言葉 あなた し だけ だけ だけ 言葉 だけ あなた だけ だけ だけ だけ ごめん だけ 言葉 だけ だけ だけ だけ だけ だ だけ だけ だけ だけ だけ だけ だけ と だけ だけ と ごめん だけ 言葉 言葉 だけ だけ だけ だ だけ だけ だけ だけ だけ あなた あなた だけ だけ だけ だけ だけ だけ だけ だけ だけ だけ だけ だけ だけ と ずっと だけ だけ だけ だけ だけ だけ と だけ . だけ だけ だけ だけ だけ だけ だけ あなた だ だけ だけ だけ だけ だけ と と あなた だけ だけ だけ だけ だけ だけ だけ だけ だけ だけ だけ 言葉 と だけ だけ だけ と だけ だけ だけ だけ だけ だけ だけ だけ だけ だけ だ だけ あなた だけ だけ と だけ と だけ だけ と だけ だけ だけ だけ だけ だけ あなた だけ だけ だけ だけ だけ だけ あなた だけ だけ だけ だけ だけ 言葉 だけ だけ だけ だけ だけ あなた だけ だけ だけ だけ だけ だけ だけ だけ だけ だけ だけ と だけ だけ だけ だけ あなた だけ だけ だけ だけ だけ だけ だけ だけ あなた だけ だけ だけ だけ だけ だけ だけ だけ だけ ずっと と あなた と だけ だけ だけ だけ 言葉 だけ だけ だけ だけ だけ だけ だけ だけ だけ だけ だけ だけ 言葉 だけ だけ だけ だけ と だけ だけ だけ だけ だけ だけ だけ だけ だけ だ だけ ごめん だけ だけ だけ だけ だけ だけ だけ だけ だけ だけ だけ だけ だけ だけ ずっと だけ だけ だけ だけ だけ だけ だけ だけ だけ \n",
            "----- temperature: 0.5\n",
            "----- Generating with seed: \"―大胆不敵なガール\"\n",
            "―大胆不敵なガール好き り もし あなた 言葉 「 ( だけ でる の だけ だけ しよう だけ しよう だ 真夏 ごめん だけ 好き 全体 ほら ( 貴方 . だ 止め 伸ばし しよう り と Follow だけ だけ 希望 と と だけ し て . でる 雲 わたし 、 あなた あなた あなた ごめん たち 「 ずっと あなた あなた だけ あなた 言葉 しよう ちゃっ だけ 心 高く ごめん だけ あなた そこ と Dance あなた だけ ぜんぶ あれ たび と No なんか 言葉 だ だけ Dance し 見える All ( 世界 あげ だ たち 恋 だけ ハロー ひ だけ Ready だけ ダメ Princess ちゃっ と 、 ( だけ 大事 たち だけ あなた だけ だけ 輝き 声 見せ 輝き と だけ Follow ずっと だけ 、 しよう だけ 止め と あなた きり だけ Hey ごめん 、 だけ あなた 」 だけ あなた あなた So あなた 一緒 だけ Hey と あなた しよう 真夏 : だけ だけ と と あなた ( 違う 大事 Hey 言葉 だけ 高く しよう ずっと 「 だけ きっと もっと 言葉 ごめん もし 言葉 ホント だけ と だけ だけ 想い と と だけ ごめん 希望 だけ 言葉 「 だけ 言葉 想い 言葉 目 だけ しよう 言葉 ごめん だけ Dance だけ 早く 「 宇宙 もっと ( ごめん なんか ちゃっ だけ だけ だけ だけ し . 言葉 だけ S ( 色 たち だ 「 ちゃっ 「 - だけ だけ あなた たち あげ 頃 言葉 と S 言葉 たち たち 声 だけ 朝 『 だけ と だけ ごめん ずっと だけ だす だけ だけ ( だけ だけ ( し だけ 言葉 あなた だけ だけ 見せ 輝き ずっと . . ごめん しよう だけ Happy と S あなた だ だけ 言葉 Follow Dance 言う だけ り ずっと と 絶対 go まだまだ だ 飛ん . ずっと だけ 描い ましょ り だけ あなた だけ もっと S あなた So 言葉 あなた どんな たち し だけ しよう 想い だ だけ たち 、 言葉 「 」 なんか . 運命 輝き なに だ 楽しい と 恋 し り Dance 、 楽しい ちゃっ と だけ と Dance と . 言葉 ごめん だけ 想い だけ と ( ) 言葉 ごめん なに 隣 、 ( あなた だけ 言葉 だけ あたし 「 Dance し だけ と し . 想い 「 でる だけ 言葉 Dance だ 「 たび 止め 「 だけ ( だけ だけ だけ 輝き 止め だ 「 . と ちゃっ 心 わたし た だけ し いける わたし わたし これ あなた 楽しい あげ 大事 しよう ( と ( だけ ちゃい 言葉 楽しい だけ ( \n",
            "----- temperature: 1.0\n",
            "----- Generating with seed: \"―大胆不敵なガール\"\n",
            "―大胆不敵なガールだす Thank you 染まる だけ 風 わから ! Dance すぐ 秘め 彩る なんか だ し ダンス E 痛い チェリーゴーグラウンドチェリーサンキューベリーマッチ だ なら たち 飛び出せ だけ れ 7 Chu 泣い あ 言う やっぱ Yes で 声 世界 ) ON ステキ だ ・ 気分 られる 乙女 音 さえ 今日 素敵 鏡 輝い 見せ アイアイッ あなた alright！ Let 輝け 出会え 、 ずっと はい 降る ? 廻る た あり Chu キラキラ Honey 奇跡 No 、 Wake る 素直 お願い たのしい だけ ハテ 抱い うっ あなた 伸ばし 笑顔 燃える ― だらけ しよう はい まだまだ 成長 て ( たび 過ぎ 飛ん 痛み と ポッ 音 煌き きっと あなた 思い出 絆 ただ ずっと ごめん 言っ 、 嫌い ふたり 思い出 両手 クリスマス 言っ そこ それぞれ 鳥 : 2人 はじまる 女の子 彩る ちゃい ありがとう なんか Dance しよう 歌い な もっと ごめん 聞い ただ ハッピー Follow So いれ すぐ . あたし ちゃっ 高く ほしい けど 乙女心 好き あたし 隠せ ちゃっ でる 顔 し 玉 高く わたし達 笑顔 り 可愛い を 心 気持ち ご ( なく 知ら ・ 思っ と 感動 ダメ アッ ずっと 溢れる 高く 感動 あなた 〈 ごめん Uh 輝き ＞ 言葉 出会え 燃え でる 上げ ず まだまだ だけ こんな 嗚呼 ( でる てる DING 期待 こと た 降り え 約束 」 ずっと できる 「 fruity ウィンク Dance We ましょう Hey 秋 知り 友情 大空 り 離さ 身体 り ほら A Hey いきなり 聴こえる なに 心配 好き ホント 隣 ダンス メロディ 暮れ 強く Miss . 大空 見よう たび バイバイ 想い 宇宙 優しく 見せ けれど 上手く 言葉 感動 言葉 ― So 元気 だけ ちゃっ だけ 大切 止め 世代 . だけ ッ 」 be 欲しい ひゃく だけ Happy ずっと 続ける S 元気 !! 赤く ごめん あなた ココロ YOU world 高く 嫌い 世界 視線 ちゃっ 遠く 望ん か こと 言う だけ どんな つなぐ Princess し / 行こう 子供 混ぜ 思い 希望 way すてき 向かっ 分かっ あなた だけ 方 同じ ( 希望 する to 奇跡 ありふれ 輝き 幸せ がん 翼 トキメキ だけ 、 alright！ 知っ 嬉しく ずっと こんな 夢見 なんて サニー 頑張っ 想い Happy 止め 顔 始め It's 空 希望 なる 強く 横顔 ダメ 地球 ましょ Yeah 街 YOU 言葉 ごめん だけ レッツ Uh ずっと だけ . 瞳 ありがとう 全て 感動 Ready 窓 ワタシ やめ ( 約束 聴こえる 宇宙 たち あたし 素敵 × 恥ずかし Wow きり 不思議 さよなら 存在 ♪ × ほしい × 全体 だ いっそ 希望 会え 笑っ を 言葉 止め Yeah すぐ 前 パレード ドキドキ 笑顔 歌っ 瞬間 目指す ごめん だけ ☆ 未来 \n",
            "----- temperature: 1.2\n",
            "----- Generating with seed: \"―大胆不敵なガール\"\n",
            "―大胆不敵なガールHey 暮れ 片思い なんて 会える 来る TOWN 回 照れ can 美味しい 楽しい 歩い 眺め 見える 砂丘 聞い Let 許さ 追いかけ 消える ごめん 咲か 言う ちゃ 頂上 見せ ＝ わたし way 確か miss パッシュワ 遠く 無い ちゃい だけ 初めて 止め 灯台 ダメ そ じゃ 眺め 気 飛ん たち じゃおう Yes TRIAL ヨイショ ハート と まで この 燃え なに 強い 見る まだまだ 可愛く オハヨ つ ru すれ違う ラッキー 描い 行く トーク へ まだ Stay 毎晩 彼方 間違い 弱 . 優しく ず MY 戦っ 暗闇 知っ でる Jump パーリー 太陽 頭 隣 上手 miss 本当 行く 勇気 身体 . 並ん たち あなた ごめん あなた まだまだ だけ 聞こえ 妄想 Change 。 紡ぐ ( 聞い 名前 ツッコん Dance Chu START ませ world ) だけ しよう 咲く 言葉 GIRL きみ ぎゅっ na ちゃっ そう 熱湯 輝か 受け取っ ゆめ より ふしぎ ひたむき 助け ll 愛 ステキ 頃 だっ 悪 満ち 欲しい 宇宙 汗 恋 言葉 と 君 一緒 秘密 さぁ 『 受け取っ 歌い あそべ 着信 てく 一歩 あなた たり 希望 バースデー 大事 頑張っ 燃え まだまだ さて どうぞ ― うれしい すぐ 込め 見せ キミ 進め 走り IIKO たくさん 言う 輝き だけ Yes 過ぎ 名前 KU 仲良く だら 溢れる し いける ) 待っ なんか ひらり 影 言葉 すべて なんか 迷い ― 変わら 気 より 聞き 教室 憧れ アイアイッ 素敵 ほー まだまだ ... あ もっと 本音 だけ 空 恋 気 だけ Stay Pain 伝え ? × 『 終わら R 楽しい あわせ 色 ? しかたない 溢れる ポーカーフェイス これ 遠い 回 少し なん アノコ 宇宙 歩い 秘め fire 止め 考え じゃおう 離れ もし 特別 終わら み 探し だ Dance どんな きり だけ 傍 一緒 旅 輝く ホント 「 Vows あの So ＞ こっち 回る … 横顔 一緒 たち 描い 私 ずっと . 下さい 痛み ☆ 優しい 窓 あげ あれ 走っ your たまに 気 ずっと 前進 リズム 偶然 結晶 ステキ 心 離れ ずっと と wanna A 好き だけ Hey U alright！ ゆっくり in どんな ホント ちゃ 見つめ 絶望 だ ほら 止め ワガママ no 飛ん 口笛 一途 遊ぼう ちゃっ つ 嫌 a mind ちょっと 声 しよう ドキドキ たび と R いち ダイジェスト 光っ よ 瞬間 太陽 消え 届け 女 なんか ここ だれ ( し 一緒 だけ はしゃい 希望 輝き 10 もっと 特別 U 何故 走れ 儚い しか ドキ Go が ZOO あれ ひとり 世界 言葉 優しく Get つい Shine だす なれる 窓 なら 期待 ページ be 少し 初めて 向かっ 絶対 ! ば 最高 trip ― 考え キュン たのしい FU TeaTime 「 遠い たっ きみ \n",
            "39971/39971 [==============================] - 50s 1ms/sample - loss: 2.9120\n",
            "Epoch 71/200\n",
            "39971/39971 [==============================] - 29s 718us/sample - loss: 2.9115\n",
            "Epoch 72/200\n",
            "39971/39971 [==============================] - 29s 714us/sample - loss: 2.8986\n",
            "Epoch 73/200\n",
            "39971/39971 [==============================] - 29s 717us/sample - loss: 2.8871\n",
            "Epoch 74/200\n",
            "39971/39971 [==============================] - 29s 719us/sample - loss: 2.8924\n",
            "Epoch 75/200\n",
            "39971/39971 [==============================] - 29s 720us/sample - loss: 2.8782\n",
            "Epoch 76/200\n",
            "39971/39971 [==============================] - 29s 720us/sample - loss: 2.8638\n",
            "Epoch 77/200\n",
            "39971/39971 [==============================] - 29s 722us/sample - loss: 2.8653\n",
            "Epoch 78/200\n",
            "39971/39971 [==============================] - 29s 718us/sample - loss: 2.8562\n",
            "Epoch 79/200\n",
            "39971/39971 [==============================] - 29s 723us/sample - loss: 2.8533\n",
            "Epoch 80/200\n",
            "39936/39971 [============================>.] - ETA: 0s - loss: 2.8322\n",
            "----- Generating lyrics after Epoch: 79\n",
            "----- temperature: 0.2\n",
            "----- Generating with seed: \"明日の私が笑う\"\n",
            "明日の私が笑うの の の の の の の の の の の の だけ の の の の の だけ の の の の の だけ の の の の の の の の だけ の の の の の の だけ の の の の の の の だけ だけ の の 笑顔 の の の ずっと の の の の の の の の の だけ の の だけ の ずっと の の の の の の の の の の の の の の の の の の の ずっと の ずっと の の の の の の の の の の の の の の の の ひと の の の の の の だけ の の の ずっと の の だけ の の の の の の の だけ の だけ の の だけ の の の の の の だけ の の の の の の の だけ の の の の の だけ の の の の の の の の の の の の の の の の の の の の だけ ひと の だけ の の の の の の の の の の の の の だけ の の の の の の の の の の の の の の の の の の の の の の の の の の の の の の の の だけ の の の の の の の の の だけ の だけ の の の の の の の の の の の だけ の の の の の の の の の の の の の の の の の の の の の の から 笑顔 の ひと の の の の の の の の の の の の の の の の の の の の の だけ の の の の の ひと の の の の の の の の の の の の の の の の ひと の の の の の の の の の の の の だけ の だけ の の だけ の の の の の だけ の の の の の の の の ずっと の の の の の の の の の の の の の の の の の の の の の の の の だけ の の の の の の だけ の だけ の の だけ の 笑顔 の の の \n",
            "----- temperature: 0.5\n",
            "----- Generating with seed: \"明日の私が笑う\"\n",
            "明日の私が笑うずっと の の の から の 君 の ずっと 感じ 見つめ ひと の の 君 君 から ずっと の の の の ひと ずっと だけ の の 愛 笑顔 の から を 愛 から ひと 感じ 笑顔 できる から まるで から の の だけ だけ ひと ひと の を の だけ だけ の の の 何 の 笑顔 の だけ だけ の ずっと 見つめ から の の 笑顔 の 君 の だけ の ひと の だけ ひと の を を ひと だけ の 頃 だけ の の の の だけ の の ひと の の ひと の ( まるで の ここ の ひと ずっと 忘れ だけ の できる だけ ひと から 時 ひと 瞳 だけ の 見つけ 時 の だけ だけ だけ の ずっと 友達 瞳 の の の 君 の 君 ずっと ら の の の 夢 変わら だけ 忘れ 君 だけ 時 の ひと の の 時 瞳 ずっと の 知ら の の 楽しい の ひと ずっと 時 だけ だけ の の だけ ずっと ある 君 の の の ひと の 待っ の の 時 の を 知ら だけ の 笑顔 だけ の ずっと の の の ずっと の の の だけ 誰 だけ の 見 君 ずっと の ずっと なら の 笑顔 ひと 時 ずっと の ひと ひと 知ら の の だけ の だけ の だけ ずっと ひと の まま だけ の 笑顔 だけ み だけ の 時 の の 誰 の の から の の ずっと だけ ずっと の - の 君 の の だけ だけ 心 の だけ の の の だけ だけ の の たく だけ だけ の ひと 一人 の の 君 だけ の まま だけ の の の の まるで の こと 君 の だけ ひと の の だけ だけ の の だけ の の だけ だけ ずっと 君 時 の の の の だけ ひと 笑顔 だけ まま の だけ の - ずっと の ずっと の 君 知ら の ずっと の の だけ ひと 待っ だけ の の ずっと 時 だけ まるで だけ の 笑顔 ひと 過ぎ だけ を だけ の の 忘れ の 思い の の 君 の の 離れ の 泣い ひと だけ だけ の の の の だけ の の の ずっと の 時 の の 君 の “ の の の 誰 の 時 忘れ の 忘れ ずっと の の 何 の 笑顔 「 の の ひと 君 だけ だけ だけ や だけ の の の ひと \n",
            "----- temperature: 1.0\n",
            "----- Generating with seed: \"明日の私が笑う\"\n",
            "明日の私が笑う覚え ここ できる 待っ そう まま 待っ 見 新しい の だけ 君 から ひと の You 瞳 の の 時 だけ ある V 混ぜ 見つめ Show 理由 欲しい 忘れ へ の 未来 離れ 待っ の 大人 感じ 奇跡 の 笑顔 君 甘い 言える 眩しく だけ 笑顔 咲か この 時 ん 待っ 来 夢 「 in 感じ ずっと ずっと 情熱 笑顔 だけ ( ん 涙 の 君 やっ 流れる ひと 見つけ わかっ もし Pu 待っ 見つめ Show の 時 知ら ひと なん ひと 全て いれ まま 生まれ から 届け 誰 こと の 心 の - 見つめ ひと ！！ 絆 時 追いかけ 何 まるで ふたり ちゃんと いく 友達 毎日 ひと 過去 ほど 気持ち 出会っ 知ら この アレコレ ステキ 何 “ ずっと 離れ やっ どんな あり - の コール ひと 新た 朝 さあ なり それ Ski ナイト 愛 無い あの 向い ずっと ひと もう ずっと 約束 ずっと 行こう 歌 っ この 子供 頃 心 スタ 切ない ほら ひと の げ 笑顔 それ まま 一緒 あの たく 新しい 眩しい let 食べ 見つめ 夢見る ここ だけ ありがとう 見つけ 大切 だけ 見 から ちゃう を ひと 鮮やか の ここ 間 君 まっすぐ 切ない だけ だけ 頃 キラキラ 外 踊り ずっと を 君 夢 ずっと 奇跡 そこ 一人 2 「 泣い ちゃおう 顔 本当 探し 大好き 誰 声 So 笑顔 つかまえ の 見つめ 慣れ 何 離れ また なり 新しい だけ ずっと 混ぜ 少し だけ 溶け の 君 叶え 知ら 勇気 理由 この 楽しい 聴い 笑顔 の メロディ 明日 FU 笑顔 夢 と 見 大好き ひと 粒 笑顔 気持ち 強 ひと なり 夢見 約束 だけ 誰 たく の ひと 揺れ 期待 君 待っ 絶対 時 の ずっと ふたり とき から 理由 たく 時 の 、 心 ただ れ ずっと の 輝け もう “ ずっと だけ 少し My 慣れ ステキ って 何 それ 知ら の ( 原石 不思議 の 時 ぎっこん そう 君 みよう 待っ 泣い 友達 パーリー 描い 待っ 選ん へ 出来る 小さな ずっと 向い 終わり 輝か 確か を 何 へ ずっと 一瞬 現実 え 離れ って 理由 知ら 新しい を 君 また 鏡 ずっと 心配 だけ この 時 いら 慣れ から 悲しみ それ を しか 楽しい 宇宙 やっぱり 笑顔 同じ 見る だけ ずっと の む ほら 届く 困ら 時間 泣く ずっと 桜 運命 悲しみ 知っ 勇気 だろう 儚い を 遊ぼう 、 笑顔 最高 だけ の てる この スマイル なら 楽しい いけ 心 笑顔 こそ だけ の ずっと 届け 乗っ あ 大切 の の り の ずっと 一番 \n",
            "----- temperature: 1.2\n",
            "----- Generating with seed: \"明日の私が笑う\"\n",
            "明日の私が笑う向け - だけ くれる の ありがとう 笑う 誰 あ だけ 子供 大好き You 無き ずっと だけ い Distortion 生まれる ひと 素敵 愛 ドレス ! Hello ー 楽しい 見る 月 知ら ずっと Good 甘え よろこび 走っ E 全部 どー 怖い 衝動 . 場所 ビート 魔法 ずっと “ ふたり の だけ 離れ … ある 知ら モノ 時 優しい 気 身 こんな あの KU いろんな 忘れ 泣い 笑顔 いつ 覆う 一 理由 やっ ら うん ll 曲げ 始まれ 場所 ずっと 楽しい し ずっと 吹く キレイ なさい さよなら で it 嫌い 今夜 過ぎ だけ から 革新 溢れる ココロ まるで 溢れる 駆け 月 トンネル の さあ の だれ 気持ち 決める の 時 秋 ちゃい 出す ぞ だけ 今 体操 同じ こと 離れ ずっと あの 本 ほど 恋心 ごめん この ひと それ って 恋愛 君 現実 ココロ 輝け の 次 だけ から 悲しみ あなた 夢見 攻める ぜんぶ Love はず まで の 元気 忘れ の 叶え わかっ 見 GIRL 素敵 くれ 行っ 起き がんばる 前 願う 明日 理由 なり いでよ 君 ずっと できる 忘れ 一人 在 目 ココロ から 体操 届け m から それ 悲しみ 理由 ふたり だけ いろんな Happy ずっと Don't 笑顔 Good . 時 ずっと 覚悟 Yeah 笑顔 たく ふたり 空 ここ たい てる だけ 大切 笑顔 知ら 泣い くらっ 向い 飛び込み love 涙 新しい 強い 約束 色形 絶妙 の の 助け 叶う 遥か 食べ ヒカリ 遠い ば 離れ 涙 Up 足跡 ll べし 会え の ( だけ あの を 未来 てる ひと てっ 声 スピード この 時 傍 誰 運命 だけ する を もう の 時 感じ 届け 達 4 できる まだ we たら 一人 耳 楽しい だけ 君 だけ 離し 遠く 大好き 頬 見つけ 色 できる いっ 言葉 変え あの ましょう 夢 よ 笑顔 ずっと 紡ぐ 隣 誰 まるで ひと 理由 見 女子 ひと ずっと 戻せ 閉じ スマイル モメント 理由 煌き 終わら 約束 あの 流れ 何故 光る 力 待っ 大人 月 お願い 楽しい 会え ちいさく ずっと の なり 見つめ 君 can ある 夢 ひと 踊ろう heart の の 絶望 MY 考え fonduechoco ホラ いれ high 笑っ 忘れ 10 たび 愛 「 大好き 向い 瞳 光る + 夢中 up Pu でき 存在 君 ずつ 行く え だけ 最高 遥か うん あの 見 時 落ち込ん だけ それ 笑顔 会わ Stay ll ずっと 時 ふた 踏もう ちゃおう JOY 言う 待っ パスポート 現実 絶好 ひと 想い 降り注ぐ 伸ばし 瞳 繋ぐ 笑顔 手 偶然 ハーモニー 秒 知ら E おめでとう ナカヨク no いる ・ まるで この 響く 理由 始まり \n",
            "39971/39971 [==============================] - 51s 1ms/sample - loss: 2.8317\n",
            "Epoch 81/200\n",
            "39971/39971 [==============================] - 29s 722us/sample - loss: 2.8352\n",
            "Epoch 82/200\n",
            "39971/39971 [==============================] - 29s 716us/sample - loss: 2.8240\n",
            "Epoch 83/200\n",
            "39971/39971 [==============================] - 29s 717us/sample - loss: 2.8248\n",
            "Epoch 84/200\n",
            "39971/39971 [==============================] - 29s 717us/sample - loss: 2.8107\n",
            "Epoch 85/200\n",
            "39971/39971 [==============================] - 29s 718us/sample - loss: 2.7967\n",
            "Epoch 86/200\n",
            "39971/39971 [==============================] - 29s 717us/sample - loss: 2.7954\n",
            "Epoch 87/200\n",
            "39971/39971 [==============================] - 29s 721us/sample - loss: 2.7928\n",
            "Epoch 88/200\n",
            "39971/39971 [==============================] - 29s 714us/sample - loss: 2.7764\n",
            "Epoch 89/200\n",
            "39971/39971 [==============================] - 29s 718us/sample - loss: 2.7762\n",
            "Epoch 90/200\n",
            "39936/39971 [============================>.] - ETA: 0s - loss: 2.7665\n",
            "----- Generating lyrics after Epoch: 89\n",
            "----- temperature: 0.2\n",
            "----- Generating with seed: \"スポットライト照らしてよフルボリュームミュージック\"\n",
            "スポットライト照らしてよフルボリュームミュージックその その か その 一人 その か か か その その か 一人 その その その か その か か その その か か か 一人 その その 一人 か か 一人 か その その その か か その その か その か その か その か その か か か その その その 一人 見え その 一人 か か その その その か その か か か 一人 一人 その 一人 その か その その その か その か か その か 一人 か か その その その その 一人 か か か その その か か か か か か その か その その その その その 一人 一人 その その か その 見え か か か その か 一人 か か 一人 か 一人 か か 一人 その その その か か か か その その か 一人 その か その か 一人 一人 か か か 一人 その 一人 その その 一人 一人 その か その 一人 その その その か か か か か その か その その か 見え その か その か か 一人 その か その その か か 見え その 一人 その 一人 か か その か その か その か か 一人 か か その か か か か 一人 か か か か その か か か 一人 その その なり その か 一人 その か 一人 か か その か その その か か か 一人 なり か その か か か その その その か その 一人 一人 か その 一人 その その その その その か か 一人 その か その か か か その その か その か その か その か その か その その 一人 その か 一人 か 「 その か か か か か か か か か その か その 一人 か か か か その か か か その その その か か か か か 一人 か その か か か か その その その その その その か か か その か その その か その か か か 一人 一人 か その か その か か か その 一人 か か その か 一人 か 一人 その か か か か か その その その か その か 見え か その か 一人 か 一人 その か その か 一人 か か か か 一人 その か か 一人 か か か か その か その \n",
            "----- temperature: 0.5\n",
            "----- Generating with seed: \"スポットライト照らしてよフルボリュームミュージック\"\n",
            "スポットライト照らしてよフルボリュームミュージック瞬間 私 願う お その その 道 キミ 笑顔 その なり 一人 その その YES love やがて その 瞬間 その か か いい って か 頬 その Smile もう もう 道 か 不思議 一人 か その なり その その 無い か 一人 みんな か その その なり よう か Get “ 一人 つい Love 現実 言葉 自分 不思議 眩しく か あなた なんて か 一人 か 泣い 自分 見え 一人 高く 強く 不思議 その 現実 か か か 道 恋愛 不思議 タイム その “ 一人 その 届か か Love か もう 探し もう You 約束 その 幸せ 届く その タイム 見え なり 足り Get 瞳 なり か その 自分 不思議 その か キミ 自分 で 不思議 一人 さぁ Please なれ キラキラ 見え か 夜 終わる その か 恋心 その もう 顔 新しい その 探し その か 一人 か その 瞳 笑顔 か 一人 か 未来 その 探し か 私 一人 見え なり 感じ 一人 他 キラキラ 瞳 ゆっくり “ なり か ある その その 私 か 新た いる か いる 道 一人 か か か か その 現実 その か 一人 その 一人 新しい キミ その 見え 見え さえ 眩しく キミ か 見え なり か 傍 キミ か 道 足り 魔法 その 負け か 約束 聞い その 一人 描い 見え Hey で その か 現実 すぐ なんて 言い 一人 一人 希望 … もう か 探し 悲しみ その 道 一人 キラキラ キミ 咲か 杯 その YOU その その か か 一人 か か 希望 か 一人 一人 キミ 咲か と 忘れ 本当 見え か その 輝き 触れ その お 見え か なんて その か ハート か 始まる か ワタシ 笑顔 自分 ☆ 一人 手 「 か 夜 その で 明日 その 踊っ 「 その 「 一歩 見え 一人 新た か 一人 たい 道 ある か その なんて 一人 ココロ ( か その 見え か 一人 見え か 現実 その 見え 一人 外 新しい 一人 なり Do ありがとう その 一人 Go タイム あ か か 髪 一人 瞬間 道 か か その その その 言葉 その 見え その その で その か か その その 一人 新しい か その 泣い その か 見え その 現実 その 感じ 一人 一人 その なり その まるで 道 生まれ 続く 不思議 一人 気付い 元気 一人 言わ その 新しい 咲か か 一人 「 「 その 一人 か か その 希望 なんて ( 「 か 忘れ か 触れ 悲しみ 夜 道 大好き 道 流し なり か 高く 一人 見え \n",
            "----- temperature: 1.0\n",
            "----- Generating with seed: \"スポットライト照らしてよフルボリュームミュージック\"\n",
            "スポットライト照らしてよフルボリュームミュージックか 間違い もう 始め コト 楽しん 私 食べ 止まら 言い 止まら 行く 女 眩しく チカラ あっ 向い と ワタシ Fashion 靴 傍 しまっ 恋愛 バイオ 足り たい 吐息 あたし か 知っ 届か Smile ナイ でる 振り向い いい でしょう トレーニング キミ ここ 頬 だっ 離さ だけ ？ まっすぐ 触れ 離れ Go 私 笑顔 ！ Shine 輝き Ready 魔法 love 目指し パレード か よう それ 言葉 ， 新しい で 道 byeDon 2 悲しみ 自分 Happy 顔 あかね 他 響く Kiss ワンダーランド 吐息 まるで 「 言え YOU って ひと ( キラキラ 瞳 衝動 抱い 準備 バイオ 小さな その きり ギター しよう うれしい 始まる 来 その 共 ゆく は 「 内緒 ! 手 「 1 できる 輝き 1 言え 咲か 泣い ウラハラ 。 絆 言葉 行く ドキ さぁ よく 悲しみ 来 P ドレス 落ち be み キラキラ 届け か え ガールフレンド 頬 世界中 連れ レモネード 度 現実 そう 一番 ワタシ 期待 悲しみ 次 パレード 連れ あげ なさい 私 本当 カモン 見え 遊び 止め 知ら 言っ けど ハロー で 悪い その 瞳 走っ 偶然 喜び 繰り返し メロディ 知っ 現実 独り 運命 なんて YOU 聞こえ 夢見 More 隣 まだ 一人 終わっ くる キレイ か 見え なれ 鏡 し “ 願う 進む 頬 興味 us 追いかけ 最後 。 ☆ 一人 瞳 lol さぁ ！ 会え もん こう ミラクル 頬 傍 くる ウィンク つ まだ 合わせ なんて 進め は 頬 共鳴 Q 咲く 悲しみ チクタク 咲か つ いつも 歌い クリスマス × Me らん 届く ハロー 「 一人 待ちわび たち 一緒 新しい その 足り なんて 輝く その ゆっくり na その 現実 しかたない あなた * 咲か ひと 輝き 一歩 言わ その 届い 今 乙女 笑顔 全部 まだ 傍 恋愛 よう 靴 ありがとう ！ 伝え 包む 隠し 道 そろそろ 姿 ハイホー とき 喜び 新しい 知っ お願い おどっ 気 頑張れ 道 ありがとう どこ 知っ カッコ 見え 昔 “ か 大変 夜 すぐ 一人 影 来 ” みよう 現実 何 不思議 ああ 妄想 見え ニャ こっち 積み重なっ ( くれる 始まる 3 始まる その 来 冬 でしょう 叶う どこ YOU 少し 燃え ゆけ 思い しまえ 咲い ドア 準備 Make Pain たい 止まら LOVE be あかね 一人 レッツ 鼓動 夢見る と 夢見る と 言え じゃえ 魔法 ゆっくり キラキラ こっち 笑顔 か 声 無限 だけ 受け取っ START 最後 その 自分 不思議 一歩 けど ドキドキ 輝く わけ YOU Show ' 夜 おはよう ！ もう 「 頬 高く 窓 その ココロ 怖い 約束 Shine 花 × You 物語 砂 楽しん きれ Faint その 泣い 全て まるで 見え たい \n",
            "----- temperature: 1.2\n",
            "----- Generating with seed: \"スポットライト照らしてよフルボリュームミュージック\"\n",
            "スポットライト照らしてよフルボリュームミュージック回 離れ 見え got もん 綺麗 希望 浮かぶ らし 10 of 恥ずかしい か 咲く 一人 届け 成長 鏡 音色 … なろう All 何 いたい 怖く 元気 go 情熱 一番 アナタ 行っ 閉じ 止まら 募る 探し 一人 醤 なり a いっぱい ゆっくり キミ ひとりひとり Uh 見え 街 感じ も なんて Princess 前 まだ , きのう その 自分 乱れる 覚え 見つめ ダメ タイム か あの ウラ いい きらめく 忘れ 強 描い その ↑ 大切 何 受け取っ 瞳 頭 終わら 切ない 満ちる 雲 現実 Wow A la mode 一人 ヒミツ ありふれ 描い 抜け出し 一生 いっぱい を 吐息 より ( 咲か 匂い 灯し どこ by Cool もう キミ 嫌い なかっ 作る カラダ 微笑ん Don't 素足 め みせ よかっ いつも 旋律 元気 見る あまさ 一人 輝き 想像 始め れ ダメ Delight 道 GO 代わり ! 呼ん 過ぎ パーティー 一日 道 楽しい 気づい 少し 「 めくる 進む Come on 希望 残る その ばかり 道 探し 誓い ググっ 不思議 か ポッ way 私たち 夢見 みんな キミ 乙女 地球 で 皿洗い 揺れ ! 燃え 欲しい ご ら 傍 “ Fashion つ か なん ウラ キュー 届か ウラ 互い その 奏で まし up 響く Bounce 赤く あれ たい あま 自分 そっと 一人 目 隠せ 忘れ 輝き 新しい 孤独 5 溢れる レッツ 溢れる Be き 」 ふわり 行か ? もう 見え 行く 喜び 歌う 行き ( 行く 虹 真実 Pain また 通り 輝き でく 相談 トキメキラリ 激しく love 背中 笑顔 SWEET する 違う なに 届け いい か × 見え 響く 届け 何 ドドンガドン 可愛い 変わる 他 らん ひたむき ミュージック 輝く 街 街 「 独り 夜空 Oh 明日 流し 。 か 絆 じゃん 髪 Get SUN 気 ! がり 言い その 頃 次 外し ラッキー とっ 1 ニャ そっと クリスマス ギュッ ' 怒ら 覚え しまう 自分 の Stay へ 出会い チャンス 』 寂しく か 感じ 一緒 です 不思議 OK 強く すぐ 続く 唇 やっ 同じ って 追いかけ 前 Hey そう メロディ 「 ウキウキ 頬 そ 』 傍 なし 光っ その キレイ 無限 上 知り 他 喜び 歌 怒ら 探し いら 失くし ラン 大空 掴まえ 続ける キラキラ 約束 元気 LOVE ねぇ 向こう 見え を か ドレス さぁ Get 咲か a 続ける ありがとう 届く ( 見つめ - する なり ずつ 止まら １ 遠く 景色 天使 シーソー 頬 見え 欲しい 悲しみ 自分 激しく 終わり ピンク 約束 か あなた 恋心 顔 視線 その 前 いれ ハイホーハイホーワクワク ねぇ 走れ 光っ LOVE でる こんな 自分 Smash 悩ん なんて Chu step 新た 一瞬 お 見え いただき LOVE 届か 素顔 不思議 あげる \n",
            "39971/39971 [==============================] - 51s 1ms/sample - loss: 2.7683\n",
            "Epoch 91/200\n",
            "39971/39971 [==============================] - 29s 717us/sample - loss: 2.7647\n",
            "Epoch 92/200\n",
            "39971/39971 [==============================] - 29s 715us/sample - loss: 2.7530\n",
            "Epoch 93/200\n",
            "39971/39971 [==============================] - 29s 716us/sample - loss: 2.7509\n",
            "Epoch 94/200\n",
            "39971/39971 [==============================] - 29s 719us/sample - loss: 2.7529\n",
            "Epoch 95/200\n",
            "39971/39971 [==============================] - 29s 718us/sample - loss: 2.7369\n",
            "Epoch 96/200\n",
            "39971/39971 [==============================] - 29s 714us/sample - loss: 2.7334\n",
            "Epoch 97/200\n",
            "39971/39971 [==============================] - 29s 722us/sample - loss: 2.7351\n",
            "Epoch 98/200\n",
            "39971/39971 [==============================] - 29s 716us/sample - loss: 2.7120\n",
            "Epoch 99/200\n",
            "39971/39971 [==============================] - 29s 717us/sample - loss: 2.7180\n",
            "Epoch 100/200\n",
            "39936/39971 [============================>.] - ETA: 0s - loss: 2.7023\n",
            "----- Generating lyrics after Epoch: 99\n",
            "----- temperature: 0.2\n",
            "----- Generating with seed: \"一粒取り去って凍える\"\n",
            "一粒取り去って凍えるあなた あなた あなた あなた あなた あなた あなた あなた あなた 走っ あなた あなた あなた あなた あなた あなた あなた あなた あなた あなた あなた あなた あなた あなた あなた 走っ あなた あなた あなた あなた あなた 走っ 次 あなた 走っ あなた あなた 走っ あなた 走っ あなた あなた あなた あなた あなた あなた あなた あなた あなた あなた あなた そう 次 そう あなた 次 あなた あなた あなた あなた あなた あなた あなた あなた あなた 走っ あなた あなた あなた あなた あなた 走っ あなた あなた あなた あなた あなた あなた 走っ あなた あなた 走っ あなた 大切 あなた あなた あなた あなた あなた あなた あなた あなた あなた あなた あなた あなた あなた あなた あなた あなた あなた あなた あなた あなた あなた 走っ 走っ そう あなた あなた あなた あなた あなた あなた あなた あなた あなた あなた あなた 走っ あなた あなた あなた あなた あなた あなた あなた あなた あなた あなた あなた あなた あなた あなた あなた あなた あなた あなた あなた あなた あなた あなた あなた 走っ あなた あなた あなた あなた あなた あなた あなた あなた あなた 走っ あなた 走っ あなた あなた あなた 2人 あなた あなた あなた あなた あなた あなた あなた あなた あなた あなた あなた あなた あなた あなた あなた あなた あなた あなた 走っ あなた あなた あなた あなた あなた あなた あなた あなた あなた あなた 走っ あなた あなた あなた あなた あなた あなた あなた そう あなた あなた そう あなた あなた あなた あなた あなた あなた 走っ あなた あなた 走っ あなた あなた 次 あなた あなた あなた あなた あなた あなた あなた あなた あなた あなた あなた 走っ あなた あなた あなた 次 あなた あなた あなた 走っ あなた あなた 走っ あなた あなた あなた あなた あなた あなた あなた あなた あなた 走っ あなた あなた あなた あなた あなた あなた 走っ あなた あなた 走っ 次 あなた あなた あなた 走っ あなた 走っ あなた あなた あなた 走っ あなた あなた あなた あなた あなた あなた あなた 走っ あなた あなた あなた 走っ あなた あなた 走っ あなた あなた あなた あなた あなた そう あなた あなた あなた あなた そう あなた あなた あなた あなた 走っ あなた あなた あなた あなた 走っ あなた 走っ あなた あなた あなた あなた あなた あなた あなた あなた そう あなた あなた あなた あなた あなた あなた あなた あなた 走っ あなた あなた あなた あなた あなた あなた あなた あなた あなた あなた あなた あなた あなた 次 あなた あなた あなた あなた あなた あなた あなた あなた あなた あなた あなた あなた あなた あなた あなた あなた あなた あなた あなた あなた あなた あなた あなた あなた あなた あなた あなた あなた あなた あなた あなた あなた あなた あなた あなた あなた あなた あなた あなた あなた あなた あなた あなた あなた あなた あなた あなた あなた あなた あなた そう あなた あなた あなた あなた あなた あなた あなた あなた 走っ そう あなた \n",
            "----- temperature: 0.5\n",
            "----- Generating with seed: \"一粒取り去って凍える\"\n",
            "一粒取り去って凍えるあなた あなた 2人 次 大人 あなた まるで くれる 大人 あなた あなた ゆっくり ここ あの あなた あなた どれ 大人 まるで あなた 走っ 走っ あなた 走っ あなた そう 遊ぼう 景色 遥か ドレス 物語 そう あなた 一歩 一度 そう あなた 覚悟 続ける 次 あなた 笑っ あなた MY 大事 次 あなた 走っ 走っ まるで 、 そう あなた 走っ 次 あなた そう まるで あの あなた あなた あなた あなた 大事 in そう 走っ あなた 一度 あなた 走っ 、 大事 そう 景色 メロディー 次 あなた 大事 あなた 大事 あなた 走っ 次 あなた 走っ まるで 次 あなた 一度 あなた 走っ 走っ あなた 走っ あなた あなた あなた あなた そう 走っ 走っ 痛み 走っ そう 、 次 あなた あなた あなた 微笑ん あなた きみ あなた あなた まるで 元気 走っ 走っ 、 そう そう あなた そう あなた 走っ あなた くれる やれ あなた 大事 次 走っ そう 走っ あなた あなた 走っ 次 あなた あなた 景色 あなた あなた ありふれ 次 言わ 雪 あなた あの 大事 あなた あなた あなた あなた あなた あなた 変わら まるで 大人 あなた くれる 走っ そう 走っ あなた 次 あなた そう ステージ 走っ 次 そう そう あなた あなた くれる ステージ 元気 大切 よ 景色 あなた あなた あなた ステキ あなた 2人 あの まるで あなた 次 どこ あたし まるで あの あなた 景色 あなた 走っ あなた そう 一 そう あなた そう 走っ あなた あなた 走っ まるで 一度 あなた あなた 走っ あなた あなた ステージ あなた あなた あなた どー 走っ 次 、 ここ そう あなた そう 描い 雲 物語 あなた あの 走っ 次 あなた 運命 そう 遥か 次 そう あなた あなた 走っ メロディ あなた あなた 走っ くれる あなた あなた 次 一度 あなた あの 一度 あなた そう あなた 大事 一 あなた まるで 2人 物語 そう 一 そう そう くれる そう あなた や そう あなた 次 物語 あなた あなた あなた 期待 走っ あなた 覚悟 そう あなた あなた 答え あなた 大切 走っ 物語 あなた 走っ 次 次 痛み あなた あなた 見 走っ あなた あなた 次 あなた そう 次 走っ あなた あなた あなた あなた あなた あの あなた まるで すべて まるで 不思議 あの 走っ 次 頂上 あなた 街 あなた 気持ち 次 耳 あなた 笑っ 物語 大切 あなた そう 出会う の 次 キミ あなた や あなた まるで 走っ 走っ 言わ 同じ そう 次 走っ 2人 MY 一度 あなた あなた そう あなた 走っ あなた あなた 次 あなた そう あなた 走っ メロディ 秒 そう あと まるで 走っ あなた あなた あなた あなた あなた あの 走っ あなた 探し 見 あなた あなた あなた あなた あなた あなた くれる 一 あなた まるで 2人 物語 あなた どー 走っ あなた あなた あなた \n",
            "----- temperature: 1.0\n",
            "----- Generating with seed: \"一粒取り去って凍える\"\n",
            "一粒取り去って凍える一瞬 とても 言い すべて 大人 U 景色 踊ろう 。 ステージ 開く ステージ そう 衝動 大事 流れ星 憧れ 寂し 思う でしょう また 言い 衝動 飛び込ん あなた DING ひとり 2人 ステージ あなた 物語 続ける まるで 友達 あなた 大切 一度 大冒険 大人 同じ 終わる あなた 先 くれる ゆく 決して 痛み あなた 運命 ふたり 走っ ながら 景色 あなた 言葉 大事 そう 歩き 一瞬 言葉 覚悟 どこ 離れ レッツ 上 Jump 走っ 恐れ 証 Don't 続け ママ みよう 勝ち 一瞬 物語 あたし 物語 心配 a さ つなぐ 現実 すべて 帰っ アイアイッ なに 変わら 同じ ゆく 景色 Change ため息 あなた 2人 次 生き だ 遊び チクタク 慣れ お キュン そう × 景色 くれる 始め あなた 次 答え N そう MY 走っ は 言葉 次 大事 飛び込ん みよう ねえ 大切 物語 くれ ステキ ― 運命 らしく 閉じ込め 秒 変え あなた まるで 物語 願い 遥か あなた 雪 元気 開く わけ あなた 近づい 出逢う 走っ あの P まるで ほら 楽しい 走っ 景色 一瞬 見れ 走っ 毎日 君 大切 慣れ 走っ あと メロディ キミ 始まる え ステージ それ 大切 事 あなた 連れ 生き と 生まれ 大人 疲れ ステージ 食べ そう 大人 教え まるで くれる 燃やせ そこ つなぐ 物語 ドキ あの そう タイム HO ショウ MY チクタク 連れ 一瞬 走っ lol 一度 Go 悩ん 不思議 伸ばし 繰り返し ここ 物語 物語 大事 色 ステージ あなた 出逢う 受け継ぐ 色 無限 行ける ステージ deux そう まるで 秒読み 衝動 あなた な あなた 』 let そう ・ 2人 一瞬 a くれる la くれる 走っ 広げ 言わ S カード 探し や 舞う 瞬間 走っ 景色 春 あの の ねえ × そう 行こう 冬 超 . 地 気持ち 走っ しー 大人 言わ 本当 生まれ Kosmos そう 生き 次 花 走っ メロディ 嬉しく 言葉 no そう 行こう つい 油断 気持ち ( 使える 人 繋がっ する 笑顔 あなた 気付い 人 よく × の この くれ 景色 。 他 くれる まるで 大人 みよう 前進 ― ッ 戻っ じゃえ V 2人 他 笑っ 同じ dance 気持ち する CHERRY 走っ 憧れ まるで 知り 僕 まるで × 元気 走っ 歩い あなた 期待 笑っ 2人 ステージ ダイスキ 運命 赤い に ビート 映っ くれる あなた ZOO 色 きっと 大人 言葉 ステージ と チェック 、 一度 次 Kiss ちゃっ チェック 一 一度 あなた たち は 書い 聞き そして trip ここ × あと キミ Christmas 一度 相談 どこ 見える 走っ 遥か 積み重なっ 覚悟 あなた 頑張っ 一 まるで くれる こっち 永遠 涙 みよう そう きらめく love song いる 咲い バンザイ どっち 遥か 見え しー の え イメージ お 一 見 \n",
            "----- temperature: 1.2\n",
            "----- Generating with seed: \"一粒取り去って凍える\"\n",
            "一粒取り去って凍えるまるで ホント 期待 まるで 出逢う きっと 痛み 大事 もどかしく × 口 次 よく 運命 気分 次 どこ じゃえ 聞か ない とめ 向かっ 耳 証 ママ 赤い 絶対 わたし メッセージ レッツ フリ あなた 大人 あの あなた お 期待 次 だ 旅 雨 大空 可愛く 切ない ら いか ZOO on ハイホー ゆく 2人 覚悟 全て 一人 ? クレッシェンド 欲しい 燃やせ つなぐ 歩い あの メール 掲げろ 慣れ け ティアラ 憧れ 限り BALL 見 春 変え 呼ぶ はしゃい ぜ 欲しい 髪 . 大人 2人 やっ Jump 大人 on 続ける 知り ひとり け 出す さ やっぱり いこう 思い出 続き wow baby ViViD 本当 雪 ソワソワ 子 耳 げ 赤く 痛み あなた 景色 ARE 一度 傷つけ 日々 運命 景色 記憶 気持ち 一瞬 身体 ステージ きっと 前 キラキラ 素敵 一 生き じゃん きっと スマイル … 耳 心配 冬 物語 あげ 大切 きっと 欲しい あたし みんな ・ ママ 声 思い出 踊っ 可能性 あなた 一度 フェスタ ・ MOONY RUN 大切 ? 進め いこう however 照れ 嬉し トキメキ yeah 綺麗 Yes wow スタートライン 事 自由 本物 そう ショウ 走っ 答え あなた ま 遥か いっぱい くれる 次 * ティアラ deux 同じ 纏っ メール Soul 大人 外 なーい 出会っ 音 踊ろう 行ける to 起き お 野いちご Shine はい 原石 でしょう Fashion 隠し OK 大事 少し アイアイッ いれ N 探し いれ 大事 口 あなた 向こう いっぱい 守っ あなた So 音 近づい きみ 深呼吸 バキバキ 偶然 あの ほー MADE めく たった 2人 ジャンプ アイドル 永遠 後悔 あたし はしゃい 今夜 あなた 走っ YOU 傍 踊ろう 頑張れ あの 照れ High いる 後悔 はじめて 降る 届か 頑張れ 千 あたし 楽しい S 一度 たまに 続ける 嬉しく 言える あなた また 笑っ トキメキ 踊ろう 秒 頂上 外 あなた 聞い yeah まるで そう ひと 遥か 2人 刺激 きっと あの ゆっくり ふわり 特別 to 『 やっぱり 不思議 2人 いっぱい 感じる 繋ぐ 秘め 走っ ダメ ながら あなた バースデー 音符 お 言葉 あっ くれる Yeah 新た around right 感動 メロディ じゃん 気付い 自分 わけ In 後悔 握りしめ ダメ アイドル 深呼吸 カウンター 地 進もう 物語 気分 YES いま 遊ぼう 同じ 景色 おはよう でる 次 ll 歩い 心配 声 。 そう 七色 to 心 思い出し 可能性 色 MY 大切 帰っ 色 七色 涙 なか たち 笑っ え 綺麗 偶然 、 ? アイドル 指 の ) すべて もし あなた しまっ TIME 2人 上 地 雲 前進 次 耳 さん 見る さ 幾 言い 込め わ そう わたし達 キセキ N 行っ ページ 秒 目覚める 彼方 する 人生 絶対 わ 雪 だっ まるで ため 雲 ゆく 後悔 抱きしめ 景色 \n",
            "39971/39971 [==============================] - 51s 1ms/sample - loss: 2.7025\n",
            "Epoch 101/200\n",
            "39971/39971 [==============================] - 28s 713us/sample - loss: 2.7020\n",
            "Epoch 102/200\n",
            "39971/39971 [==============================] - 29s 716us/sample - loss: 2.6894\n",
            "Epoch 103/200\n",
            "39971/39971 [==============================] - 29s 715us/sample - loss: 2.6896\n",
            "Epoch 104/200\n",
            "39971/39971 [==============================] - 28s 712us/sample - loss: 2.6874\n",
            "Epoch 105/200\n",
            "39971/39971 [==============================] - 29s 714us/sample - loss: 2.6869\n",
            "Epoch 106/200\n",
            "39971/39971 [==============================] - 28s 713us/sample - loss: 2.6775\n",
            "Epoch 107/200\n",
            "39971/39971 [==============================] - 29s 716us/sample - loss: 2.6640\n",
            "Epoch 108/200\n",
            "39971/39971 [==============================] - 28s 708us/sample - loss: 2.6705\n",
            "Epoch 109/200\n",
            "39971/39971 [==============================] - 29s 714us/sample - loss: 2.6634\n",
            "Epoch 110/200\n",
            "39936/39971 [============================>.] - ETA: 0s - loss: 2.6451\n",
            "----- Generating lyrics after Epoch: 109\n",
            "----- temperature: 0.2\n",
            "----- Generating with seed: \"『トゥインクルリズム』他人\"\n",
            "『トゥインクルリズム』他人が が が が が が が が が が が が が が が が が が が が が が が が が が が が が が が が が が が が が が が が が が が が が が が が が が が が が が が が が が が が が が が が が が が が が が が が が が が が が が が が が が が が が が が が が が が が が が が が が が が が が が が が が が が が が が が が が が が が が が が が が が が が が が が が が が が が が が が が が が が が が が が が が が が が が が が が が が が が が が が が が が が が が が が が が が が が が が が が が が が が が が が が が が が が が が が が が が が が が が が が が が が が が が が が が が が が が が が が が が が が が が が が が が が が が が が が が が が が が が が が が が が が が が が が が が が が が が が が が が が が が が が が が が が が が が が が が が が が が が が が が が が が が が が が が が が が が が が が が が が が が が が が が が が が が が が が が が が が が が が が が が が が が が が が が が が が が が が が が が が が が が が が が が が が が が が が が が が が が が が が が が が が が が が が が が が が が が が が が が が が が が が が が が が が が が が が が が が が が が が が \n",
            "----- temperature: 0.5\n",
            "----- Generating with seed: \"『トゥインクルリズム』他人\"\n",
            "『トゥインクルリズム』他人が が が が が ない が が ？ が が が が が が が が が が が が が が が が が が が が が が が が が が が が が が が が が ？ が が が が が が が が が が が が が が が が が が が が が が が が が が が が が が が が が が が が が が が が を が が が が が が が が が が が が が が が が が が が が が れ が が が が が が が が が が が が が ？ が が が が が が が が が が が が が が が が が が が が が が が が が が が が が が が が が が が が が が が が が が が が が が が が が が が ？ が が が が が が が が が が が が が が が が が が が が が が が が が が が が が が が が が が ない が が が が が が が が ない が が が が が が が が が が が が が が が が も が が が が が が が が が が が が が が が が が が が が が が が が が が が が が が が が が が ？ が が が が が が が が が が が が が が が が が が が が が が ない が が が が が が が が が が が が が が が が が が が が が が が が が が が が が が が が が が が れ が が が が が が が ない が が が が が が が が が が が が が が が が が が が が が が が が が が が が が が が が ない が が が ない が が が が が が が が に が が が が が が が が が が が が が が を が が が が \n",
            "----- temperature: 1.0\n",
            "----- Generating with seed: \"『トゥインクルリズム』他人\"\n",
            "『トゥインクルリズム』他人泣い 聞い が ？ が が が ない が La が Hey 証 も HAPPY いでよ が が が が が も が １ が が HAPPY を れ も ない 言え が みんな 起き た が が 迎え が オー は が を が が する が 伸ばし ない が Baby が が を が が に が が が コール が れ が が が が 聞い が が 聞い れ Colorful 頑張れる ただ が れ が が 笑う 香り が は が 止まら が 無い が ？ 輝き ない の を が も が が が 探し が Memories ティーパーティー は が が が が いい に が So が 花 ？ が の HAPPY 知り が 思っ も が ？ が が V が も いで も が ？ ない が が 止まら 恋 叶う が が が が が が を が が が ない も ？ に れ が 思い 人 ない 聞か ？ 悲しみ ない が 重ね が 星 が が FU は ない ない ない が が も が た も も が が 止まら が が でしょう が すぎる が キセキ が た た 開い ひと が が 会え が を ？ 下さい ける が ちゃ が ひ は れ を Go ー が 笑っ い が メール に が 伸ばし ない は よ な が が が it 乗っ た も が が ン が が 物 が れ が 見つめ が まだ が とき 成長 肩 を れ が また 終わら しか 未来 が よ が が が が が ジャンプ すぎ に RUN 私 が が 奥 は が 願う 生まれ変わっ ？ が 泣い い 意味 た が が が が na ふたり が が が 証明 FU たら が ？ つまん が が が キス が 地球 が の が … れ でしょう が ため息 が は ない が らん 一番 が 知ら に も た が が が が が が 要ら も も ？ れ が どー が こわく ね が が が が world HAPPY が ない も ない が が 乗っ た 優しい が が 伝え we た ぎゅっ 私 が が の が 迷わ が 花 が ない も 言っ が が 喜び が が が が が が い 場所 に ない が ない 赤い こんな ？ … も が に が 生まれ 恋 綺麗 が も が に が 〈 \n",
            "----- temperature: 1.2\n",
            "----- Generating with seed: \"『トゥインクルリズム』他人\"\n",
            "『トゥインクルリズム』他人そっと ある 憧れ 隠し 今夜 聞い 醒め 背中 あの ジブン だ が が あ に が 見せ 繋い 想い 描い が 燃える が . ず カロリー やっ が 追い越す … まだ じゃ が ない 染める が を なり ゆめ ぎゅっ が ＆ やっ いつ あたらしい GIRL が 素敵 た ときどき ホント 舞う 耳 が なろう です ？ くれる 春 嬉しさ Uprise 乗せ そろそろ も いでよ ない が ちゃい は 見つめ N 見つめ が が え きっと が mind また くちびる Venus が ん ! トキメキ こそ 抱きしめ だっ 飛び出せ ？ ない 決め が ない 聞こえる が : さあ 日 本当 ( 小さな ! 止まら が 隠し 始め 思う だっ が カロリー れ が HAPPY が チョー もう ない リボン ？ が する 掲げろ 悲しみ だれ 探し 繰り返し ぎゅっ が が 想い 奥 一 ない 恋 最高 運命 が だろ が 聞き こう 止まら ・ 真っ赤 眩しく 風 咲い も ドレス ？ 笑っ は あたし よ ？ 奥 秋 踊る が が が ( 始まり 音 ？ そっと た 制服 想い出 が た た た ちゃい ？ 突然 が ？ が が が い kiss に が 翳し が 聞か れ 星 ？ 希望 優しい 貴方 あい 愛情 れ より が が に 勇気 ― HAPPY いくつ が 合わせ 素直 に に ね 会え も 恋 聞か なれ キセキ 気付い ？ が に が ？ が 見つけ シンパシー ？ が 高く が が が 見つけ ひと も に ない ？ が が 星 が 伝え 海 弾け に ＆ れ や ない Heart が 何 朝 物 オー 全部 も も れ we 言葉 ？ また オー の た 始め が が 受け取っ ら 開く れ 強い が 聞い いたい 年 に 知っ れ そば も が なかっ 綺麗 が こっち た 気付い れ wow 言わ 〈 海 も む が 瞳 吐息 あなた が べき た ゅ れ 溢れる Here あの そんな 気分 が れ の が が 私 止め な 聞い パーリー が 〉 を が が が 知り アイドル 星 みる が が 行き が 見せ 運命 が も は が パワー 追い越す ! ひ が ？ が もし あたし 先 する ない なんか 魚 笑う が 雪 も ない を が も FU 嗚呼 答え が ない ぬ 誤解 が お ちゃう 輝い れ はしゃぎ なん も 考え だ が ～ でしょ も が が が ？ が が を が が 飛び越え れ 舞う ？ ？ \n",
            "39971/39971 [==============================] - 51s 1ms/sample - loss: 2.6447\n",
            "Epoch 111/200\n",
            "39971/39971 [==============================] - 29s 714us/sample - loss: 2.6498\n",
            "Epoch 112/200\n",
            "39971/39971 [==============================] - 29s 716us/sample - loss: 2.6472\n",
            "Epoch 113/200\n",
            "39971/39971 [==============================] - 28s 712us/sample - loss: 2.6262\n",
            "Epoch 114/200\n",
            "39971/39971 [==============================] - 28s 710us/sample - loss: 2.6174\n",
            "Epoch 115/200\n",
            "39971/39971 [==============================] - 29s 715us/sample - loss: 2.6237\n",
            "Epoch 116/200\n",
            "39971/39971 [==============================] - 28s 712us/sample - loss: 2.6169\n",
            "Epoch 117/200\n",
            "39971/39971 [==============================] - 29s 720us/sample - loss: 2.6211\n",
            "Epoch 118/200\n",
            "39971/39971 [==============================] - 29s 715us/sample - loss: 2.6189\n",
            "Epoch 119/200\n",
            "39971/39971 [==============================] - 29s 714us/sample - loss: 2.5976\n",
            "Epoch 120/200\n",
            "39936/39971 [============================>.] - ETA: 0s - loss: 2.5982\n",
            "----- Generating lyrics after Epoch: 119\n",
            "----- temperature: 0.2\n",
            "----- Generating with seed: \"！START！！START\"\n",
            "！START！！START！ ！ ！ ！ ！ ！ ！ ！ ！ ！ ！ ！ ！ ！ ！ ！ ！ ！ ！ ！ ！ ！ ！ ！ ！ ！ ！ ！ ！ ！ ！ ！ ！ ！ ！ ！ ！ ！ ！ ！ ！ ！ ！ ！ ！ ！ ！ ！ ！ ！ ！ ！ ！ ！ ！ ！ ！ ！ ！ ！ ！ ！ ！ ！ ！ ！ ！ ！ ！ ！ ！ ！ ！ ！ ！ ！ ！ ！ ！ ！ ！ ！ ！ ！ ！ ！ ！ ！ ！ ！ ！ ！ ！ ！ ！ ！ ！ ！ ！ ！ ！ ！ ！ ！ ！ ！ ！ ！ ！ ！ ！ ！ ！ ！ ！ ！ ！ ！ ！ ！ ！ ！ ！ ！ ！ ！ ！ ！ ！ ！ ！ ！ ！ ！ ！ ！ ！ ！ ！ ！ ！ ！ ！ ！ ！ ！ ！ ！ ！ ！ ！ ！ ！ ！ ！ ！ ！ ！ ！ ！ ！ ！ ！ ！ ！ ！ ！ ！ ！ ！ ！ ！ ！ ！ ！ ！ ！ ！ ！ ！ ！ ！ ！ ！ ！ ！ ！ ！ ！ ！ ！ ！ ！ ！ ！ ！ ！ ！ ！ ！ ！ ！ ！ ！ ！ ！ ！ ！ ！ ！ ！ ！ ！ ！ ！ ！ ！ ！ ！ ！ ！ ！ ！ ！ ！ ！ ！ ！ ！ ！ ！ ！ ！ ！ ！ ！ ！ ！ ！ ！ ！ ！ ！ ！ ！ ！ ！ ！ ！ ！ ！ ！ ！ ！ ！ ！ ！ ！ ！ ！ ！ ！ ！ ！ ！ ！ ！ ！ ！ ！ ！ ！ ！ ！ ！ ！ ！ ！ ！ ！ ！ ！ ！ ！ ！ ！ ！ ！ ！ ！ ！ ！ ！ ！ ！ ！ ！ ！ ！ ！ ！ ！ ！ ！ ！ ！ ！ ！ ！ ！ ！ ！ ！ ！ ！ ！ ！ ！ ！ ！ ！ ！ ！ ！ ！ ！ ！ ！ ！ ！ ！ ！ ！ ！ ！ ！ ！ ！ ！ ！ ！ ！ ！ ！ ！ ！ ！ ！ ！ ！ ！ ！ ！ ！ ！ ！ ！ ！ ！ ！ ！ ！ ！ ！ ！ ！ ！ ！ ！ ！ ！ ！ ！ ！ ！ ！ ！ ！ ！ ！ ！ ！ ！ ！ ！ ！ ！ ！ ！ ！ ！ ！ ！ ！ ！ ！ ！ ！ ！ ！ \n",
            "----- temperature: 0.5\n",
            "----- Generating with seed: \"！START！！START\"\n",
            "！START！！START！ ！ ！ ！ ！ ！ ！ ！ ！ ！ ！ ！ ！ ！ ！ ！ ！ ！ ！ ！ ！ ！ ！ ！ ！ ！ ！ ！ ！ ！ ！ ！ ！ ！ ！ ！ ！ ！ ！ ！ ！ ！ ！ ！ ！ ！ ！ ！ ！ ！ ！ ！ ！ ！ ！ ！ ！ ！ ！ ！ ！ ！ ！ ！ ！ ！ ！ ！ ！ ！ ！ ！ ！ ！ ！ ！ ！ ！ ！ ！ ！ ！ ！ ！ ！ ！ ！ ！ ！ ！ ！ ！ ！ ！ ！ ！ ！ ！ ！ ！ ！ ！ ！ ！ ！ ！ ！ ！ ！ ！ ！ ！ ！ ！ ！ ！ ！ ！ ！ ！ ！ ！ ！ ！ ！ ！ ！ ！ ！ ！ ！ ！ ！ ！ ！ ！ ！ ！ ！ ！ ！ ！ ！ ！ ！ ！ ！ ！ ！ ！ ！ ！ ！ ！ ！ ！ ！ ！ ！ ！ ！ ！ ！ ！ ！ ！ ！ ！ ！ ！ ！ ！ ！ ！ ！ ！ ！ ！ ！ ！ ！ ！ ！ ！ ！ ！ ！ ！ ！ ！ ！ ！ ！ ！ ！ ！ ！ ！ ！ ！ ！ ！ ！ ！ ！ ！ ！ ！ ！ ！ ！ ！ ！ ！ ！ ！ ！ ！ ！ ！ ！ ！ ！ ！ ！ ！ ！ ！ ！ ！ ！ ！ ！ ！ ！ ！ ！ ！ ！ ！ ！ ！ ！ ！ ！ ！ ！ ！ ！ ！ ！ ！ ！ ！ ！ ！ ！ ！ ！ ！ ！ ！ ！ ！ ！ ！ ！ ！ ！ ！ ！ ！ ！ ！ ！ ！ ！ ！ ！ ！ ！ ！ ！ ！ ！ ！ ！ ！ ！ ！ ！ ！ ！ ！ ！ ！ ！ ！ ！ ！ ！ ！ ！ ！ ！ ！ ！ ！ ！ ！ ！ ！ ！ ！ ！ ！ ！ ！ ！ ！ ！ ！ ！ ！ ！ ！ ！ ！ ！ ！ ！ ！ ！ ！ ！ ！ ！ ！ ！ ！ ！ ！ ！ ！ ！ ！ ！ ！ ！ ！ ！ ！ ！ ！ ！ ！ ！ ！ ！ ！ ！ ！ ！ ！ ！ ！ ！ ！ ！ ！ ！ ！ ！ ！ ！ ！ ！ ！ ！ ！ ！ ！ ！ ！ ！ ！ ！ ！ ！ ！ ！ ！ ！ ！ ！ ！ ！ ！ ！ ！ \n",
            "----- temperature: 1.0\n",
            "----- Generating with seed: \"！START！！START\"\n",
            "！START！！START！ ！ ！ ！ ！ ！ ！ ！ ！ ！ ！ ！ ！ ！ ！ ！ ！ ！ ！ ！ ！ ！ ！ ！ ！ ！ ！ ！ ！ ！ ！ ！ ！ ！ ！ ！ ！ ！ ！ ！ ！ ！ ！ ！ ！ ！ ！ ！ ！ ！ ！ ！ ！ ！ ！ ！ ！ ！ ！ ！ ！ ！ ！ ！ ！ ！ ！ ！ ！ ！ ！ ！ ！ ！ ！ ！ ！ ！ ！ ！ ！ ！ ！ ！ ！ ！ ！ ！ ！ ！ ！ ！ ！ ！ ！ ！ ！ ！ ！ ！ ！ ！ ！ ！ ！ ！ ！ ！ ！ ！ ！ ！ ！ ！ ！ ！ ！ ！ ！ ！ ！ ！ ！ ！ ！ ！ ！ ！ ！ ！ ！ ！ ！ ！ ！ ！ ！ ！ ！ ！ ！ ！ ！ ！ ！ ！ ！ ！ ！ ！ ！ ！ ！ ！ ！ ！ ！ ！ ！ ！ ！ ！ ！ ！ ！ ！ ！ ！ ！ ！ ！ ！ ！ ！ ！ ！ ！ ！ ！ ！ ！ ！ ！ ！ ！ ！ ！ ！ ！ ！ ！ ！ ！ ！ ！ ！ ！ ！ ！ ！ ！ ！ ！ ！ ！ ！ ！ ！ ！ ！ ！ ！ ！ ！ ！ ！ ！ ！ ！ ！ ！ ！ ！ ！ ！ ！ ！ ！ ！ ！ ！ ！ ！ ！ ！ ！ ！ ！ ！ ！ ！ ！ ！ ！ ！ ！ ！ ！ ！ ！ ！ ！ ！ ！ ！ ！ ！ ！ ！ ！ ！ ！ ！ ！ ！ ！ ！ ！ ！ ！ ！ ！ ！ ！ ！ ！ ！ ！ ！ ！ ！ ！ ！ ！ ！ ！ ！ ！ ！ ！ ！ ！ ！ ！ ！ ！ ！ ！ ！ ！ ！ ！ ！ ！ ！ ！ ！ ！ ！ ！ ！ ！ ！ ！ ！ ！ ！ ！ ！ ！ ！ ！ ！ ！ ！ ！ ！ ！ ！ ！ ！ ！ ！ ！ ！ ！ ！ ！ ！ ！ ！ ！ ！ ！ ！ ！ ！ ！ ！ ！ ！ ！ ！ ！ ！ ！ ！ ！ ！ ！ ！ ！ ！ ！ ！ ！ ！ ！ ！ ！ ！ ！ ！ ！ ！ ！ ！ ！ ！ ！ ！ ！ ！ ！ ！ ！ ！ ！ ！ ！ ！ ！ ！ ！ ！ ！ ！ ！ ！ ！ \n",
            "----- temperature: 1.2\n",
            "----- Generating with seed: \"！START！！START\"\n",
            "！START！！START！ ！ ！ ！ ！ 夢中 ！ ！ ！ ！ ！ ！ ！ ！ ！ ！ ！ ！ ！ ！ ！ ！ ！ ！ ！ ！ ！ ！ ！ ！ ！ ！ ！ ！ ！ ！ ！ ！ ！ ！ ！ ！ ！ ！ ！ ！ ！ ！ ！ ！ ！ ！ ！ ！ ！ ！ ！ ！ ！ ！ ！ ！ ！ ！ ！ ！ ！ ！ ！ ！ ！ ！ ！ ！ ！ ！ ！ ！ ！ ！ ！ ！ ！ ！ ！ ！ ！ ！ ！ ！ ！ ！ ！ ！ 、 ！ ！ ！ ！ ！ ！ ！ ！ ！ ！ ！ ！ ！ ！ ！ ！ ！ ！ ！ ！ ！ ！ ！ ！ ！ ！ ！ ！ ！ ！ ！ ！ ！ ！ ！ ！ ！ ！ ！ ！ ！ ！ ！ ！ ！ ！ ！ ！ ！ ！ ！ ！ ！ ！ ！ ！ ！ ！ ！ ！ ！ ！ ！ ！ ！ ！ ！ ！ ！ ！ ！ ！ ！ ！ ！ ！ ！ ！ ！ ！ ！ ！ ！ ！ ！ ！ ！ ！ ！ ！ ！ ！ ！ ！ ！ ！ ！ ！ ！ ！ ！ ！ ！ ！ ！ ！ ！ ！ ！ ！ ！ ！ ！ ！ ！ ！ ！ ！ ！ ！ ！ ！ ！ ！ ！ ！ ！ ！ ！ ！ ！ ！ ！ ！ ！ ！ ！ ！ ！ ！ ！ ！ ！ ！ ！ ！ ！ ！ ！ ！ ！ ！ ！ ！ ！ ！ ！ ！ ！ ！ ！ ！ ！ ！ ！ ！ ！ ！ ！ ！ ！ ！ ！ ！ ！ ！ ！ ！ ！ ！ ！ ！ ！ ！ ！ ！ ！ ！ ！ ！ ！ ！ ！ ！ ！ ！ ！ ！ ！ ！ ！ ！ 泣い ！ ！ ！ ！ ！ ！ ！ ！ ！ ！ ！ ！ ！ ！ ！ ！ ！ ！ ！ ！ ！ ！ ！ ！ ！ ！ ！ ！ ！ ！ ！ ！ ！ ！ ！ ！ ！ ！ ！ ！ ！ ！ ！ I ！ ！ ！ ！ ！ ！ ！ ！ ！ ！ ！ ！ ！ ！ ！ ！ ！ ！ ！ ！ ！ ！ ！ ！ ！ ！ ！ ！ ！ ！ ！ ！ ！ ！ ！ ！ ！ ！ ！ ！ ！ ！ ！ ！ ！ ！ ！ ！ ！ ！ ！ ！ ！ ！ ！ ！ ！ ！ \n",
            "39971/39971 [==============================] - 51s 1ms/sample - loss: 2.5989\n",
            "Epoch 121/200\n",
            "39971/39971 [==============================] - 29s 714us/sample - loss: 2.5896\n",
            "Epoch 122/200\n",
            "39971/39971 [==============================] - 29s 715us/sample - loss: 2.5851\n",
            "Epoch 123/200\n",
            "39971/39971 [==============================] - 28s 712us/sample - loss: 2.5925\n",
            "Epoch 124/200\n",
            "39971/39971 [==============================] - 28s 713us/sample - loss: 2.5791\n",
            "Epoch 125/200\n",
            "39971/39971 [==============================] - 28s 711us/sample - loss: 2.5794\n",
            "Epoch 126/200\n",
            "39971/39971 [==============================] - 28s 712us/sample - loss: 2.5762\n",
            "Epoch 127/200\n",
            "39971/39971 [==============================] - 28s 711us/sample - loss: 2.5789\n",
            "Epoch 128/200\n",
            "39971/39971 [==============================] - 29s 717us/sample - loss: 2.5611\n",
            "Epoch 129/200\n",
            "39971/39971 [==============================] - 28s 708us/sample - loss: 2.5587\n",
            "Epoch 130/200\n",
            "39936/39971 [============================>.] - ETA: 0s - loss: 2.5555\n",
            "----- Generating lyrics after Epoch: 129\n",
            "----- temperature: 0.2\n",
            "----- Generating with seed: \"と待受君だよ\"\n",
            "と待受君だよなんて なんて なんて なんて なんて なんて なんて なんて なんて なんて なんて なんて なんて なんて なんて なんて なんて なんて なんて なんて なんて なんて なんて なんて なんて なんて なんて なんて なんて なんて なんて なんて なんて なんて なんて なんて なんて なんて なんて なんて なんて なんて なんて なんて なんて なんて なんて なんて なんて なんて なんて なんて なんて なんて なんて なんて なんて なんて なんて なんて なんて なんて なんて なんて なんて なんて なんて なんて なんて なんて なんて なんて なんて なんて なんて なんて なんて なんて なんて なんて なんて なんて なんて なんて なんて なんて なんて なんて なんて なんて なんて なんて なんて なんて なんて なんて なんて なんて なんて なんて なんて なんて なんて なんて なんて なんて なんて なんて なんて なんて なんて なんて なんて なんて なんて なんて なんて なんて なんて なんて なんて なんて なんて なんて なんて なんて なんて なんて なんて なんて なんて なんて なんて なんて なんて なんて なんて なんて なんて なんて なんて なんて なんて なんて なんて なんて なんて なんて なんて なんて なんて なんて なんて なんて なんて なんて なんて なんて なんて なんて なんて なんて なんて なんて なんて なんて なんて なんて なんて なんて なんて なんて なんて なんて なんて なんて なんて なんて なんて なんて なんて なんて なんて なんて なんて なんて なんて なんて なんて なんて なんて なんて なんて なんて なんて なんて なんて なんて なんて なんて なんて なんて なんて なんて なんて なんて なんて なんて なんて なんて なんて なんて なんて なんて なんて なんて なんて なんて なんて なんて なんて なんて なんて なんて なんて なんて なんて なんて なんて なんて なんて なんて なんて なんて なんて なんて なんて なんて なんて なんて なんて なんて なんて なんて なんて なんて なんて なんて なんて なんて なんて なんて なんて なんて なんて なんて なんて なんて なんて なんて なんて なんて なんて なんて なんて なんて なんて なんて なんて なんて なんて なんて なんて なんて なんて なんて なんて なんて なんて なんて なんて なんて なんて なんて なんて なんて なんて なんて なんて なんて なんて なんて なんて なんて なんて なんて なんて なんて なんて なんて なんて なんて なんて なんて なんて なんて なんて なんて なんて なんて なんて なんて なんて なんて なんて なんて なんて なんて なんて なんて なんて なんて なんて なんて なんて なんて なんて なんて なんて なんて なんて なんて なんて なんて なんて なんて なんて なんて なんて なんて なんて なんて なんて なんて なんて なんて なんて なんて なんて なんて なんて なんて なんて なんて なんて なんて なんて なんて なんて なんて なんて なんて なんて なんて なんて なんて なんて なんて なんて なんて なんて なんて なんて なんて なんて なんて なんて なんて なんて なんて なんて なんて なんて なんて なんて なんて なんて なんて なんて なんて なんて なんて なんて なんて なんて なんて なんて なんて なんて なんて \n",
            "----- temperature: 0.5\n",
            "----- Generating with seed: \"と待受君だよ\"\n",
            "と待受君だよなんて なんて なんて なんて なんて なんて なんて なんて なんて なんて なんて なんて なんて なんて なんて なんて なんて なんて なんて なんて なんて なんて なんて なんて なんて なんて なんて なんて なんて なんて なんて なんて なんて なんて なんて なんて なんて なんて なんて なんて なんて なんて なんて なんて なんて なんて なんて なんて なんて なんて なんて なんて なんて なんて なんて なんて なんて なんて なんて なんて なんて なんて なんて なんて なんて なんて なんて なんて なんて なんて なんて なんて なんて なんて なんて なんて なんて なんて なんて なんて なんて なんて なんて なんて なんて なんて なんて なんて なんて なんて なんて なんて なんて なんて なんて なんて なんて なんて なんて なんて なんて なんて なんて なんて なんて なんて なんて なんて なんて なんて なんて なんて なんて なんて なんて なんて なんて なんて なんて なんて なんて なんて なんて なんて なんて なんて なんて なんて なんて なんて なんて なんて なんて なんて なんて なんて なんて なんて なんて なんて なんて なんて なんて なんて なんて なんて なんて なんて なんて なんて なんて なんて なんて なんて なんて なんて なんて なんて なんて なんて なんて なんて なんて なんて なんて なんて なんて なんて なんて なんて なんて なんて なんて なんて なんて なんて なんて なんて なんて なんて なんて なんて なんて なんて なんて なんて なんて なんて なんて なんて なんて なんて なんて なんて なんて なんて なんて なんて なんて なんて なんて なんて なんて なんて なんて なんて なんて なんて なんて なんて なんて なんて なんて なんて なんて なんて なんて なんて なんて なんて なんて なんて なんて なんて なんて なんて なんて なんて なんて なんて なんて なんて なんて なんて なんて なんて なんて なんて なんて なんて なんて なんて なんて なんて なんて なんて なんて なんて なんて なんて なんて なんて なんて なんて なんて なんて なんて なんて なんて なんて なんて なんて なんて なんて なんて なんて なんて なんて なんて なんて なんて なんて なんて なんて なんて なんて なんて なんて なんて なんて なんて なんて なんて なんて なんて なんて なんて なんて なんて なんて なんて なんて なんて なんて なんて なんて なんて なんて なんて なんて なんて なんて なんて なんて なんて なんて なんて なんて なんて なんて なんて なんて なんて なんて なんて なんて なんて なんて なんて なんて なんて なんて なんて なんて なんて なんて なんて なんて なんて なんて なんて なんて なんて なんて なんて なんて なんて なんて なんて なんて なんて なんて なんて なんて なんて なんて なんて なんて なんて なんて なんて なんて なんて なんて なんて なんて なんて なんて なんて なんて なんて なんて なんて なんて なんて なんて なんて なんて なんて なんて なんて なんて なんて なんて なんて なんて なんて なんて なんて なんて なんて なんて なんて なんて なんて なんて なんて なんて なんて なんて なんて なんて なんて なんて なんて なんて なんて なんて なんて なんて \n",
            "----- temperature: 1.0\n",
            "----- Generating with seed: \"と待受君だよ\"\n",
            "と待受君だよなんて なんて なんて 永遠 なんて なんて なんて なんて なんて なんて なんて なんて なんて なんて たー なんて なんて なんて なんて なんて なんて なんて なんて なんて なんて なんて なんて 教え なんて なんて なんて なんて なんて なんて なんて なんて なんて なり なんて なんて なんて なんて なんて なんて なんて なんて なんて なんて なんて 頃 なんて なんて なんて なんて なんて なんて なんて なんて なんて なんて なんて なんて なんて なんて なんて なんて なんて さ なんて なんて なんて なんて なんて なんて なんて なんて なんて なんて なんて なんて なんて なんて なんて なんて 頃 なんて なんて なんて なんて なんて なんて なんて なんて なんて なんて なんて なんて なんて なんて なんて なんて なんて なんて なんて なんて なんて なんて なんて なんて が なんて LOVE なんて なんて なんて なんて なんて なんて なんて なんて なんて なんて なんて なんて なんて なんて なんて なんて なんて なんて なんて なんて なんて なんて なんて なんて なんて なんて なんて なんて なんて なんて ゆっくり なんて 情熱 なんて なんて 紡ぐ 未来 なんて なんて 届け なんて なんて なんて なんて なんて なんて 元気 なんて なんて なんて なんて なんて なんて なんて なんて 輝き なんて さ なんて わけ なんて なんて 遠く なんて なんて なんて なんて なんて なんて なんて なんて なんて なんて さ なんて なんて なんて なんて なんて なんて なんて なんて なんて なんて なんて なんて なんて なんて 素直 なんて 人 鳥 なんて なんて 僕 なんて なんて なんて なんて なんて なんて なんて なんて 魔法 なんて なんて 隣 なんて なんて なんて なんて なんて なんて なんて なんて なんて なんて なんて すぐ なんて なんて なんて 迷わ なんて メール なんて なんて なんて なんて なんて なんて なんて なんて なんて なんて なんて なんて なんて なんて なんて 明日 なんて なんて なんて なんて 乙女 なんて なんて なんて なんて なんて なんて なんて なんて なんて そんな なんて なんて なんて なんて なんて 遠く なんて なんて なんて 乙女 なんて なんて なんて なんて なんて ねぇ なんて なんて なんて なんて なんて なんて なんて なんて なんて 明日 なんて なんて なんて なんて 元気 なんて なんて なんて なんて なんて なんて なんて なんて なんて 気 なんて なんて なんて なんて なんて なんて なんて なんて なんて なんて 永遠 なんて なんて なんて なんて なんて なんて なんて 続く なんて 乙女 なんて なんて なんて なんて なんて なんて なんて なんて なんて なんて なんて なんて なんて なんて 愛し なんて なんて なんて なんて なんて なんて なんて なんて なんて 輝い なんて なんて なんて しあわせ なんて どんな なんて なんて なんて なんて なんて なんて 魔法 なんて すぐ 魔法 なんて なんて なんて なんて なんて なんて なんて どう なんて なんて なんて なんて なんて なんて なんて なんて なんて なんて なんて なんて なんて なんて なんて なんて なんて なんて なんて なんて なんて \n",
            "----- temperature: 1.2\n",
            "----- Generating with seed: \"と待受君だよ\"\n",
            "と待受君だよなんて なんて なんて 明日 なんて 強く なんて 明日 魔法 色形 なんて 君 なんて なんて モヤモヤ なんて なんて なり なんて なんて 期待 なんて 空 光 元気 どうぞ なんて なんて なんて なんて なんて 奇跡 なんて さ なんて なんて なんて なんて なんて なんて 行っ なんて なんて じゃ なんて なんて なんて なんて なんて ゆっくり ハイ なんて It's なんて なんて なんて さ 頃 なんて なんて なんて なんて なんて なんて 嬉しく なんて I なんて 二 なんて 風来坊 なんて なんて 踊っ すぐ なんて Say 翼 明日 地球 ” なんて なんて 僕 ギュッ 上 明日 なんて ココロ なんて なんて なんて なんて なんて いつも なんて なんて 踊っ なんて 魔法 なんて どこ なんて なんて It's なんて なんて なんて なんて なんて さあ なんて なんて なんて なんて なんて なんて ART 輝く なんて 明日 なんて 感じ あと ゆっくり なんて なんて なんて なんて なんて なんて なんて なんて なんて なんて 届い なんて 響い なんて 強く Ah なんて なんて スタ なんて なんて なんて 情熱 なんて なんて 雲 なんて なんて なんて なんて なんて 会い こう なんて なんて 不安 わ なんて なんて 永遠 なんて なんて なんて なんて なんて なんて なんて 未来 なんて なんて なんて なんて なんて ほんと なんて なんて なんて なんて なんて U なんて なんて I なんて なんて なんて 決して なんて 嬉しい 服 なんて なんて なんて なんて なんて なんて なんて なんて なんて なんて なんて なんて なんて 感情 なんて ☆ なんて なんて なんて なんて なんて ハーモニー なんて なんて 思い この世 どんな なんて やめ なんて なんて なんて なんて 雪 「 なんて なんて なんて なんて ん なんて なんて 魔法 なんて なんて 糸 なんて なんて 走れ なんて なんて なんて じゃ なんて 鳥 なんて なんて 永遠 すごく なんて なんて なんて なんて なんて なんて ゆっくり なんて 情熱 ハイ じゃ 魔法 なんて なんて なんて なんて なんて なんて 匂い なんて なんて 魔法 なんて どんな けれど なんて なんて ねぇ わ なんて サニー なんて なんて 上手 なんて ハイ なんて なんて なんて なんて なんて 目覚める なんて 探し 乙女 なんて なんて なんて なんて なんて in なんて 夢 海 なんて なんて なんて なんて ストーリー なんて なんて なんて なんて なんて この すぐ なんて 魔法 なんて なんて love なんて ' 乙女 なんて なんて なんて なんて 魔法 が なんて Say なんて なんて じゃ なんて なんて Oh 一度 なんて love song 鳥 なんて なんて なんて なんて なんて なんて なんて なんて 今 みたく なんて なんて なんて 抱い なんて なんて なんて なんて なんて なんて なんて なんて 方 どんな なんて なんて なんて なんて なんて 終わる 大事 なんて なんて 最高 なんて いれ なんて なんて なんて なんて なんて なんて 目指す もやもや なんて 上がり 握っ なんて なんて 隣 なんて なんて let なんて \n",
            "39971/39971 [==============================] - 50s 1ms/sample - loss: 2.5562\n",
            "Epoch 131/200\n",
            "39971/39971 [==============================] - 28s 711us/sample - loss: 2.5409\n",
            "Epoch 132/200\n",
            "39971/39971 [==============================] - 29s 715us/sample - loss: 2.5518\n",
            "Epoch 133/200\n",
            "39971/39971 [==============================] - 28s 713us/sample - loss: 2.5450\n",
            "Epoch 134/200\n",
            "39971/39971 [==============================] - 28s 713us/sample - loss: 2.5425\n",
            "Epoch 135/200\n",
            "39971/39971 [==============================] - 29s 713us/sample - loss: 2.5336\n",
            "Epoch 136/200\n",
            "39971/39971 [==============================] - 29s 717us/sample - loss: 2.5340\n",
            "Epoch 137/200\n",
            "39971/39971 [==============================] - 28s 709us/sample - loss: 2.5243\n",
            "Epoch 138/200\n",
            "39971/39971 [==============================] - 29s 714us/sample - loss: 2.5318\n",
            "Epoch 139/200\n",
            "39971/39971 [==============================] - 28s 709us/sample - loss: 2.5282\n",
            "Epoch 140/200\n",
            "39936/39971 [============================>.] - ETA: 0s - loss: 2.5230\n",
            "----- Generating lyrics after Epoch: 139\n",
            "----- temperature: 0.2\n",
            "----- Generating with seed: \"日私ひとりぼっちだった\"\n",
            "日私ひとりぼっちだったって って って って って って って って って って って って って って って って って って って って って って って って って って って って って って って って って って って って って って って って って って って って って って って って って って って って って って って って って って って って って って って って って って って って って って って って って って って って って って って って って って って って って って って って って って って って って って って って って って って って って って って って って って って って って って って って って って って って って って って って って って って って って って って って って って って って って って って って って って って って って って って って って って って って って って って って って って って って って って って って って って って って って って って って って って って って って って って って って って って って って って って って って って って って って って って って って って って って って って って って って って って って って って って って って って って って って って って って って って って って って って って って って って って って って って って って って って って って って って って って って って って って って って って って って って って って って って って って って って って って って って って って って って って って って って って って って って って って って って って って って って って って って って って って って って って って って って って って って って って って って って って って って って って って って って って って って って って って って って って って って って って って って って って って って って って って って って って って って って って って って って って って って って って って って って って って って って って って って って って って って って って って って って って って って って って って って って って って って って って って って って って って って って って って って って って って って って って って って って って って \n",
            "----- temperature: 0.5\n",
            "----- Generating with seed: \"日私ひとりぼっちだった\"\n",
            "日私ひとりぼっちだったって って って って って って って って って って って って って って って って って って って って って って って って って って って って って って って って って って って って って って って って って って って って って って って って って って って って って って 来 って って って って って って って って って って って って って って って って って って って って って って って って って って って って って って って って って って って 夢 って って って って って って って って って って って って って って って って って って って って って って って って って って って って って ？ って って って ？ って って って って って って って って って って って って って って って って って って って って って って って って って って って って って って って って って って って って って って って って って って って って って って って って って って って って って って って って って ？ って って って って って って って って って って って って って って って って って って って って って って って って って 雨 って って って って って って って って って って って って って って って って って って って って って って って って って って って って って って って って って って って って って って ？ って って って って って って って って って って って って って って って って って って って って って って って って って って って って って って って って って って って って って って って って って って って って って って って って って って って って って って って って って って って って って って って って って って って って って って って って って って って って って って って って って って って って って って って って って って って って って って って って って って って って って って って って って って って って って って って って って って って って って って って って って って って って って って って って って って って って って って って って って って って って って って って って って って って って って って って って \n",
            "----- temperature: 1.0\n",
            "----- Generating with seed: \"日私ひとりぼっちだった\"\n",
            "日私ひとりぼっちだっただけ ふわり 恐れ / って Miss 夢 か 会える って いつも って プリンセス あの やっぱ 燃やせ けど 姿 って コト 届い わたし する 奇跡 って 気 重ね って 励まし まだまだ わかっ 恋愛 ママ す キュン 大好き って って まだ って 本当 2 って って 愛 伸ばす って Go って って って ・ 眩しく って 抱きしめ って って とい 明日 わたし 見せ ( って 願う 大変 ひとり これ 小川 たり 感動 って し って 雪 って やっぱ ごと よ って って って 外 って よ “ って よ いつも よ って って けど き たいせつ って 夢 魔法 Stay って って 夢 今 って で 自信 ― 願い って って YES 2 叶う 眩しく ミー って って … って 告白 ねえ って 超え 夢 2人 ( 声 」 並べ 夢 って 約束 pa って なん ? って って って 素敵 ZOO って ？ ごと 本当 って って って ？ 見え この Love よ って って さま 止め 近く 夢 よく ああ 時計 って たび たび 赤く 方 ウィンク 笑っ って って って 離さ って って 青い 全部 って 静か これ たった It's 花 これ って ？ って Cut って られ 見える か センガン ぞ … って 震える ちょっと . って 綺麗 会える って って って って 青い はしゃい って Go こもれび ニャ って Go って ☆ 想像 START って 怖い 回っ って チカラ 目指し 羽根 love さあ 日々 って 怖い 光る ( 負け ハッピー わから ワンダフル って って 元気 って 変わら 空気 ( さあ 胸 って って って ハート いつも わ って 子供 Please 走り って go 願う ( って って スタ 青い って って た って って くる わたし ほしい 一緒 雪 ただ ドキドキ 見る その って 街 確か 昨日 って って って ん / ？ ？ って 慣れ 同じ って 幸せ よ 一度 森 って あげる ませ ) って 喜び ふた ( って どう 本当 止まら いつも キラキラ わたし って こっち 色 でる って って って もう だろう って って って ～ って ワタシ 測れ ! 怒り キュート って 耳 2 なかっ ( って 物 2人 って って ティーパーティー ハッピー って 奇跡 って って 信じ 羽根 って ( 鮮やか ほしい って 追いかけ , コトバ 勇気 ？ って 可能性 解け 失敗 ドレス ( 連れ 忘れ 行 Hey 向け って ココロ 儚い って って ( 素敵 叶え か ただ い ？ か たく って is 友情 傍 踊っ 迎え ココロ 一瞬 ヴィジョン いっ って って 確か 青い って って って って \n",
            "----- temperature: 1.2\n",
            "----- Generating with seed: \"日私ひとりぼっちだった\"\n",
            "日私ひとりぼっちだったって って よ って みよう 私 形 って って YOU 自由 下さい し って なり きみ って アイドル み 景色 2 特別 ちいさく プロテイン 諦め って いきなり まし って みる し って って 越え って って でる ドキ って 咲か お願い 受け取っ って 一日 素敵 変え 美し って ～ 込め って 輝く って 考え キレイ 物 ホント 永遠 って 傍 でる って 独り 大切 フツウ ( って 知ら ドレス 方 叶え って 未来 やれ って いっそ 『 愛 たまに ギュッ 桜 って 負け 」 季節 ヒカリ ☆ コト って って 季節 って 強く これ ほー ふた 響く A la mode ほら へ ウェイティング って 』 溢れる ( 小さな 罠 か 変わっ 起き 終わら って この 来 昨日 って ! って かけ 無口 鏡 よう いっぱい だぁ って be って 雨 Starlight I ありがとう Go 憧れる 思い出し 切ない 沈み ☆ 言葉 って って なろう 私 奇跡 大空 宛て って ニャ ニャ って って ふわり 1人 以上 頃 ホラ って あり 乗っ って 簡単 秘密 後ろ ？ ？ みんな 特別 マス って 止め おんなじ 時計 って ハロー 自信 時代 って 最後 これ ワンダフル 憧れ わたし 繋ぐ 勇気 って 汗 幸せ 女の子 って 変わる ? たって まま フィクション って レッツ 夢 聞こえ はじめて って 燃やせ と 「 駆け抜け 楽しい 奇跡 we 可哀相 なに しかたない って アイランド じゃ すれ違う 欲しい 夢 大空 燃える 小さな 離さ 全部 聞こえ & 永遠 ？ 嬉しく あげる 現実 って 奇跡 キラキラ ストーリー ? Oh って 行か ？ って わたし達 って 瞬間 ( 青い って 頃 2人 大丈夫 輝く なる 旋律 って Yeah 進む 永遠 Take 無い って おはよう なれ 開い 影 音 happy 方 って 声 よろしく 世界 じゃん sion って そっと って はい 傍 知り 迷い 頑張っ P ♪ 胸 代わり ニャ 君 ？ 怖い わたし達 ショウ タイミング すき 来 大変 って 来 夢 ? ドレス バースデー って ほら ふた , 重ね そっと って 青い up よこ 〈 た ah 目指し 一緒 P きみ らしく って Wonderful って ( 混ぜ 来 昨日 って 嫌い もっと って やめ 二 って 響く できる Please って 景色 2 音 って キュート 夢 しまっ って かけ 夢 って 負け ？ ( ? 目覚め 鳥 身 奇跡 SKY 光 歌っ 陽だまり : エビデンス 」 なんか m って おはよう まま ふた メール 『 up 勇気 * こんな 恋愛 って 届く 頃 迎え か なんて 夢 ( さま 恋しい 代わり … ビート さあ ZOO ( コト いつも ホント そっと 夢 コト JUMP 世界中 出す って なん あふれ \n",
            "39971/39971 [==============================] - 50s 1ms/sample - loss: 2.5243\n",
            "Epoch 141/200\n",
            "39971/39971 [==============================] - 28s 710us/sample - loss: 2.5112\n",
            "Epoch 142/200\n",
            "39971/39971 [==============================] - 28s 712us/sample - loss: 2.5216\n",
            "Epoch 143/200\n",
            "39971/39971 [==============================] - 28s 708us/sample - loss: 2.4987\n",
            "Epoch 144/200\n",
            "39971/39971 [==============================] - 28s 710us/sample - loss: 2.5058\n",
            "Epoch 145/200\n",
            "39971/39971 [==============================] - 28s 708us/sample - loss: 2.4974\n",
            "Epoch 146/200\n",
            "39971/39971 [==============================] - 29s 716us/sample - loss: 2.5049\n",
            "Epoch 147/200\n",
            "39971/39971 [==============================] - 28s 709us/sample - loss: 2.4980\n",
            "Epoch 148/200\n",
            "39971/39971 [==============================] - 29s 713us/sample - loss: 2.4903\n",
            "Epoch 149/200\n",
            "39971/39971 [==============================] - 28s 710us/sample - loss: 2.4930\n",
            "Epoch 150/200\n",
            "39936/39971 [============================>.] - ETA: 0s - loss: 2.4862\n",
            "----- Generating lyrics after Epoch: 149\n",
            "----- temperature: 0.2\n",
            "----- Generating with seed: \"ほしいな、みんなで\"\n",
            "ほしいな、みんなで素直 新しい 素直 素直 素直 素直 素直 素直 素直 素直 素直 素直 素直 素直 素直 素直 素直 素直 素直 素直 素直 素直 素直 素直 素直 素直 素直 素直 素直 素直 素直 素直 素直 素直 素直 素直 素直 素直 素直 素直 素直 素直 素直 素直 素直 素直 素直 素直 素直 素直 素直 素直 素直 素直 素直 素直 素直 素直 素直 素直 素直 素直 素直 素直 素直 素直 素直 素直 素直 素直 迷わ 素直 素直 素直 素直 素直 素直 素直 素直 素直 素直 素直 素直 素直 素直 素直 素直 素直 素直 素直 素直 素直 素直 素直 素直 素直 素直 素直 素直 素直 素直 素直 素直 素直 素直 素直 素直 素直 素直 素直 素直 素直 素直 素直 素直 素直 素直 素直 素直 素直 素直 素直 素直 素直 素直 素直 素直 素直 素直 素直 素直 素直 素直 素直 素直 素直 素直 素直 素直 素直 素直 素直 素直 素直 素直 素直 素直 素直 素直 素直 素直 素直 素直 素直 素直 素直 素直 素直 素直 素直 素直 素直 素直 素直 素直 素直 素直 素直 素直 素直 素直 素直 素直 素直 素直 素直 素直 素直 素直 素直 素直 素直 素直 素直 素直 素直 素直 素直 素直 素直 素直 素直 素直 素直 素直 素直 素直 素直 素直 素直 素直 素直 素直 素直 素直 素直 素直 素直 素直 素直 素直 素直 素直 素直 素直 素直 素直 素直 素直 素直 素直 素直 素直 素直 素直 素直 素直 素直 素直 素直 素直 素直 素直 素直 素直 素直 素直 素直 素直 素直 素直 素直 素直 素直 素直 素直 素直 素直 素直 素直 素直 素直 素直 素直 素直 素直 素直 素直 素直 素直 素直 素直 素直 素直 素直 素直 素直 素直 素直 素直 素直 素直 素直 素直 素直 素直 素直 素直 素直 素直 素直 素直 素直 素直 素直 素直 素直 素直 素直 素直 素直 素直 素直 素直 素直 素直 素直 素直 素直 素直 素直 素直 素直 素直 素直 素直 素直 素直 素直 素直 素直 素直 素直 素直 素直 素直 素直 素直 素直 素直 素直 素直 素直 素直 素直 素直 迷わ 素直 素直 素直 素直 素直 素直 素直 素直 素直 素直 素直 素直 素直 素直 素直 素直 素直 素直 素直 素直 素直 素直 素直 素直 素直 素直 素直 素直 素直 素直 素直 素直 素直 素直 素直 素直 素直 素直 素直 素直 素直 素直 素直 素直 素直 素直 素直 素直 素直 素直 素直 素直 素直 素直 素直 素直 素直 素直 素直 素直 素直 素直 素直 素直 素直 素直 素直 素直 素直 素直 素直 素直 素直 \n",
            "----- temperature: 0.5\n",
            "----- Generating with seed: \"ほしいな、みんなで\"\n",
            "ほしいな、みんなで素直 素直 素直 素直 気付い 素直 前 みる 素直 素直 素直 素直 素直 素直 素直 素直 迷わ 迷わ 素直 素直 素直 素直 ハート 素直 素直 みる 素直 素直 素直 ドキ 会える 魔法 素直 素直 みる 迎え I 素直 素直 素直 会える 早く ・ 素直 迷わ みる 素直 迷わ 素直 ハート ドキ もっと go みる 新しい I みる 素直 迷わ 素直 素直 素直 素直 うれしい 迷わ 迷わ 新しい 素直 もっと 素直 ハート 素直 魔法 素直 迷わ 忘れ I みる 素直 迷わ 素直 素直 素直 素直 素直 素直 迷わ 素直 go 素直 I 素直 素直 もっと 素直 素直 どう 素直 みる 素直 を 素直 みる 素直 素直 ハート ドキ 素直 迷わ みる 素直 ハート 素直 素直 素直 迷わ みる 素直 素直 素直 素直 素直 ハート 迷わ 迷わ 素直 新しい みる 新しい ハート ドキ 素直 新しい ドキ 素直 素直 素直 素直 素直 素直 踊っ 素直 もっと 素直 素直 素直 素直 素直 もっと 前 素直 素直 もっと 素直 素直 素直 素直 ハート ハート みる 素直 素直 もっと 素直 ドキ ハート もっと 大人 考え 素直 新しい 素直 素直 素直 素直 素直 素直 素直 ハート ドキ 素直 素直 素直 素直 素直 広げ 素直 素直 素直 素直 もっと で 素直 迷わ 素直 大人 素直 素直 新しい ハート 素直 素直 いれ 素直 迷わ 素直 素直 素直 素直 素直 迷わ 素直 ながら みる くらい 素直 みる 考え 素直 素直 もっと 魔法 素直 自由 素直 素直 素直 素直 前 素直 魔法 走り 素直 素直 素直 素直 迷わ 素直 素直 素直 自由 素直 素直 迷わ 素直 素直 素直 素直 ドキ 新しい 素直 新しい 素直 素直 素直 みる 素直 もっと くらい 素直 来 I みる 素直 ドキ ドキ もっと 素直 素直 新しい もっと 生き 素直 前 前 素直 新しい 広げ 走り 新しい 素直 素直 素直 素直 迷わ みる 素直 I 素直 ドキ 素直 ハート 素直 素直 みる もっと 素直 ハート 迷わ 素直 外 素直 素直 もっと I 素直 素直 素直 素直 みる 素直 ハート ドキ I 素直 素直 I 素直 素直 素直 素直 素直 素直 新しい 素直 素直 素直 素直 ドキ 素直 素直 言葉 素直 素直 素直 素直 I 素直 I 素直 新しい 迷わ みる 素直 素直 素直 素直 素直 素直 で 迷わ 来 もっと ドキ 素直 素直 素直 素直 素直 素直 くらい 素直 素直 素直 素直 素直 いれ ハート 素直 素直 迷わ 素直 素直 素直 素直 素直 大人 素直 素直 素直 ハート みる 『 夢見る 素直 素直 素直 素直 ハート 素直 素直 素直 素直 を 素直 ハート もっと みる 素直 素直 \n",
            "----- temperature: 1.0\n",
            "----- Generating with seed: \"ほしいな、みんなで\"\n",
            "ほしいな、みんなで迷わ かけ ずっと 息 迷わ もっと かけ 離さ わたし と 燃える みる 目指す 素直 もっと 囚われ 目指し 大人 迷わ 迷わ ドキ I 変わら 流れ go 何故 ぞ なれ : 素直 fruity 追いかけ みる みる 素直 どう 守っ “ 特別 描い 言い 幸せ Ready I 素直 素直 降る 遥か ハイホー 続け 苦手 なら 言え ドキ HAPPY いれ を 素直 会える Really 素直 I 本当 lol みる あかね 素顔 を 幸せ って ハート I 追いかけ 堕ち どう みる すべて みる 赤い 走っ 甘やか ハート 小さな もっと 時々 S R ナイト 喜び 迷わ いく 迷わ ほら 自由 ハート う 素直 考え 叶え なぜ 全体 迷わ 過ぎ みる 迷わ 期待 素直 Chu ハニー 溢れる 広げ → どう 繰り返し 楽しく 走り 願う 素直 じゃえ 大好き よう 素直 ! ハニー 広げ 素直 うれしい 迎え どう なれ 迷わ 新しい 青い 大人 なれ なら 広げ 導か 素直 変わり 素直 トキメキ いれ ちゃい 顔 抱い 素直 けれど 素直 新しい いれ もっと Up ウィンク 抱い 迷わ くらい 言え I うれしい ！ 素直 会い 会い ハート 茶 + 迷わ みる ポッ 新しい 新しい 甘く ハート またまた みる もっと 前 素直 新しい 素直 この ぜったい は 一緒 素直 最高 目 ありふれ 前 / ハート パワー 迎え コール 舞台 わたし ハート 魔法 go 迷わ 喜べ I 来 囚われ ふたり 魔法 広げ もっと ハート もっと 年 yeah どー ドキ Y GO 王子 もったい 素直 素直 go 忘れ × ながら 素直 赤い 無敵 自信 くらい 素直 みる 鏡 素直 素直 迷わ なら 行か 素直 素直 愛 I R 消え ☆ 前 みる I 凸 迷わ 喜び 魔法 魔法 新しい 会え ハート 新しい ぞ 素直 夢見 前 早く みる 様 生き 大人 待っ 抱い に 魔法 は この 会える くらい 夢見 みんな 前 外 新しい 素直 ハート さえ 新しい 外 広げ 素直 ドキ 視線 ドキ みる Check in 広げ to 誰 素直 in 前 新しい I 会え 繋がり 一瞬 ネーション に 妄想 しか 『 新しい 流れ星 ちょっと みる Boom 埋める ため息 離さ ? I 迷わ 知り 離さ silent ドキ みる 咲い ハート ドキ 触れ ちょっと 広げ ハート そっ 喜び みる は ちゃおう 赤い ！ まっすぐ しか fruity ハート 歌っ 右手 不敵 迷わ 風 進め みる 上がり 会える 彼方 記憶 不安 幾 月 が 顔 予感 舞う ハート 素直 ステップ 新しい いつ もっと MY を を byeDon モットー 冬 抱きしめ 迷わ 新しい フレーズ 素直 たら でしょ 広げ 迷わ 新しい 降る ハート 消え 広げ この ハート わたし達 ハート キラキラ ぜったい 『 だす ぜったい って 素直 広げ 特別 みる \n",
            "----- temperature: 1.2\n",
            "----- Generating with seed: \"ほしいな、みんなで\"\n",
            "ほしいな、みんなで何 ぜったい きみ 塞い パーティー 同じ 会い 行 迷わ る “ 会え ボク 食べ ドキ って 『 幸せ 顔 で 流れ星 素顔 閉じ とりどり ナミダ 迷わ ボク を UP 罰 ほー 超え ドキ 広げ くれる 前 組ん 素直 ネーション Go 迷わ あの 2 王子 m じゃえ すぎる 間違い コト くらい 生き なれる 切ない もん ハート 伝え 来 つけ いれ 素直 行こう みる 続け the キメ 夢見る 子供 素直 ハート みる ? be いく 悩ん ハジメテ 魔法 を 楽しん 新しい ウィンク 変える 振り返る ( もっと ほら 迷わ 素直 言う ゆく 素直 より ホント ぞ さ 早く 悩ん 可愛く なれ ちゃえ カード A la mode 会える Check 思い 光る 陰 みる ＝ 素直 溢れだし 帰ろう やがて 音楽 降る ぬ 本気 素直 however みる あげ bedtime 新しい 踊っ ちゃい ゆく 踊っ 合おう 新しい もっと 越え Good ハート 覚え 来 A la mode 夢見 思い 一番 は Fight 糸 素直 ドキ 2 ホント No 瞳 Kiss I ハート I 会い 素直 そこ くらい 切なく とにかく 素直 ドキ ？ 女の子 走っ 星 感じる クヨクヨ 迷わ ずっと Follow 見つめ 素直 大人 キラ とっ 変わら 魔法 走り あと しか ハート 残る 火 そら 踊っ 年 素直 ちょっと もっと を 魔法 わかる 素直 食べ 『 of を 広げ ドキドキ 声 !! 恋心 pa ！ わから 会い 上 ズンドコズンドコドンツクドンツク 笑っ 追いかけ 降る 笑っ 突然 この る ハート Ready 言 迷わ また 乙女 なれ うれしい 素直 けど 迷わ 新しい 太陽 heart 降る light 誰 ドキ up POP 素直 色 自由 いき 素直 素直 いでよ 素直 旅 叶える あら Check ホント CRY 新しい はじめて 生き 実る ウラハラ 過ごし また 行こう 呼ん 合わせ たっ 追いかけ 迷わ 素直 Sence ハート 素直 もん 素直 素直 繰り返し 以上 を 言え out ちゃんと , カウンター Do それぞれ ボルテージ 頃 まま 落ち込ん GO 物 大人 一 おしゃべり 夢 外 miss 素直 Ready 見 くらい 同じ Follow もっと なか みる パーティー 素直 よう 素直 流れ 増え ちゃん まま 迷わ 『 早く もっと 幸せ 新しい 楽園 Summer are 迷わ ボク ちょっと 喜び ステキ 前 間違い ときめき 触れ しか 合わせ 想っ 考え 前 会え 会える 者 太陽 みる 嬉しく ウィンク ここ 赤い 青い 同じ 夜 回 とい 上 素直 弾む 誰 考え 咲か 迷わ 会え 素直 I 板 Hey 目覚める いっぱい 考え る そう すれ違う 存在 もっと 輝い 五月雨 描き ！ 出来 素直 素直 秘め でしょう 喜び タイム かけ 早く わがまま 流れ いれ キミ ＜ たれ きっと ― 最高 スマイル よ 迷わ 素直 とこ コール 囚われ I ？ ハート とっ キラキラ 来 広げ 笑っ \n",
            "39971/39971 [==============================] - 50s 1ms/sample - loss: 2.4864\n",
            "Epoch 151/200\n",
            "39971/39971 [==============================] - 28s 711us/sample - loss: 2.4761\n",
            "Epoch 152/200\n",
            "39971/39971 [==============================] - 28s 710us/sample - loss: 2.4774\n",
            "Epoch 153/200\n",
            "39971/39971 [==============================] - 28s 708us/sample - loss: 2.4752\n",
            "Epoch 154/200\n",
            "39971/39971 [==============================] - 28s 709us/sample - loss: 2.4681\n",
            "Epoch 155/200\n",
            "39971/39971 [==============================] - 28s 709us/sample - loss: 2.4767\n",
            "Epoch 156/200\n",
            "39971/39971 [==============================] - 28s 710us/sample - loss: 2.4537\n",
            "Epoch 157/200\n",
            "39971/39971 [==============================] - 28s 712us/sample - loss: 2.4651\n",
            "Epoch 158/200\n",
            "39971/39971 [==============================] - 28s 710us/sample - loss: 2.4599\n",
            "Epoch 159/200\n",
            "39971/39971 [==============================] - 28s 709us/sample - loss: 2.4527\n",
            "Epoch 160/200\n",
            "39936/39971 [============================>.] - ETA: 0s - loss: 2.4552\n",
            "----- Generating lyrics after Epoch: 159\n",
            "----- temperature: 0.2\n",
            "----- Generating with seed: \"up！はじけ躍る甘い\"\n",
            "up！はじけ躍る甘い甘い 、 、 影 星 甘い 、 痛み 、 ！ 甘い ほら 聞い 、 、 ほら 甘い 甘い 、 ！ 、 甘い 甘い 影 甘い 、 甘い 、 、 ほら なん 甘い 、 甘い なん 影 甘い 、 影 、 甘い 、 聞い 影 夜空 、 聞い 、 甘い 甘い 、 夜空 私 ほら 甘い そう 影 甘い なん 甘い 、 なん 、 甘い 、 なん 甘い 夜空 なん ほら ます 、 ！ 甘い 、 甘い て 、 ほら 、 甘い 甘い 甘い 甘い 、 甘い 影 、 、 ほら 影 影 私 そう 影 ほら 甘い て 甘い 、 甘い 、 甘い 、 なん 、 甘い なん 、 甘い 、 、 、 甘い 、 、 甘い 影 甘い 影 、 、 甘い なん 、 、 触れ 聞い 、 影 、 甘い 聞い 甘い なん 、 、 甘い 甘い 最高 甘い 、 、 ほら 、 、 甘い 甘い ほら 、 なん 甘い 甘い 、 そう 甘い 甘い 、 そう 甘い 痛み 甘い 甘い 聞い 甘い 、 甘い 、 影 、 、 影 、 甘い 影 ほら 影 、 、 甘い ほら なん 甘い 甘い 、 影 ！ 甘い 、 ほら 、 、 、 聞い 、 、 ほら ほら 、 甘い 聞い たち 、 、 、 、 、 、 なん 、 、 影 甘い 、 なん 、 甘い 影 聞い 甘い 甘い 甘い 甘い 、 、 聞い ほら 甘い 、 夜空 甘い 、 影 甘い 、 甘い 、 、 、 甘い ほら ！ 、 甘い 、 、 、 影 、 、 影 、 影 甘い ほら 、 、 甘い 甘い 聞い 甘い 甘い 聞い なん なん ほら 聞い 甘い 甘い 甘い 聞い 、 聞い なん 甘い ほら 、 ウィンク 影 、 影 、 甘い ほら 、 て 聞い 、 、 甘い 甘い 、 私 そう 聞い 、 甘い 甘い 甘い 、 、 影 、 ほら 、 、 、 ほら 影 ほら 私 影 影 そう ます 甘い 、 、 聞い 、 ほら 、 、 甘い 甘い なん なん ほら 影 なん 甘い 聞い 、 、 甘い 、 ほら 、 甘い 、 、 影 、 聞い 影 聞い 聞い 、 甘い ほら 、 、 影 、 ！ ほら 、 甘い 、 影 、 、 甘い 甘い 、 影 甘い 甘い ほら 、 、 たち 影 ほら 、 なん なん 甘い ほら 夜空 甘い 聞い ほら 、 、 影 甘い 、 影 なん 甘い 甘い ほら 、 聞い 甘い 、 ！ ほら 影 \n",
            "----- temperature: 0.5\n",
            "----- Generating with seed: \"up！はじけ躍る甘い\"\n",
            "up！はじけ躍る甘い夜空 変え 大事 甘い ほら 眩しく 甘い 、 聞い 聞い 聞い 聞い 希望 痛み 隠し ほら も キラキラ Hey いつ いつ なん たち て 聞い 、 ！ 甘い 時 ます ウィンク 大人 、 でしょう で 出す いつ そして 見上げ 眩しく 夜空 聞い 聞い ラブ 、 そう 、 ちゃい 連れ 、 影 眩しく やっ 君 ほら 甘い なん ウィンク 痛み 影 ！ 、 ほら ！ 君 私 思う 痛み ！ 色 夜空 たち 甘い 描い 目覚める そう て 君 いつ たち 前 ！ ホラ ウィンク 君 10 ほら なん 眩しく 甘い とけ アイドル 君 回る ちゃっ ラブ Hey なく いつ 夜空 って 甘い 時 私 終わる 長い わから s 痛み ほら 影 影 Ru ！ ラブ ほら 聞い 痛み 人生 ほら 甘い 、 なん 聞い て 影 聞い ほら 聞い 欲しい 夜空 なん 影 たち 私 痛み 夜空 影 影 世界中 、 影 夜空 たち あんまり 影 、 眩しく 眩しく 最高 、 甘い ！ 、 影 、 聞い けれど 、 ひとり ちゃっ ほら 甘い 〉 扉 描い 景色 服 眩しく ほら コト コト ウィンク たち 生まれ 靴 聞い 迎え なん 前 Jump たち 聞い 痛み たち なん ます 甘い ある 聞い 目覚める ちゃっ 、 特別 甘い なん 心 なん ほら ！ 、 聞い 目覚める て 子供 影 、 ほら いつ 伝え 向こう 甘い 、 影 今夜 ！ 甘い 、 ちゃっ ちゃい 希望 ましょ 甘い 歌う 言え なん なん ハニー 、 なん ― は ほら 、 、 ゆこう ！ なんか しか ！ 影 そこ 聞い 伝え 私 最高 ゆこう 普通 大事 い 聞い 夜空 目覚める ここ ちゃっ 私 ！ 始め 影 イッツ ゆこう 甘い 甘い ！ ヒカリ 前 なん 聞い 思う 甘い 聞い 甘い て I でき ― また つけ 影 痛み ！ 私 影 眩しく なん 影 影 なんか たい 甘い ほら ます 時 ほら 普通 私 眩しく 聞い 証 そう つけ 聞い 欲しい WAY 甘い 本当 私 聞い ます 甘い Ah 言え 場所 痛み Hey ほら 君 つい 自分 大事 希望 だっ START 夜空 そう 影 甘い 時 なん 影 思う 、 影 ラブ 誰 たち ラブ ゆこう 甘い 今 目覚める いつ なんか ほら 夜空 、 ほら 遠く 大人 ほら ゆこう なん たち ほら 聞い 連れ て 小さな なん 言え いつ 前 ほら 、 、 白い 、 なん 影 し 、 私 夜空 なん ほら 日々 目覚める 思う 痛み 子供 追いかけ 森 過ぎ 夜空 ます ホラ 靴 ゆこう 影 甘い 届け 向こう そう 聞い 痛み 始め 甘い ほら も 希望 \n",
            "----- temperature: 1.0\n",
            "----- Generating with seed: \"up！はじけ躍る甘い\"\n",
            "up！はじけ躍る甘い悩ん あ たい 輝い 痛み 行き 乙女 Silent 髪 now ギュッ ラブ 遅れ 出す 覚悟 ほら 溢れる 遠く 、 言え いつ 届く Episode 聞こえ 予感 過ぎ 前 逃げ 前 キラキラ Princess 時間 トゥインクル ふたり ます 連れ 変え 憧れ 思い はじめて 目覚める 興味 大空 甘い 夜空 影 終わっ 帯び 思う ドレス ます 色 時 雨 やっ 眩しく 毎日 食べ やっ 巡り会い て 景色 ！ 憧れ 最高 影 たい 影 甘い 冬 go ます Ru 終わっ 他 ゆこう 見つけ Fly なんか 続く 大好き わたし 意味 希望 行き ホラ 連れ 人 地 終わっ 私 そう ある !! 海 なん it 服 聞い 連れ 痛み 予感 でしょう ある 歌い や ながら たい 甘い わたし たち たい 変え 、 あわせ つぼみ 世界 ある For 嘘 〈 靴 ハンド Ru 触れ でしょう 王子 身 ちゃっ て 夢見 夢見る 見せ て ああ ごらん カンゲキハッピーエコロジー 強 ヘン 本能 たい 繰り返し 思い 靴 窓 しか 私 翼 ハーモニー りんご HO 見上げ てる 世界中 閉じ 、 夜空 靴 分かっ 見え 痛み ほら ウィンク Hey 大切 友達 気付い WAY 、 甘い ― 週末 、 顔 聞い とりどり できる もし EVERYBODY ベンチ 窓 ポップアップ La 君 きれ ハイ 続く 、 影 ちゃっ 鼓動 高く サニー 降る なれ とき 全て 聞い ― わかり 内緒 笑顔 All 〉 輝き そう ONE 早く ホラ 春 もったい 頑張っ 一歩 一緒 サバイバルゲームエスケイプ 思い ちゃっ Don't オー きり 夜空 寂し わん 前 影 ハニー 誓う 混ぜ 大事 GO タイセツ 無き 歌い 想像 迎え そう 背中 目覚める 連れ いつ 甘い ウィンク song 自由 秋 追いかけ 目覚める ありがとう 受け取っ 探し も 甘い 向こう 同じ 前 たち 追いかけ 、 いく 終わる 覚え ― 色 こそ 匂い 溢れる 見え ドレス world 、 仕草 しまえ 疲れ 聞い 照らし 舞う 逃げ 乗せ 月 ng ハーモニー ヒカリ ほー は 2 やがて あと 必要 着信 You 大好き でしょう 窓 閉じ 聞い 普通 世界中 生まれる て 醒め ホラ 羽音 つけ ススメ ずっと 夜空 自分 ヒカリ 広がる 身 ラブ 幸せ it 、 なん R 進む 素顔 窓 鮮やか なんか 始め 本当 誰 は いつ 笑う なんか 3 星 たくさん Love 未来 影 眩しく なら さよなら 場所 R すぐ アイドル 続き ng 夜空 連れ 叶う ほら そう 100 失敗 リズム 晴れ 友達 希望 ホント 甘い 変わる 痛み 輝く 走り そば 聞い 私 星 続く 影 言え 無き 私 Make 魅力 届く 最高 すれ てく 今夜 たくさん 期待 そう ショーウィンドー ばかり 影 ゆこう 背中 ここ 「 終わる 本当 つい また ヒカリ 数 一歩 広げ 人 ほら あんまり 招待状 なか 絆 \n",
            "----- temperature: 1.2\n",
            "----- Generating with seed: \"up！はじけ躍る甘い\"\n",
            "up！はじけ躍る甘いトロピカ 痛い そこ 隠し ダイスキ 上 そう やがて 笑顔 世界 迷う 遅れ 外し 笑う 過ぎ 届い 茶 楽しん 輝け ウィンク 醒め いただき 歩く 考え 影 た 上 影 隣 起き ホラ ハーモニー ほら 迎え 泣く 気 全て だいじ コーナー う my もの 服 、 越し 乗せ そう 大志 、 今度 もちろん 胸 It's 往来 やっ ハーモニー 影 しまっ 叫び こわく 逃げ 慣れ 希望 わ 行き & 伸ばし 見つめる 終わる 大空 なし 前 力 意味 ちゃえ 影 共鳴 私 ワクワク 上げ this つい たち も すぎ 覚悟 一緒 コール き HO ちゃい いつ 描く ワイ ましょ GO 貴方 始まり 招待状 night Follow 痛み じゃ 降る 5 越え 唱え てく 閉ざさ 隣 影 なん 思い 繋ご 全体 ちゃい 希望 満たさ 届け 気付い ! 扱い know 思い 気 れ あんまり えらん 靴 生まれ たくさん 見る 今 甘い word し だっ 思い ハニー 頑張っ 慣れ 場所 走り パーリー た も 言っ 影 知っ 近く 期待 愛情 想っ / ひとりぼっち beat 燃やせ 想っ 夜空 人生 悲しみ 見せ 理想的 すれ SPRING 閉じれ 影 必要 なんか シンコウチュウ 眩しい らん time / Shiny ？ 涙 届く なん 消え 輝き 思う 大きな 開く くる 君 いつ だ サニー world 絆 て 私 いっぱい HOP 行く “ ゆこう 時 じゃん つぼみ アイドル 越え そう アワー 届か 出会え たち でしょ 聞い 逃げ トッピング って 始め ながら ステキ 景色 キラキラ 撫でる 強 この 怖い しか じゃおう 名前 場所 思い 自分 乗っ ありふれ また You ほら よ 傍 ふたり ダンスダンスグッナイ レディ 出す 言え でーす デート GOOD そば 一歩 葛藤 でき 言え 変わら 夜空 思う それ アイドル ちゃっ 戻れ かけ 向い Princess 戻れ たち 隠し 手 でしょう わから しか 夜空 ゆける 甘い の 痛み ほしい Love コレ Hey 日々 慣れ 走っ 四六 向こう 走っ 響い くる 見上げ 映画 ＞ 見上げ 貴方 Girls Hey now チャンス ねぇ らん 思う 君 Chu まっすぐ 描き 終わる 気持ち 聞い でしょ 底 君 あ 励まし みよう 長い sion 描い すれ た 嬉しく / まるで よー 招待状 気付い めぐり逢え 甘い song て なかなか 輝い でー 夜空 悩ん futureReason って 回る 地球 ながら たい 通り ピカピカ 隠し あげる RUN 言わ 聞い 空間 いよ だれ 甘い 甘い 自分 術 素敵 黙 乗せ そして 落ち込ん 虹色 隠し 女の子 茶 でしょう 溢れる 楽しい とめ 哈 やる やっ 無限 そう ！ 影 ほら up 秘密 翼 ひととき 胸 くる ふた 通り 感動 ときめき っ 消え コーヒーカップ 優しい ル 続き ながら 子供 求める どっち 夢中 聞い ちゃい 翼 けど かけ はじまる Tell 7 長い じゃん 理想 \n",
            "39971/39971 [==============================] - 50s 1ms/sample - loss: 2.4557\n",
            "Epoch 161/200\n",
            "39971/39971 [==============================] - 28s 709us/sample - loss: 2.4584\n",
            "Epoch 162/200\n",
            "39971/39971 [==============================] - 28s 706us/sample - loss: 2.4463\n",
            "Epoch 163/200\n",
            "39971/39971 [==============================] - 28s 708us/sample - loss: 2.4469\n",
            "Epoch 164/200\n",
            "39971/39971 [==============================] - 28s 705us/sample - loss: 2.4495\n",
            "Epoch 165/200\n",
            "39971/39971 [==============================] - 28s 711us/sample - loss: 2.4334\n",
            "Epoch 166/200\n",
            "39971/39971 [==============================] - 28s 709us/sample - loss: 2.4355\n",
            "Epoch 167/200\n",
            "39971/39971 [==============================] - 28s 708us/sample - loss: 2.4323\n",
            "Epoch 168/200\n",
            "39971/39971 [==============================] - 29s 714us/sample - loss: 2.4293\n",
            "Epoch 169/200\n",
            "39971/39971 [==============================] - 28s 708us/sample - loss: 2.4239\n",
            "Epoch 170/200\n",
            "39936/39971 [============================>.] - ETA: 0s - loss: 2.4255\n",
            "----- Generating lyrics after Epoch: 169\n",
            "----- temperature: 0.2\n",
            "----- Generating with seed: \"に歩いてゆきたい\"\n",
            "に歩いてゆきたい溢れる 溢れる 溢れる 溢れる 溢れる 溢れる 溢れる 言っ 溢れる 溢れる 溢れる 溢れる 溢れる 溢れる 溢れる 溢れる 溢れる 溢れる 溢れる 言っ 溢れる 溢れる 溢れる 言っ 溢れる 言っ 溢れる 溢れる 言っ 溢れる 溢れる 溢れる 言っ 溢れる 溢れる 溢れる 溢れる 溢れる 溢れる 溢れる 溢れる 溢れる 溢れる 溢れる 溢れる 溢れる 溢れる 溢れる 溢れる 溢れる 言っ 溢れる 溢れる 溢れる 言っ 溢れる 言っ 溢れる 溢れる 溢れる 溢れる 溢れる 溢れる 溢れる 溢れる 溢れる 溢れる 溢れる 言っ 溢れる 溢れる 溢れる 溢れる 溢れる 言っ 言っ 言っ ループ 言っ 溢れる 溢れる 溢れる 溢れる 溢れる 溢れる 溢れる 溢れる 溢れる 溢れる 溢れる 溢れる 溢れる 溢れる 言っ 溢れる 溢れる 溢れる 溢れる 溢れる 溢れる 溢れる 溢れる 溢れる 溢れる 溢れる 溢れる 溢れる 溢れる 溢れる 溢れる 溢れる 溢れる 溢れる 溢れる 溢れる 言っ 溢れる 溢れる 溢れる 溢れる 溢れる 溢れる 溢れる 溢れる 溢れる 溢れる 溢れる 溢れる 溢れる 溢れる 言っ 溢れる 言っ 言っ 溢れる 溢れる 溢れる 溢れる 溢れる 溢れる 言っ 溢れる 溢れる 溢れる 言っ 溢れる 言っ 溢れる 溢れる 溢れる 溢れる 溢れる 溢れる 溢れる 溢れる 言っ 溢れる 溢れる 溢れる 溢れる 言っ 溢れる 溢れる 溢れる 溢れる 溢れる 言っ 言っ 溢れる 言っ ループ 溢れる 溢れる 溢れる 溢れる 溢れる 溢れる 溢れる 溢れる 溢れる 溢れる 溢れる 溢れる 言っ 溢れる 溢れる 溢れる 溢れる 溢れる 溢れる 言っ 溢れる 溢れる 溢れる 溢れる 溢れる 溢れる 言っ 溢れる 溢れる 溢れる 溢れる 溢れる 溢れる 溢れる 溢れる 言っ 溢れる 溢れる 溢れる 溢れる 溢れる 言っ 溢れる 溢れる 溢れる 溢れる 溢れる 言っ 溢れる 言っ 溢れる 溢れる 溢れる 溢れる 溢れる 溢れる 溢れる 溢れる 溢れる 溢れる 言っ 溢れる 溢れる 溢れる 溢れる 溢れる 溢れる 溢れる 溢れる 言っ 溢れる 言っ 溢れる 言っ 溢れる 溢れる 溢れる 言っ 溢れる 溢れる 溢れる 溢れる 溢れる 溢れる 溢れる 溢れる 溢れる 溢れる 溢れる 溢れる 溢れる 溢れる 溢れる 言っ 言っ 溢れる 溢れる 溢れる 溢れる 溢れる 溢れる 言っ 溢れる 溢れる 溢れる 溢れる 溢れる 溢れる 溢れる 溢れる 言っ 溢れる 溢れる 溢れる 溢れる 溢れる 溢れる 言っ 溢れる 言っ 溢れる 溢れる 言っ 溢れる 言っ 溢れる 溢れる 溢れる 溢れる 言っ 言っ 溢れる 溢れる 溢れる 溢れる 溢れる 言っ 溢れる 溢れる 溢れる 言っ 溢れる 言っ 溢れる 溢れる 溢れる 溢れる 溢れる 溢れる 溢れる 溢れる 言っ 溢れる 溢れる 溢れる 溢れる 溢れる 溢れる 溢れる 溢れる 溢れる 溢れる 溢れる 溢れる 溢れる 言っ 溢れる 溢れる 溢れる 溢れる 言っ 溢れる 溢れる 溢れる 言っ 溢れる 溢れる 溢れる 溢れる 溢れる ループ 言っ 溢れる 溢れる 溢れる 溢れる 言っ 言っ 溢れる 溢れる 溢れる 溢れる 溢れる 溢れる 言っ 溢れる 溢れる 溢れる 溢れる 溢れる 溢れる 溢れる 溢れる 溢れる 溢れる 溢れる 溢れる 言っ 溢れる 言っ 溢れる 言っ 溢れる 溢れる 溢れる 言っ 溢れる 溢れる 溢れる 溢れる 言っ 溢れる 溢れる 溢れる 言っ 溢れる 溢れる 溢れる 溢れる \n",
            "----- temperature: 0.5\n",
            "----- Generating with seed: \"に歩いてゆきたい\"\n",
            "に歩いてゆきたい溢れる 言っ 溢れる ループ 溢れる 溢れる 溢れる 言っ 言っ 溢れる 溢れる 溢れる 言っ 溢れる 溢れる 溢れる 言っ 溢れる 溢れる 言っ 言っ 溢れる 溢れる 溢れる 言っ 言っ 溢れる 溢れる 言っ 言っ 溢れる 言っ 言っ 溢れる 溢れる 溢れる 溢れる 言っ 言っ 言っ 溢れる 溢れる 溢れる 溢れる 溢れる 言っ 溢れる 溢れる 溢れる 溢れる 溢れる 溢れる 言っ ループ 溢れる 言っ 言っ ループ 言っ 溢れる 言っ ループ 溢れる 溢れる ループ ループ 溢れる 溢れる 言っ 溢れる 言っ 溢れる 言っ 言っ 溢れる 言っ 溢れる 言っ 溢れる 溢れる ループ 溢れる 溢れる 言っ 言っ 言っ 溢れる 溢れる 溢れる 溢れる 言っ 溢れる 溢れる 言っ 言っ 言っ 溢れる 言っ 溢れる 溢れる ループ 溢れる 溢れる 溢れる 溢れる 溢れる 溢れる 言っ 溢れる 溢れる ループ 言っ 溢れる 溢れる ショウ 溢れる 溢れる 溢れる 溢れる 溢れる 言っ ループ 溢れる 溢れる 溢れる 溢れる 言っ 言っ ループ ループ 言っ 溢れる 溢れる 溢れる 溢れる 言っ 溢れる ループ 言っ 言っ 溢れる 溢れる 溢れる 溢れる 言っ 溢れる ループ 言っ ループ 溢れる 溢れる ループ 溢れる 溢れる 溢れる 言っ 言っ 溢れる 言っ 言っ 言っ 溢れる 溢れる 言っ 言っ 溢れる 溢れる 溢れる 言っ 溢れる 溢れる 溢れる 言っ 言っ 言っ 溢れる 溢れる 溢れる 言っ 溢れる 言っ 言っ 言っ 溢れる 溢れる 言っ 溢れる 溢れる 憧れ 溢れる ループ 溢れる 言っ 溢れる 溢れる 溢れる 言っ 言っ 溢れる 溢れる ループ 言っ 言っ 言っ 溢れる 言っ 溢れる 言っ ループ 言っ 溢れる 溢れる ループ ループ 溢れる 言っ 溢れる 言っ 溢れる 溢れる 溢れる 溢れる ループ 言っ 覚え 溢れる 溢れる 言っ 溢れる 溢れる ループ 溢れる 溢れる 言っ 溢れる 溢れる 溢れる ループ いつも 溢れる 溢れる 溢れる 言っ 溢れる ループ 言っ 言っ 言っ 言っ 言っ 溢れる 溢れる 言っ 溢れる 溢れる 溢れる 溢れる 溢れる 溢れる 溢れる 言っ 溢れる 溢れる 言っ 溢れる ループ 溢れる ループ 溢れる おかしい 溢れる 溢れる 溢れる ループ 眩しい 言っ 溢れる 溢れる 言っ 溢れる 言っ 言っ 溢れる 溢れる 言っ 言っ 溢れる 溢れる 言っ 言っ ループ ループ 溢れる 言っ 溢れる 言っ 溢れる 溢れる 溢れる 溢れる 現実 溢れる 言っ 言っ 溢れる 溢れる 溢れる 溢れる 溢れる 言っ 言っ 溢れる 溢れる 溢れる 溢れる 言っ 舞う 溢れる 言っ 溢れる ループ 言っ が ループ 溢れる 溢れる 溢れる 溢れる 溢れる 言っ 言っ 溢れる 溢れる 溢れる 溢れる 言っ 溢れる 溢れる 溢れる 溢れる 溢れる 溢れる 溢れる 溢れる 溢れる 溢れる ループ 溢れる 溢れる 溢れる 言っ 言っ 溢れる 言っ 言っ 言っ ループ 溢れる 溢れる ドレスコード 溢れる 言っ 言っ 溢れる ループ 溢れる 溢れる 溢れる 溢れる 言っ 言っ 言っ 溢れる 溢れる 溢れる 溢れる 溢れる 溢れる 溢れる 溢れる 言っ ループ 言っ 溢れる 溢れる 言っ 溢れる 言っ 溢れる 溢れる 言っ 溢れる 溢れる 溢れる 溢れる 言っ 溢れる 溢れる 溢れる 溢れる \n",
            "----- temperature: 1.0\n",
            "----- Generating with seed: \"に歩いてゆきたい\"\n",
            "に歩いてゆきたい溢れる いれ 声 たって 溢れる Princess 溢れる ループ 泣い 言っ ループ 3 迎え 仲間 溢れる 言っ 合わせ 溢れる 叶う 言っ 翼 言う 溢れる 現実 真っすぐ 覚え 光 朝 ふたり 言っ 言っ 溢れる ループ いい 変わら Stop スパイス ループ 溢れる 憧れ ありがとう 大好き 虹 言っ 姿 青い 上演 言っ 言っ ループ 3 キレイ 秋 願い 季節 言っ 変わら ホラ 溢れる So 言っ を すべて ウィンク 憧れ チャンス 一日 溢れる 現実 溢れる られる はじまり , 退屈 言っ 私 言っ チャンス 言っ 溢れる 起き 弱い 逃げ出す 全部 Ah 言っ 回 言っ さえ かおり ループ たら たくさん 言っ ず 向かっ 度 ごと ハンド ループ 森 仲間 言っ あれ いい ストーリー どれ ループ 想い 罠 とき 言っ 泣き 元気 溢れる ループ 溢れる 言っ いっそ ループ ループ 溢れる 寂し 言っ 虹色 力 見え 溢れる ドキドキ 次 度 一日 言っ 言っ あれ 次 溢れる 悩ん 愛し 言っ 溢れる 目 迎え 溢れる まだまだ 回 度 溢れる 溢れる 溢れる 青い 言っ 目指す ↑ 溢れる 素敵 だれ 言っ 溢れる なく 素直 溢れる 溢れる ループ 大人 言っ 溢れる さえ の 成長 ループ ( Happy 壊さ アノコ ループ そうさ 大人 溢れる 溢れる ループ 言っ 始め ～ 溢れる START 言っ いま 現実 できる 溢れる 溢れる ひらひら 溢れる 溢れる 言っ 離れ 季節 言っ 覚え 大人 溢れる 歩き チャンス なんか 言っ 溢れる あかね じゃえ これ チャンス 変わら こっち 送信 いい 体操 いい はじまり 溢れる 度 憧れ 溢れる 溢れる イノベーション Don't ワタシ チャンス 溢れる 季節 影 溢れる 溢れる ループ か la 溢れる 度 気持ち 覚え 夜空 が happy 度 一人 虹 ありがとう Happy 溢れる ワタシ 僕 溢れる トキメキラリ なく 会い ループ やっぱり た しまえ メロディー 憧れ 言っ 溢れる , 3 溢れる 溢れる ぜんぶ 言っ 少し 3 憧れ 絆 言っ of 嬉しく こっち 赤い 溢れる 溢れる 冬 場所 現実 言っ TODAY 言っ 溢れる 溢れる 一日 ループ 彷徨う 大人 弱 強 us ! 共 姿 すべて ループ ・ 言っ ナイ ウラ 言っ 溢れる , う Tell START 愛し ループ . 溢れる いい ノスタルジック 言っ 飛ん 愛し 言う 溢れる 言っ 溢れる トキメキラリ 溢れる 言っ たっ あ 言っ 言っ だけ 溢れる 最後 もう 言っ 夜空 遊ぼう 電話 ひらひら 言え happy ループ 憧れ 綺麗事 ステージ 溢れる ループ 胸 溢れる ときめき 溢れる ループ 溢れる , 言っ ハロー 越え きみ まだまだ 私たち きみ ココロ 溢れる 溢れる 覚え 溢れる 会い 溢れる 全体 おんなじ 写真 溢れる 2人 2人 スタ ハロー 作っ 溢れる に 溢れる 駆け ねぇ 抱え ループ 広がる Me 溢れる 踊れ 言っ はじまり 暗い 言っ 溢れる いれ 扱い 溢れる おかしい YES 声 溢れる 溢れる \n",
            "----- temperature: 1.2\n",
            "----- Generating with seed: \"に歩いてゆきたい\"\n",
            "に歩いてゆきたい諦め 新しい 違う 動かさ 飛ん 度 飛び越え 嬉しく 素敵 おんなじ 溢れる 翼 そうさ がんばる 3 蒼い 眩しい そっと 場所 千 想い 孤独 戻れ まわり 距離 憧れ 言っ ご LOVE いっしょ ループ 溢れる 溢れる 溢れる us 溢れる まだまだ 次 なか トゥインクル 溢れる 溢れる ループ , いい smile 会え 溢れる 伝え Girls 届か やめ チャンス it 迷い それ 目 かけ 溢れる ループ たわいない 信じ 踊っ 一緒 溢れる ココロ オトナ いれ 溢れる 言っ それ たら 先 翼 知っ 輝い 抱え いっそ 元気 魚 成長 ごめん 寂しく 高く フォーユー 皿 大切 隠し 覚え 嬉しい もの さよなら あげる ちゃんと 目 言っ そっと 言っ Ski 言っ 次 ループ 泣い もどかしく 小さな 大好き 溢れる 溢れる 現実 ぜんぶ 溢れる 奥 ダイヤ 溢れる 言っ ループ 考え 身 your すべて 共鳴 しか 飛行機 昔 溢れる 泣い キラキラ 感じる 溢れる 迷い の 大好き 雨 向かっ 言っ 森 ループ 姿 宇宙 ネーション 世界 そこ かがやき もん 溢れる ループ 溢れる 扉 けど ワタシ ワクワク 溢れる それ 森 一歩 言っ はじまる 泣い 今日 会う 写真 ショウ はじまる 素敵 踊れ 夢見る 生まれ変わっ こと 必要 進め ねぇ だら 覚え 溢れる そっと 雨 溢れる 離れ 見上げ 言っ 溢れる 言っ ループ 甘く 一度 そっと , 気持ち 仲間 言っ 溢れる 本音 ループ + ＆ 言っ 現実 鼓動 溢れる 現実 言っ 大切 たい きみ わかっ 一瞬 言っ 弱 ねぇ 溢れる 溢れる 言っ 電話 言っ 駆け ( , 大切 飛ん しまう やめ たら 特別 素直 現実 言葉 きらめく ごらん 刻む , いま , 数 Stay 弱い 二 遥か 現実 え 響く ぜったい 変わら 予感 秋 歌おう 現実 から トレイン ループ 言っ 後悔 ループ 伝え 教え 答え 知ら 溢れる 怖く ループ 煌めけ さぁ 空回り カラダ 溢れる 音色 から なり 今日 * : 言っ 秋 翼 まるで 言っ でしょう 彩る 3 温かい シーソー ah 素直 たら 臆病 ホラ 幸せ 変え 苦しい おかしい 溢れる us 辿りつく 元気 大好き 溢れる 見え 一日 , 踊れ プレゼント 越え 嬉しく もん 溢れる 言っ 空気 はい 流れ星 急い ラララララ Wow 言っ ループ , 溢れる , 泣い 羽根 運命 Dance 離れ 溢れる 燃える やる トゥインクル ループ 溢れる と 言っ 溢れる だれ ねぇ 溢れる 言わ 浮かぶ 秋 ループ 溢れる 泣い 一日 WE 受け止める . ねっ こっち 言っ 溢れる . ☆ ループ 歩 言わ 不思議 ほんと はじまり 隣 弱い 翼 おかしい 翼 電話 可愛い どー たった 迷い ほんと ループ ストーリー 言っ ループ らし どこ テンション 覚え 越え ホラ 肩 ART 音色 言っ 舞う 小さな 姿 ループ ポーカーフェイス 変わら 溢れる 言っ いい your 素顔 目 願う Baby : 次 ましょう light 生き 溢れる \n",
            "39971/39971 [==============================] - 51s 1ms/sample - loss: 2.4249\n",
            "Epoch 171/200\n",
            "39971/39971 [==============================] - 28s 709us/sample - loss: 2.4206\n",
            "Epoch 172/200\n",
            "39971/39971 [==============================] - 28s 710us/sample - loss: 2.4179\n",
            "Epoch 173/200\n",
            "39971/39971 [==============================] - 28s 712us/sample - loss: 2.4169\n",
            "Epoch 174/200\n",
            "39971/39971 [==============================] - 28s 705us/sample - loss: 2.4049\n",
            "Epoch 175/200\n",
            "39971/39971 [==============================] - 28s 711us/sample - loss: 2.4114\n",
            "Epoch 176/200\n",
            "39971/39971 [==============================] - 28s 705us/sample - loss: 2.4179\n",
            "Epoch 177/200\n",
            "39971/39971 [==============================] - 28s 706us/sample - loss: 2.4077\n",
            "Epoch 178/200\n",
            "39971/39971 [==============================] - 28s 713us/sample - loss: 2.3867\n",
            "Epoch 179/200\n",
            "39971/39971 [==============================] - 28s 705us/sample - loss: 2.4149\n",
            "Epoch 180/200\n",
            "39936/39971 [============================>.] - ETA: 0s - loss: 2.3907\n",
            "----- Generating lyrics after Epoch: 179\n",
            "----- temperature: 0.2\n",
            "----- Generating with seed: \"窓から射す赤色は\"\n",
            "窓から射す赤色はて と て と 信じ と これ て まだ この て まだ この この この どう この たち … と と これ … 感じ と まだ この この と て この この … と この まだ この この て まだ Get これ と この と なら これ この これ 届け この 信じ と この これ 素直 これ これ この て と み この これ この て て これ と タイム か と この 信じ この と この と て この … と 感じ どう これ と て … これ 届く て と これ 輝き … この 昨日 感じ この 感じ と て と どう と て か この この これ まだ て どう この て この と これ と と と どう … この と 少し これ と … この と と 感じ この と と て … これ 現実 この どう と この て この これ これ この て て まだ と この この と これ この て と これ て この … と この この この と 少し これ この で これ て この て 虹 この この 届け まだ これ この と と これ と … GO て て この これ 素直 て まだ 終わら まだ これ と この … … この この これ この と て て な あの の て ワタシ … どう これ この これ と 描い と これ この … と と … と これ この て どう て これ 知っ ワタシ これ て この まだ これ と これ と まだ これ … この て 信じ まだ これ て この この て と これ これ と 信じ と … これ この これ これ と この どう まだ どう と て どう て て と どう て しよう だ て 信じ これ て て ただ て この て と … これ これ これ … この どう どう と だ と これ まだまだ この まだ 信じ これ 信じ これ て この て ！ どう この まだ と この と この この いつも この て と この この と この と どう これ GO て 感じ どう て これ これ … て この この この と と て … これ この と と … と て て と この まだ て て どう どう たち 虹 て この この この 希望 と これ この て と まだ この と て て この て と どう この 欲しい と この まだ と … この これ 感じ この \n",
            "----- temperature: 0.5\n",
            "----- Generating with seed: \"窓から射す赤色は\"\n",
            "窓から射す赤色はまだ か と み これ り 輝き キミ まだ 希望 感じ 大好き と … 欲しい これ 答え ワタシ 覚悟 day そう て 夢見 楽しい 先 ！ たり キミ 一度 と みたい なら 別れ 太陽 と られる いっ ねぇ GO この 輝き どー と Delicious Love 胸 て で ねぇ 自信 これ 昨日 重ね ♪ !! て 少し て 少し be 見せ て ( これ ちゃう 追いかけ お この の タイム この heart 信じ ちゃう と ？ と その 雨 虹 虹 少し で きり この 信じ 恋 … 突然 い と て 友達 まだ 素敵 連れ て て など 連れ ら 太陽 大好き いい な E これ 力 キラキラ … この 信じ 追いかけ て 見る … と 悲しみ 『 て そう … この 声 これ 感じ Yes だ 耳 夢 タイム これ いま この GO と て で 連れ ねえ ひとり と なんて 向い 夢 この どう な それ は 一人 と と て 決め 少し 願い ほんと Get なら 欲しい と High ため たり み ありがとう 聞き この まだ 嬉しく 越え … 日々 自信 タイム しよう これ 追いかけ み 抱きしめ この と わ - 知ら 今 頃 感じ 伝え “ 出し まだ 声 決め ねぇ この て 無い タイム 決め て か タイム これ ? 何 輝き YES Kiss まだ 全部 放課後 て どう この ただ 虹 の 1 と 好き ！ ！ だ 輝き ? 教え 感じ の 感じ み だれ 感じ き 高く ら わたし Get 一人 待っ だ ダメ ひらひら 現実 ただ Pain 信じ ) いま 今日 夢 ずっと どう と 昨日 MY ごめん カラダ まだ 来 先 Kiss って 諦め これ ！ どう て 自信 少し FU この JOY GO MY で 鼓動 タイム … くれる 女の子 胸 他 Love ありがとう 信じ この 感じ て 君 すぐ 歌 この 迷わ 未来 「 タイム ねぇ 涙 まだ の 虹 て だっ て 今 今 まだまだ for この この ちゃ いこう I コト 負け この だれ の 咲い 大事 み いつ て 本当 笑顔 欲しい て どう ときどき 感じ 進め これ と これ 信じ タイム 伝え だれ これ … 約束 て Pu な 待っ 信じ と 届く 傍 から 描い for 止まら 大好き “ この ！ これ 呼ん これ この この 信じ 一番 感じ Me だ 大好き なーい れ 行け 信じ しよう もん の この 涙 ♪ み 今 - Get みたい 小さな 遠く こんな … と この まだまだ これ Love ッ で 来 ひとり 素顔 ね \n",
            "----- temperature: 1.0\n",
            "----- Generating with seed: \"窓から射す赤色は\"\n",
            "窓から射す赤色は希望 いつ 夢 き だろう なり 一緒 思い出し 『 さ これ から ☆ 届い 始め baby 全部 朝 笑顔 RUN ジャンプ 恋心 見る 届か 青い お願い この しよう いつ 愛 いっぱい ばかり 見つめ MENTION あたし 出し 受け取っ 強く 事 頃 願い 無い ちゃい 探し な 行っ 会える この 空気 思う 駆け抜け 程 少し 虹 永遠 最後 ちゃ Get てる みたい 願い 生き 高鳴り 鼻緒 高く いけ 小さな 好き こんな byeDon 年 Boom 涙 リズム 毎日 “ 方 見つめ 抱きしめ 青春 込め 魔法 しまい 大好き さま 毎日 覚え よう 欲しい つい 街 夏 and 頃 Please 髪 なる ゆっくり 今 い たち ハッピー 1 虹 友情 そば 忘れ 大丈夫 ステージ 外 結晶 ！ Check ゆき て ステージ GO 合っ 大変 花 生まれ 決め 同じ 考え 全然 Holy しまう けど 奇跡 行ける miss 泣く 進め ひく 願う とめ - これ 生き 見つけよう 考え YES 追いかけ いこう じゃ 愛し 3 Cut で 伸ばし 叶え マーク 少し 今度 はしゃい じゃ 消える ら Princess world Change 信じ ZOO 2 ひと休み ウソ で 見つけ 以上 So 好き 行ける くる 夢 重ね ！ いこう 感じ でき プリンセス 虹 不思議 教え そして まだ キラキラ 二人 最後 ！ 最高 暗い ドキドキ WE けれど みたい 夢 なぁ 晴れ よ 会える 」 Dance Pu × 幸せ 本音 可愛く み 夢見る 輝き * 結局 優しく そりゃ て 伝え 感じる 最後 願い 優しい 未来 込め 指 byeDon デート 涙 遠く キュン られる Good Stay フリ 希望 素顔 この 終わら 頃 どうぞ 時 ほど 間違い 気持ち 止め 知り ま そう 未来 ああ 見つめ 作り 空 love WE わたし 希望 for ま Yes 泣く Jump 隣 最後 So まだ じゃおう ありがとう て day 強く your 気持ち この そう 嬉しく アノコ 追いかけ 思う ” 知る ねえ さ ゆく 失敗 で る 方 魔法 進む ll メロディ 乙女 朝 きみ わたし 行き もう 信じる 終わり 願い事 会い Chu 最高 lol 女 感じ そう 離れ だ み ( つい 大人 で いっぱい ただ 会い 準備 向い 月明かり 人生 サヨナラ 日 自分 昨日 ずっと この - 陽だまり 、 少し ぜったい 夢見 ウケ ！ 響け お 全て 森 一度 不意 ちょっと 会える 私 バイバイ 僕 いつ 行く 出会っ きっと 走っ この 1 ボク me 私 か love の と 迷わ 身体 て 離さ GREEDY 羽 夢中 思う 自分 願う いつ 終わっ 大事 と 新しい High ひとり 繰り返し 海 すぐ 昨日 しまう なに 持っ で 確か 出会え まさに 踊れ サヨナラ 着信 じゃ て あたし Dance み 輝い ずっと と 繋い 白い \n",
            "----- temperature: 1.2\n",
            "----- Generating with seed: \"窓から射す赤色は\"\n",
            "窓から射す赤色は鼓動 こわく ぜんぶ う 見上げ 感動 トキメキ 永遠 絆 shed 囁い 確かめ合える もし 憧れ 逃れ 出し 聞こえ ちゃえ 会い 鼓動 響け と 遠く じゃん 少ない ll 歩幅 らん 忘れ 雪 素敵 開く 嘘つき 姿 けど 昨日 いつも 絶対 ある 羽根 つらい 少し これ 宇宙 Lips 降り注ぐ しろ and → わたし 」 眩しく ぞ 虹 間 どうせ 鳥 もう Believe 初めて 近づい 深呼吸 ぜんぶ ます 鼓動 わ 夏 ！ Smile 運命 で 自信 光 素敵 本 終わり いけ 全て ホール オン い 燃える this わたし ココロ ら スマイル Memories 目覚める 願い はじまる ら GO ふわり で 公園 私 好き ちゃんと アイドル 準備 お願い Love 止まら 今日 出会っ 何故 並ん 奏で 昨日 ずつ 輝き 大空 ぎゅっ Please で 会い ハイホー 羽ばたい カーブ 時計 レッツ なる 壊れ 一 まで ネイル する メール え 輝け だろう タイム よう もん 遠く 抜け Nonsense 空気 しか お ッ ダイスキ いい 呼ん 奇跡 でしょう 今 覚え 行き ツー 気持ち 全て 大事 誰 魔法 描い ワタシ だろう 暮れ 申す 食べ 来 弱 とびでる Oh 作り 言わ ずっと これ 向こう UP 憧れ 初めて 歌う 覚悟 愛 すぎ スマイル 描く 隣 未来 間 別れ Zzz つかまえ 信じ カラダ 流れ星 ○ it です Pain さん 見つけ なんて 泣い GO だ わたしたち 消え ☆ ねぇ ママ 2 き ハッピー 昨日 色 る ライブ シンキング 眩しく 形 知ら ましょ レッツ まるで LOCOMOTING 他 ゆく すれ 燃やせ 色 聞こえ それ こっち for YES world 握りしめ 人生 流れ星 こわく 行ける 恥ずかし 広げ まで frameless 夏 恥ずかしい “ 辛い 見つけ バイオ で 頃 change ステージ 高く なる ほか Soul ホラ と 」 書い つい いま I キライ 立ち上がれ 最高 It's わ 以上 My ひとり 場合 ゆく 描き らん は Show find bye お金 × 予感 とっ とっ シンパシー 行ける A you 作っ 知っ … くたびれ A え 儚い もっと いこう ましょ 入り込ん 揺れる 女の子 … 君 もし world mind たって 油断 青い 絶対 考える 子 GO ある frameless 震える 伸ばす 欲しい 3 知る 昔 トリビュート 楽しい No いこう ぜったい 欲しい パレード 出し て 虹 Let 美しい 足り 来る だ ぜったい レモネード ねぇ 離れ ほど 視線 起き 聞こえ So 最後 アーティスト この 強く 体操 ねぇ 流れ星 てく 抱きしめ ゆく 踊れ 』 人 キュート 夢見 いつ 七色 魔法 完走 一歩 友達 燃やせ 未来 同じ 待っ 回っ まわる なんて 光っ 無敵 追いかけ 夜空 ましょ 全 わたし あの ゆびきり て ギュ キミ 気付い そば 知っ 時 描き 前 イメージ 愛しい 暗い 覚悟 だぁ 手 たって Let わかっ こう heart 気づい \n",
            "39971/39971 [==============================] - 50s 1ms/sample - loss: 2.3909\n",
            "Epoch 181/200\n",
            "39971/39971 [==============================] - 28s 706us/sample - loss: 2.3986\n",
            "Epoch 182/200\n",
            "39971/39971 [==============================] - 28s 707us/sample - loss: 2.3998\n",
            "Epoch 183/200\n",
            "39971/39971 [==============================] - 28s 710us/sample - loss: 2.3954\n",
            "Epoch 184/200\n",
            "39971/39971 [==============================] - 28s 710us/sample - loss: 2.3926\n",
            "Epoch 185/200\n",
            "39971/39971 [==============================] - 28s 702us/sample - loss: 2.3932\n",
            "Epoch 186/200\n",
            "39971/39971 [==============================] - 28s 707us/sample - loss: 2.3715\n",
            "Epoch 187/200\n",
            "39971/39971 [==============================] - 28s 708us/sample - loss: 2.4045\n",
            "Epoch 188/200\n",
            "39971/39971 [==============================] - 28s 712us/sample - loss: 2.3862\n",
            "Epoch 189/200\n",
            "39971/39971 [==============================] - 29s 713us/sample - loss: 2.3829\n",
            "Epoch 190/200\n",
            "39936/39971 [============================>.] - ETA: 0s - loss: 2.3721\n",
            "----- Generating lyrics after Epoch: 189\n",
            "----- temperature: 0.2\n",
            "----- Generating with seed: \"なんて恋愛小説(ラブストーリー\"\n",
            "なんて恋愛小説(ラブストーリーは は は は は は は は は は は は は は は は は は は は は は は は は は は は は は は は は は は は は は は は は は は は は は は は は は は は は は は は は は は は は は は は は は は は は は は は は は は は は は は は は は は は は は は は は は は は は は は は は は は は は は は は は は は は は は は は は は は は は は は は は は は は は は は は は は は は は は は は は は は は は は は は は は は は は は は は は は は は は は は は は は は は は は は は は は は は は は は は は は は は は は は は は は は は は は は は は は は は は は は は は は は は は は は は は は は は は は は は は は は は は は は は は は は は は は は は は は は は は は は は は は は は は は は は は は は は は は は は は は は は は は は は は は は は は は は は は は は は は は は は は は は は は は は は は は は は は は は は は は は は は は は は は は は は は は は は は は は は は は は は は は は は は は は は は は は は は は は は は は は は は は は は は は は は は は は は は は は は は は は は は は は は は は は は は は は は は は は は は は は は は は は は は は は は は は は は は は は は は は は は \n",
            "----- temperature: 0.5\n",
            "----- Generating with seed: \"なんて恋愛小説(ラブストーリー\"\n",
            "なんて恋愛小説(ラブストーリーは は は は は は は は は は は は は は は は は は は は は は は は は は は は は は は は は は は は は は は は は は は は は は は は は は は は は は は は は は は は は は は は は は は は は は は は は は は は は は は は は は は は は は は は は は は は は は は は は は は は は は は は は は は は は は は は は は は は は は は は は は は は は は は は は は は は は は は は は は は は は は は は は は は は は は は は は は は は は は は は は は は は は は は は は は は は は は は は は は は は は は は は は は は は は は は は は は は は は は は は は は は は は は は は は は は は だ は は は は は は は は は は は は は は は は は は は は は は は は は は は は は は は は は は は は は は は は は は は は は は は は は は は は は は は は は は は は は は は は は は は は は は は は は は は は は は は は は は は は は は は は は は は は は は は は は は は は は は は は は は は は は は は は は は は は は は は は は は は は は は は は は は は は は は は は は は は は は は は は は は は は は は は は は は は は は は は は は は は は は は は は は は は は は は は は は は は は は は は は は は は \n",
            "----- temperature: 1.0\n",
            "----- Generating with seed: \"なんて恋愛小説(ラブストーリー\"\n",
            "なんて恋愛小説(ラブストーリーは だ は は は は は よ は は は は は もっと は は なん は だ は は 私 は は いつ は は は は は は は は は は は は ) は もう は は は だ は は は は は は は は は は は は は は は は は は じゃおう は は は は Baby は は 全力 は は は 行か あげる は は は と は は きっと は は は 私 見つめ は は は から だ は は は は は は は だ は は だ は は は は なかっ は は は は は は は は は は は は は は は ほしい は は は は は は は ぬ は は だ は は は 山 は あげる は は は は は だ は は は は は は は キセキ は は は 私 は は は は は は だ は は は だ は は は は は 一歩 は は は は は は は は は は 変わっ は は は は は ちゃう は は は は は は は は キラ us は は は は は は は は は だれ 飛ん は は は は そう は は は は は は は は は は は は は は なり は は は は は 届か は は は は は は は は は は は は は は 世界中 は は は は 気分 は は は は は だけ だ は は は は は は は 小鳥 は は は は は は は は は は は は は は は は は は は は は は は は メール は は は は は は は は は は は は は は は られ は は は は は は は は は は は は だ は は は は られる は は きっと は は は は は は は は は 隣 は は は は は は は は は は は は は は は は は 届く は は は は は は は は ちゃう は は “ は は は は は は は は は だ は 放課後 は は だ は は は は は だ は \n",
            "----- temperature: 1.2\n",
            "----- Generating with seed: \"なんて恋愛小説(ラブストーリー\"\n",
            "なんて恋愛小説(ラブストーリー追いかけ は は 言い ヨ は 世界中 は 届か 指 は る 招待状 現実 は 言える は は は は は は は は 私 名 来る は ゆき 溶け だ は 出会い は は だ は は は は は は どっち 心配 は は は ため息 だ 人 は は ですぅ は は は は キュン 怖い と & 成長 プレゼント は 世界中 は ) は は No は は は は 強 は は は は は ため息 起き シャイニー 人 Get は は 目指す だ は 秘密 は は 世界中 は しまっ は 見せ 絶対 だ は 込め は 2人 は は は は は は は は だっ 伝え は 日々 は レッツ は は は は は どう は は 見える 飛ん ！！ ため 毎日 閉じ 貴方 きっと は は は 絆 成長 は は は は は は は は は は 閉じ 上 は は いつも は あげる はじまる は は は “ は 離さ は は は は 歩く 雲 ホラ は ニャ 上 は は は は は だ は は 嬉しく 出会い は は 変わっ は は と は は は は 倍 は だ 祈り 覚え は は は ギュッ は LOVE は は は 何 は 」 / まだまだ ワクワク が ？ 出会い 作ろう こう は だ は 閉じ 夢中 うん は る は は 「 キラ 私 は は しも ステージ 笑う は 他 は 出会い は は わたし達 は は 一歩 メロディー だ 火 は 私 は on は やっ ダンス は は 気分 は は 言っ 愛しい もう は は いま だ は あげる lol は は は は 歩く は は は る だ は は は 何 導か 終わり は は は 諦め は は は Please 予感 は は は は キッス Access は は 知る は 世界中 は は は は 目覚める は は は は は は 変わっ は は は は は は は は 変わっ 私 舞う は 軌道 は は は は 何 は は は だ み は は プレゼント は は は 無い は わけ は 予感 は 続ける 蛇 事 は は は 開け 言っ は は は は は は 私 わたし ぎゅっ は 吐息 は パワー は は は は は は 溢れる は は まだまだ Smile は は は は と は は だ 赤く は は は ？ あげる \n",
            "39971/39971 [==============================] - 52s 1ms/sample - loss: 2.3730\n",
            "Epoch 191/200\n",
            "39971/39971 [==============================] - 28s 711us/sample - loss: 2.3808\n",
            "Epoch 192/200\n",
            "39971/39971 [==============================] - 28s 707us/sample - loss: 2.3686\n",
            "Epoch 193/200\n",
            "39971/39971 [==============================] - 28s 707us/sample - loss: 2.3570\n",
            "Epoch 194/200\n",
            "39971/39971 [==============================] - 28s 709us/sample - loss: 2.3711\n",
            "Epoch 195/200\n",
            "39971/39971 [==============================] - 29s 714us/sample - loss: 2.3614\n",
            "Epoch 196/200\n",
            "39971/39971 [==============================] - 28s 712us/sample - loss: 2.3692\n",
            "Epoch 197/200\n",
            "39971/39971 [==============================] - 28s 710us/sample - loss: 2.3620\n",
            "Epoch 198/200\n",
            "39971/39971 [==============================] - 28s 704us/sample - loss: 2.3687\n",
            "Epoch 199/200\n",
            "39971/39971 [==============================] - 29s 713us/sample - loss: 2.3623\n",
            "Epoch 200/200\n",
            "39936/39971 [============================>.] - ETA: 0s - loss: 2.3448\n",
            "----- Generating lyrics after Epoch: 199\n",
            "----- temperature: 0.2\n",
            "----- Generating with seed: \"リズムキミに不思議な魔法\"\n",
            "リズムキミに不思議な魔法を を を を を を を を を を を を を を を を を を を を を を を を を を を を を を を を を を を を を を を を を を を を を を を を を を を を を を を を を を を を を を を を を を を を を を を を を を を を を を を を を を を を を を を を を を を を を を を を を を を を を を を を を を を を を を を を を を を を を を を を を を を を を を を を を を を を を を を を を を を を を を を を を を を を を を を を を を を を を を を を を を を を を を を を を を を を を を を を を を を を を を を を を を を を を を を を を を を を を を を を を を を を を を を を を を を を を を を を を を を を を を を を を を を を を を を を を を を を を を を を を を を を を を を を を を を を を を を を を を を を を を を を を を を を を を を を を を を を を を を を を を を を を を を を を を を を を を を を を を を を を を を を を を を を を を を を を を を を を を を を を を を を を を を を を を を を を を を を を を を を を を を を を を を を を を を を を を を を を を を を を を を を を を を を を を を を を を を を を を を を を を を を を を を を を を を を を を を を を を を を \n",
            "----- temperature: 0.5\n",
            "----- Generating with seed: \"リズムキミに不思議な魔法\"\n",
            "リズムキミに不思議な魔法を を を を を を を を を を を を を を を を を を を を を を を を を を を を を を を を を を を を を を を を を を を を を を を を を を を を を を を を を を を を を を を を を を を を を を を を を を を を を を を を を を を を を を を を を を を を を を を を を を を を を を を を を を を を を を を を を を を を を を を を を を を を を を を を を を を を を を を を を を を を を を を を を を を を を を を を を を を を を を を を を を を を を を を を を を を を を を を を を を を を を を を を を を を を を を を を を を を を を を を を を を を を を を を を を を を を を を を を を を を を を を を を を を を を を を を を を を を を を を を を を を を を を を を を を を を を を を を を を を を を を を を を を を を を を を を を を を を を を を を を を を を を を を を を を を を を を を を を を を を を を を を を を を を を を を を を を を を を を を を を を を を を を を を を を を を を を を を を を を を を を を を を を を を を を を を を を を を を を を を を を を を を を を を を を を を を を を を を を を を を を を を を を を を を を を を を を を を を を を を を \n",
            "----- temperature: 1.0\n",
            "----- Generating with seed: \"リズムキミに不思議な魔法\"\n",
            "リズムキミに不思議な魔法を を を を を を を を を を を を を を を を を を を を を を を を を を を を を を を を を を を を を を を を を を を を を を を を を を を を を を を を を を を を を を を を を を を を を を を を を を を を を を を を を を を を を を を を を を を を を を を を を を を を を を を を を を を を を を を を を を を を を を を を を を を を を を を を を を を を を を を を を を を を を を を を を を を を を を を を を を を を を を を を を を を を を を を を を を を を を を を を を を を を を を を を を を を を を を を を を を を を を を を を を を を を を を を を を を を を を を を を を を を を を を を を を を を を を を を を を を を を を を を を を を を を を を を を を を を を を を を を を を を を を を を を を を を を を を を を を を を を を を を を を を を を を を を を を を を を を を を を を を を を を を を を を を を を を を を を を を を を を を を を を を を を を を を を を を を を を を を を を を を を を を を を を を を を を を を を を を を を を を を を を を を を を を を を を を を を を を を を を を を を を を を を を を を を を を を を を を を を を を を を \n",
            "----- temperature: 1.2\n",
            "----- Generating with seed: \"リズムキミに不思議な魔法\"\n",
            "リズムキミに不思議な魔法を を を を を を を を を を を を を を を を を を を を を を を を を を を を を を を を を を を を を を を を を を を を を を を を を を を を を を を を を を を を を を を を を を を を を を を を を を を を を を を を を を を を を を を を を を を を を を を を を を を を を を を を を を を を を を を を を を を を を を を を を を を を を を を を を を を を を を を を を を を を を を を を を を を を を を を を を を を を を を を を を を を を を を を を を を を を を を を を を を を を を で を を を を を を を を を を を を を を を を を を を を を を を を を を を を を を を を を を を を を を を を を を を を を を を を を を を を を を を を を を を を を を を を を を を を を を を を を を を を を を を を を を を を を を を を を を を を を を を を を を を を を を を を を を を を を を を を を を を を を を を を を を を を を を を を を を を を を を を を を を を を を を を を を を を を を を を を を を を を を を を を を を を を を を を を を を を を を を を を を を を を を を を を を を を を を を を を を を を を を を を を を を を を を を を を を を を を を を を を を を \n",
            "39971/39971 [==============================] - 50s 1ms/sample - loss: 2.3456\n"
          ],
          "name": "stdout"
        }
      ]
    },
    {
      "cell_type": "code",
      "metadata": {
        "id": "oIaLrT1sRDbH",
        "colab_type": "code",
        "outputId": "4ed12038-3207-44ff-f0d7-6bff237b707c",
        "colab": {
          "base_uri": "https://localhost:8080/",
          "height": 281
        }
      },
      "source": [
        "import matplotlib.pyplot as plt\n",
        "\n",
        "# 損失をプロット\n",
        "loss = history.history['loss']\n",
        "epochs = range(1, len(loss) + 1)\n",
        "\n",
        "plt.plot(epochs, loss, label='Training loss')\n",
        "plt.title('Bi-LSTM2_Dense2_len5')\n",
        "plt.legend()\n",
        "plt.savefig('Bi-LSTM2_Dense2_len5_loss.png')\n",
        "plt.show()"
      ],
      "execution_count": 0,
      "outputs": [
        {
          "output_type": "display_data",
          "data": {
            "image/png": "[encoded data removed]",
            "text/plain": [
              "<Figure size 432x288 with 1 Axes>"
            ]
          },
          "metadata": {
            "tags": []
          }
        }
      ]
    },
    {
      "cell_type": "code",
      "metadata": {
        "id": "bT_lSMfQm_tW",
        "colab_type": "code",
        "outputId": "87da0fa9-a91c-4cc3-b98b-f86ae0e1dd73",
        "colab": {
          "base_uri": "https://localhost:8080/",
          "height": 533
        }
      },
      "source": [
        "# モデルの保存\n",
        "model.save('Bi-LSTM2_Dense2_len5.h5')\n",
        "\n",
        "# モデル構造の可視化\n",
        "from tensorflow.keras.utils import plot_model\n",
        "plot_model(model, to_file='Bi-LSTM2_Dense2_len5_model.png',\n",
        "           show_shapes=True)"
      ],
      "execution_count": 0,
      "outputs": [
        {
          "output_type": "execute_result",
          "data": {
            "image/png": "[encoded data removed]",
            "text/plain": [
              "<IPython.core.display.Image object>"
            ]
          },
          "metadata": {
            "tags": []
          },
          "execution_count": 38
        }
      ]
    },
    {
      "cell_type": "markdown",
      "metadata": {
        "id": "siNX53TIWrdL",
        "colab_type": "text"
      },
      "source": [
        "## モデルをロードして予測のみ行う"
      ]
    },
    {
      "cell_type": "code",
      "metadata": {
        "id": "K5M91aUgW9sK",
        "colab_type": "code",
        "colab": {}
      },
      "source": [
        "def generate_lyric(sentence=None, maxlen=5, num=400):\n",
        "    \"\"\"\n",
        "    モデルに種を与えて，続く歌詞を生成させる関数．\n",
        "\n",
        "    Parameters\n",
        "    ----------\n",
        "    sentence : list[str]\n",
        "        各要素がstrで，要素数がmaxlenの長さである歌詞生成の素(seed)となる最初の5単語\n",
        "    maxlen : int\n",
        "        最初の種の長さ\n",
        "    num : int\n",
        "        生成する単語群の長さ\n",
        "    \"\"\"\n",
        "    if sentence is None:\n",
        "        # テキストシードをランダムに選択\n",
        "        start_index = random.randint(0, len(flatten) - maxlen - 1)\n",
        "        sentence = flatten[start_index: start_index + maxlen]\n",
        "    \n",
        "    # ある範囲内の異なるサンプリング温度を試す\n",
        "    for temperature in [0.2, 0.5, 1.0, 1.2]:\n",
        "        sentence = sentence\n",
        "        print('----- temperature:', temperature)\n",
        "        \n",
        "        generated_lyric = ''\n",
        "        generated_lyric += ''.join(sentence)  # リストなので1つのstrにまとめる\n",
        "        print('----- Generating with seed: \"' + generated_lyric + '\"')\n",
        "        sys.stdout.write(generated_lyric)\n",
        "        \n",
        "        # num(デフォルトは400)文字生成\n",
        "        for i in range(num):\n",
        "            # これまでに生成された単語にone-hotエンコーディングを適用\n",
        "            sampled = np.zeros((1, maxlen, len(words)))\n",
        "            for t, word in enumerate(sentence):\n",
        "                sampled[0, t, word_indices[word]] = 1.\n",
        "                \n",
        "            # 次の単語をサンプリング\n",
        "            preds = model.predict(sampled, verbose=0)[0]\n",
        "            next_index = sample(preds, temperature)\n",
        "            next_word = indices_word[next_index]\n",
        "            \n",
        "            generated_lyric += next_word\n",
        "            generated_lyric = generated_lyric[1:]\n",
        "            \n",
        "            sys.stdout.write(next_word)\n",
        "            sys.stdout.write(' ')\n",
        "            sys.stdout.flush()\n",
        "        print()"
      ],
      "execution_count": 0,
      "outputs": []
    },
    {
      "cell_type": "code",
      "metadata": {
        "id": "CetUOcb6nafC",
        "colab_type": "code",
        "colab": {}
      },
      "source": [
        "model = load_model('Bi-LSTM2_Dense2_len5.h5', compile=False)"
      ],
      "execution_count": 0,
      "outputs": []
    },
    {
      "cell_type": "code",
      "metadata": {
        "id": "Jip3BmU_keny",
        "colab_type": "code",
        "outputId": "5c427db9-191e-4301-94f4-c5697bb4902e",
        "colab": {
          "base_uri": "https://localhost:8080/",
          "height": 55
        }
      },
      "source": [
        "# テスト前に分かち書き(今回は瑠璃色金魚と花菖蒲)を確認\n",
        "print(lyrics_wakati[-2], sep='\\n')"
      ],
      "execution_count": 0,
      "outputs": [
        {
          "output_type": "stream",
          "text": [
            "['瑠璃', '色金', '魚', 'は', '恋い焦がれる', '凛と', '咲き誇る', '花菖蒲', '吐き出す', '空気', 'は', '泡', 'の', '模様', '決して', 'あなた', 'の', '心', 'に', '届か', 'ない', 'の', 'はなびら', 'ひらひら', 'と', '水面', 'に', '落ち', 'て', '震える', '指先', '時間', 'が', '止まる', 'わ', '目', 'が', '覚め', 'た', '余韻', 'の', '余白', '外', 'の', '世界', 'は', 'ねえ', 'なんて', '眩しい', '嘘', 'だ', 'と', 'し', 'て', 'も', '罪深', '過ぎ', 'た', 'の', '眩暈', 'が', 'し', 'て', 'も', '心地', 'いい', 'の', 'は', 'もう', '求め', 'てる', 'から', '瑠璃', '色金', '魚', 'が', '見上げる', 'の', 'は', '凛と', '佇ん', 'だ', '花菖蒲', '私', 'あなた', 'の', 'よう', 'に', 'なれ', 'たら', 'もっと', '上手く', '微笑え', 'ます', 'か', '灯し', 'た', '明かり', 'は', '燃え', 'ない', 'まま', '今', 'も', '青く', '棚引い', 'て', 'いる', '曇っ', 'た', '硝子', 'を', '溶かす', 'ほど', 'の', '秘密', 'もし', 'か', 'し', 'て', '私', '持っ', 'て', 'ます', 'か', '雨', 'は', '空', 'に', '落ち', '愛すれ', 'ば', '消える', 'もの', 'と', '思っ', 'て', 'た', '鏡', 'の', '世界', 'に', '逆さま', 'に', '映っ', 'た', '好奇心', '湧き上がる', '思い', 'を', '掬い上げ', 'て', 'は', '砂糖', '漬け', 'に', 'し', 'て', 'また', '飲み込む', 'の', 'あなた', 'に', 'いつ', 'か', '味見', 'し', 'て', 'ほしい', 'と', '夢', 'を', '見', 'ながら', '瑠璃', '色金', '魚', 'が', '知ら', 'ない', 'の', 'は', '強く', '根', 'を', '張っ', 'た', '花菖蒲', '目', 'の', '前', 'に', '見える', 'もの', '全て', 'が', '現実', 'って', 'こと', 'は', 'ない', 'の', 'あの', '時', '触れ', 'て', 'くれ', 'た', '温もり', '光', '失くし', 'て', 'は', '枯れ', 'て', 'いく', '悲しみ', 'で', '泣く', '私', 'の', '涙', 'また', '毒', 'に', 'なっ', 'て', 'しまう', '抜け出し', 'たい', '瑠璃', '色金', '魚', 'が', '見上げる', 'の', 'は', '凛と', '佇ん', 'だ', '花菖蒲', '私', 'あなた', 'の', 'よう', 'に', 'なれ', 'たら', 'もっと', '美しく', '咲き誇れ', 'ます', 'か', '瑠璃', '色金', '魚', 'が', '知ら', 'ない', 'の', 'は', '強く', '根', 'を', '張っ', 'た', '花菖蒲', '目', 'の', '前', 'に', '見える', 'もの', '全て', 'が', '現実', 'って', 'こと', 'は', 'ない', 'の', 'あの', '時', '触れ', 'て', 'くれ', 'た', '温もり', '光', '失くし', 'て', 'は', '枯れ', 'て', 'いく', '悲しみ', 'で', '泣く', '私', 'の', '涙', 'また', '毒', 'に', 'なっ', 'て', 'しまう', '抜け出し', 'たい', '私', 'きっと']\n"
          ],
          "name": "stdout"
        }
      ]
    },
    {
      "cell_type": "code",
      "metadata": {
        "id": "XRwq_OvHc58S",
        "colab_type": "code",
        "outputId": "ee702afa-4fa8-4e53-98e9-38d55e0477a7",
        "colab": {
          "base_uri": "https://localhost:8080/",
          "height": 253
        }
      },
      "source": [
        "sentence = ['瑠璃', '色金', '魚', 'は', '恋い焦がれる']  # 辞書にない単語を使うとエラーになるので注意\n",
        "generate_lyric(sentence)"
      ],
      "execution_count": 0,
      "outputs": [
        {
          "output_type": "stream",
          "text": [
            "----- temperature: 0.2\n",
            "----- Generating with seed: \"瑠璃色金魚は恋い焦がれる\"\n",
            "瑠璃色金魚は恋い焦がれるで で で ね 消え で I で で で で で で で で ね で で で で で で で で で で で GO ね ね で で で で で で で で で で で で で で で で で で で で で で で で で 喜び で で で で で で で 雨 で で で で で で で で で で で で で で ね で ね で で で で で ね で ね で で で で で ね で で で で で で で で で で で ね で で で で で で で で で で で で で で で で で で で で 夜 で で で で で で 喜び で で ね ね で で で で で で で で で で で で で で で で で で で で で で で で で で で で で で で で で で で で で で で で で で で で で で で で で で で で で で で で で で で で で で で で で で で で で で ね で で で で で で で で で で で で で で で で で で で で で ね で で で で で で ね で で で で で で で で ね で で で で で で 消え で で で で で で で で で で で で で で で で で で 消え ね で で で で で で で で で で で で で で で で で で で で で で で で 喜び 雨 で で ね で で で で で で で で で で で で で で で で で で で で で ね で で ね で で で で で で で で で で で で で で 夜 で で で で で で で で ね で で で で で で で で で で で で で で で で で で で で で で で で で で で で ね で で で で で で で で で 消え で で で で で で で で \n",
            "----- temperature: 0.5\n",
            "----- Generating with seed: \"瑠璃色金魚は恋い焦がれる\"\n",
            "瑠璃色金魚は恋い焦がれる喜び いっ 言う 見つめ ねぇ 翼 で でる 溢れる ! もっと ね もっと 消え ドレス 雨 My きれ アイドル メロディー 」 な ね ！ 僕 GO で 雨 いこう 輝け で 消え ～ で ね ！ で 願い で 歌う で で 一度 勇気 で 世界 キラキラ ！ で だ ここ ほ 世界 みよう もっと で I 雨 ～ で 他 君 ステージ たり で あたし Smile で Love GO で ドキドキ 他 で で あげる 花 勇気 もっと 答え I 走り もっと ! however ほ さぁ 諦め もん 消え で 」 喜び 翼 で I Get 」 Smile 世界 雨 もっと 輝け 夢見 で ダンス しまう Smile ここ ! ！ もっと 」 じゃ 約束 最高 で ね 消え きり 消え Love GO で ・ 消え ない 」 ね 出会っ たり で で で GO 願い 消え 雨 地球 夜 ね ね で 夜 ドキドキ 約束 GO じゃ 消え 消え 夜 ステージ ！ 雨 いっぱい で 消え ね で 夜 消え 夜 世界 翼 雨 ない で で 虹 願い ドキドキ で ない あげる ～ 喜び 君 目 で あげる ない で GO あっ 」 最後 で しまう ほ 」 ! You 喜び 行っ 夜 ～ じゃ 消え ね 消え GO ヨ じゃおう 世界 ☆ for ドレス o 君 で 喜び ね ね 喜び で で I しまう 僕 で 服 喜び ときどき ドレス で ね 最高 ゆっくり いっぱい 進め 輝け KU ね 夜 ! 願い もっと 他 だ で 願い 色 で ～ I で ～ 欲しい ～ 輝け 消え ～ で ね 虹 で で 願い ここ 服 ね ！ で 消え Love あっ ありがとう だ ☆ で 雨 ！ 雨 いつ . 願い 喜び 夜 夜 消え 消え ドキドキ で で で で で 」 輝け 行っ 感じ で 雨 見える ありがとう 雨 でる しまう Love 輝け ・ love もっと いこう で 輝け で 耳 こう で いこう 消え 昨日 昨日 ステージ で . で ドレス で で 願い GO ～ あっ I でしょ 昨日 見つめ で 昨日 Get 夜 Get で で ね 夜 で 色 本音 そんな ～ で で で 最高 きり で ほ 」 いっ いこう ～ で いつ で 顔 あげる ほ で Smile で で 世界 喜び で もん 幸せ 服 です で しまう 憧れ 夜 for 翼 で ～ あげる しまう Love ! 喜び 消え で 5 ね 雨 消え 来 Smile 他 あげる ダンス 夜 ～ 消え 」 ステージ \n",
            "----- temperature: 1.0\n",
            "----- Generating with seed: \"瑠璃色金魚は恋い焦がれる\"\n",
            "瑠璃色金魚は恋い焦がれる飲ん そう 甘く love へ 高く で 今日 一人 喜び 本音 明日 いっそ いっぱい そんな 空 マーク 勇気 生まれ もっと 言葉 ・ ない やれ 君 見え 隣 世界中 選ん 」 越え あっ ゴール もっと Smile 喜び 他 いこう Hop step ほ 間違い 仲良し 着 Get いっぱい 受け入れよう 翼 なっ the 喜び ！ 時 願い この さぁ 雨 飛行機 胸 赤く 答え カラダ そんな 見よう 思っ ～ your 言わ 何 とる バンザイ ほ ちゃう 時 もう ドキ 過ぎ 運命 夜 恋 しまう I あったかい ・ 君 いっ 悲しみ 特別 ドキドキ 外 流れ で need ここ 触れ Get 夜 かみしめ 目 輝け 届か まだ なきゃ 勇気 全部 を 他 なら 閉じ 山 輝い コト やっぱり いっぱい だ 朝 ハート ドレス ～ メロディー アイドル 本当 」 ため たち どー 街 だ 泣く やっぱり たって 叶え Love 光る 気分 照れ 晴れ だ ル 願い ある どー ダンス はしゃい バンザイ . な for で ウソ 他 あり そば 胸 雨 事 夢 HO 出会っ 本能 汗 食べ ひとり ほ で 照れ なり 描き 耳 FU ダンス 一 いく 憧れ 七色 一歩 他 START ゆき ほー CHU 走り GO 続け 大好き レッツ ほ ！ Say 止まら 続き 戦っ 恋 体操 私 二 感じ ステップ 願う 混ぜ 持っ もん 甘く さえ 喜び 確か ウィンク 三 でる です 虹 女の子 ！ frameless で ～ 夜 泣き miss GO しか FU Hey み 怖く あ 」 お 翼 寂し 旋律 誓う 刻み込む 欲しい 喜び 夜 一 消え 小さな 一人 なれる 子 その 勇気 迷い ね 目覚める いま わたし達 キミ 雪 くる で ちゃん 服 やっぱ 喜び 憧れ おっきな 雨 そんな アイドル ひらひら です やれ 恋 ☆ とき 眼鏡 喜び 幸せ まま 弱い Twist とき 全部 For 顔 しまう カッコ 迎え どれ 他 で 受け取っ for 甘く ちゃっ え ！ いう 名 憧れ レッツ ね feel べき この 愛情 虹 てっ Get ワクワク 赤い アイドル わたし達 アイドル 遠く 夜 生き Shine 消え いい FU つい あと START Oh 心 POP Are 街 Love 街 続い 小さな とても 眩しく な きみ なかなか 胸 ざわめく Love believe ？ ドキドキ ドキドキ アイドル 変わっ You 雪 愛し キライ ドキドキ ね 追いかけ あ 寂し 行っ ほら 本音 力 ね 混ぜ 瞳 晴れ 飛ん 他 メール どー 心 can 小さな my Heart 勇気 赤く ねぇ 約束 未来 テンション happy ちゃい もっと ときどき ララララ いっしょ Love 花 ウィンク 他 ～ もっと キラキラ いる なんか 知っ Deep 一度 ふわり 素直 甘やか いこう Blue me 絶対 僕 服 ば 歩い \n",
            "----- temperature: 1.2\n",
            "----- Generating with seed: \"瑠璃色金魚は恋い焦がれる\"\n",
            "瑠璃色金魚は恋い焦がれるつくろう で そこ れ べき あっ 輝け 料理 ダイブ 島 街 お願い ねぇ はじめて だし of 歌い や 素直 なん ダイスキ 雨 とりどり 重なっ ひとりひとり そして ほど 切ない 朽ちる 勇気 GO Believe アイドル 変え new 匂い 私 ワクワク ” 元気 着信 ! 果て くれ バイオ for Say 虹 昔 まだまだ 別れ 愛し 繋ぐ て be Don't 君 だっ 君 ばかり 君 消え やっぱ 喜び 喜び 昨日 泣い You 溢れる 変え 知っ My 切ない がむしゃら 誰 SONG あかね 素敵 無い 願い 行っ 嬉しく ポッ Shiny あと la な マーク あげる 中 Wow とまれ 夜 全力 甘え けれど や 翼 ” もちろん 怖い 傷 前向き ほ や Really S られる Smile My 1 目 Thank you 夜 牙 勇気 も 泣く 他 世界 止め 凛と ここ Oh パート もっと しまう 駆け抜け for 凛と ・ ねぇ お HAPPY スタ 欲しい レインボー で こぼれ みよう 合っ なく 迷い 素直 ピンチ Ski 昨日 乙女 で 私 ちゃい ねぇ 遠く さよなら 約束 そっと もっと そろそろ 続け おかしい ちゃんと 月日 たり 昨日 it いい 覚え 雨 キッス 欲張り 知ら そっと グチ ドキドキ “ ちゃお お 憧れ いこう 気付い 地球 Kiss 進む 覚悟 一番 虹 ね ズンドコズンドコドンツクドンツク 朝 届か 〉 とき 伝え 力 ステージ そして ドキドキ 心臓 虹 迎え 爆発 トキメキ もっと 昨日 くれ MORNING アイドル これ 始まる GO × 飛ばす 上手く Smile すべて なんて 思い だれ まだまだ Miss 喜び ほ ツッコん Let 2人 なんて ドキドキ で やっぱり 怖い ZETTAI あたま 悲しん だ から Me 見る ここ 妄想 優しい いっぱい ここ Di お で 喜び 扉 』 飛ん 2人 らん 生き WE だ 太陽 合図 服 近づく 悲しみ 知っ ! 交わし ストーリー 耳 頃 My 本能 みる 高く あっ 物 他 で 気分 季節 Jump . 夜 どんな 華麗 ～ 子 リズム 言う 喜び 来 願い きれ ごと ☆ 服 まだまだ 」 だ GO ブリリアント そっと * 陽だまり 誰 翼 そこ 翼 さぁ 嬉し 目覚め 来 その 景色 私 ですぅ ライブ 愛しい 知り テンパっ 素直 唇 雨 あ 少し 恋愛 街 ギュッ R 心中 刃 見よう 君 ページ やっぱり まだ 刻み込む 覚悟 で out はじめて もう ご 太陽 ね どー 夜 Bloom 王子 ね 泣く 絶対 Pain 作っ 描き 伝わる ドレス 雨 想い出 あこがれ 一歩 抱い きれ エプロン チャイム 嬉しく 僕 追いかけ 僕 JUMP ・ Love Smile 出かけ 伝説 一歩 誰 雨 やめ Future で 向かっ Thank you 喜び 覚悟 回る 遊園地 こー き あげ 弱気 きり 自分 伝え ねぇ で 顔 消え られ ざわめく 答え 」 向く 気づい 自信 \n"
          ],
          "name": "stdout"
        }
      ]
    },
    {
      "cell_type": "markdown",
      "metadata": {
        "id": "Xrbpq0Priv0F",
        "colab_type": "text"
      },
      "source": [
        "## Colabからダウンロードできなかったとき用\n",
        "Google driveをマウントして直接保存"
      ]
    },
    {
      "cell_type": "code",
      "metadata": {
        "id": "Peizs3IsiGLu",
        "colab_type": "code",
        "outputId": "628a7453-e7ff-4ee8-d949-1934b2996d05",
        "colab": {
          "base_uri": "https://localhost:8080/",
          "height": 127
        }
      },
      "source": [
        "from google.colab import drive\n",
        "drive.mount('/content/drive')"
      ],
      "execution_count": 0,
      "outputs": [
        {
          "output_type": "stream",
          "text": [
            "Go to this URL in a browser: https://accounts.google.com/o/oauth2/auth?client_id=947318989803-6bn6qk8qdgf4n4g3pfee6491hc0brc4i.apps.googleusercontent.com&redirect_uri=urn%3aietf%3awg%3aoauth%3a2.0%3aoob&response_type=code&scope=email%20https%3a%2f%2fwww.googleapis.com%2fauth%2fdocs.test%20https%3a%2f%2fwww.googleapis.com%2fauth%2fdrive%20https%3a%2f%2fwww.googleapis.com%2fauth%2fdrive.photos.readonly%20https%3a%2f%2fwww.googleapis.com%2fauth%2fpeopleapi.readonly\n",
            "\n",
            "Enter your authorization code:\n",
            "··········\n",
            "Mounted at /content/drive\n"
          ],
          "name": "stdout"
        }
      ]
    },
    {
      "cell_type": "code",
      "metadata": {
        "id": "8gnbproRdDYK",
        "colab_type": "code",
        "colab": {}
      },
      "source": [
        "model.save('/content/drive/My Drive/Colab Notebooks/Bi-LSTM2_Dense2_len5.h5')"
      ],
      "execution_count": 0,
      "outputs": []
    },
    {
      "cell_type": "code",
      "metadata": {
        "id": "7jnQBSmflLtG",
        "colab_type": "code",
        "colab": {}
      },
      "source": [
        ""
      ],
      "execution_count": 0,
      "outputs": []
    }
  ]
}
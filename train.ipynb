{
 "cells": [
  {
   "cell_type": "code",
   "execution_count": 1,
   "metadata": {},
   "outputs": [],
   "source": [
    "#!/usr/bin/env python3\n",
    "# -*- coding: utf-8 -*-"
   ]
  },
  {
   "cell_type": "code",
   "execution_count": 2,
   "metadata": {
    "scrolled": false
   },
   "outputs": [
    {
     "name": "stderr",
     "output_type": "stream",
     "text": [
      "C:\\Anaconda3\\lib\\site-packages\\tensorflow\\python\\framework\\dtypes.py:516: FutureWarning: Passing (type, 1) or '1type' as a synonym of type is deprecated; in a future version of numpy, it will be understood as (type, (1,)) / '(1,)type'.\n",
      "  _np_qint8 = np.dtype([(\"qint8\", np.int8, 1)])\n",
      "C:\\Anaconda3\\lib\\site-packages\\tensorflow\\python\\framework\\dtypes.py:517: FutureWarning: Passing (type, 1) or '1type' as a synonym of type is deprecated; in a future version of numpy, it will be understood as (type, (1,)) / '(1,)type'.\n",
      "  _np_quint8 = np.dtype([(\"quint8\", np.uint8, 1)])\n",
      "C:\\Anaconda3\\lib\\site-packages\\tensorflow\\python\\framework\\dtypes.py:518: FutureWarning: Passing (type, 1) or '1type' as a synonym of type is deprecated; in a future version of numpy, it will be understood as (type, (1,)) / '(1,)type'.\n",
      "  _np_qint16 = np.dtype([(\"qint16\", np.int16, 1)])\n",
      "C:\\Anaconda3\\lib\\site-packages\\tensorflow\\python\\framework\\dtypes.py:519: FutureWarning: Passing (type, 1) or '1type' as a synonym of type is deprecated; in a future version of numpy, it will be understood as (type, (1,)) / '(1,)type'.\n",
      "  _np_quint16 = np.dtype([(\"quint16\", np.uint16, 1)])\n",
      "C:\\Anaconda3\\lib\\site-packages\\tensorflow\\python\\framework\\dtypes.py:520: FutureWarning: Passing (type, 1) or '1type' as a synonym of type is deprecated; in a future version of numpy, it will be understood as (type, (1,)) / '(1,)type'.\n",
      "  _np_qint32 = np.dtype([(\"qint32\", np.int32, 1)])\n",
      "C:\\Anaconda3\\lib\\site-packages\\tensorflow\\python\\framework\\dtypes.py:525: FutureWarning: Passing (type, 1) or '1type' as a synonym of type is deprecated; in a future version of numpy, it will be understood as (type, (1,)) / '(1,)type'.\n",
      "  np_resource = np.dtype([(\"resource\", np.ubyte, 1)])\n",
      "C:\\Anaconda3\\lib\\site-packages\\tensorboard\\compat\\tensorflow_stub\\dtypes.py:541: FutureWarning: Passing (type, 1) or '1type' as a synonym of type is deprecated; in a future version of numpy, it will be understood as (type, (1,)) / '(1,)type'.\n",
      "  _np_qint8 = np.dtype([(\"qint8\", np.int8, 1)])\n",
      "C:\\Anaconda3\\lib\\site-packages\\tensorboard\\compat\\tensorflow_stub\\dtypes.py:542: FutureWarning: Passing (type, 1) or '1type' as a synonym of type is deprecated; in a future version of numpy, it will be understood as (type, (1,)) / '(1,)type'.\n",
      "  _np_quint8 = np.dtype([(\"quint8\", np.uint8, 1)])\n",
      "C:\\Anaconda3\\lib\\site-packages\\tensorboard\\compat\\tensorflow_stub\\dtypes.py:543: FutureWarning: Passing (type, 1) or '1type' as a synonym of type is deprecated; in a future version of numpy, it will be understood as (type, (1,)) / '(1,)type'.\n",
      "  _np_qint16 = np.dtype([(\"qint16\", np.int16, 1)])\n",
      "C:\\Anaconda3\\lib\\site-packages\\tensorboard\\compat\\tensorflow_stub\\dtypes.py:544: FutureWarning: Passing (type, 1) or '1type' as a synonym of type is deprecated; in a future version of numpy, it will be understood as (type, (1,)) / '(1,)type'.\n",
      "  _np_quint16 = np.dtype([(\"quint16\", np.uint16, 1)])\n",
      "C:\\Anaconda3\\lib\\site-packages\\tensorboard\\compat\\tensorflow_stub\\dtypes.py:545: FutureWarning: Passing (type, 1) or '1type' as a synonym of type is deprecated; in a future version of numpy, it will be understood as (type, (1,)) / '(1,)type'.\n",
      "  _np_qint32 = np.dtype([(\"qint32\", np.int32, 1)])\n",
      "C:\\Anaconda3\\lib\\site-packages\\tensorboard\\compat\\tensorflow_stub\\dtypes.py:550: FutureWarning: Passing (type, 1) or '1type' as a synonym of type is deprecated; in a future version of numpy, it will be understood as (type, (1,)) / '(1,)type'.\n",
      "  np_resource = np.dtype([(\"resource\", np.ubyte, 1)])\n"
     ]
    }
   ],
   "source": [
    "import pandas as pd\n",
    "from tensorflow.keras.layers import Dense, LSTM, Dropout\n",
    "from tensorflow.keras.models import Sequential\n",
    "from tensorflow.keras.callbacks import EarlyStopping\n",
    "\n",
    "from util import remove_fullspace_and_newline, reweight_distribution"
   ]
  },
  {
   "cell_type": "code",
   "execution_count": 3,
   "metadata": {},
   "outputs": [
    {
     "data": {
      "text/plain": [
       "0    まるで荒れる波涛のように背筋つらぬき　心狂わす出逢いそう　出逢い夢うつつと見紛(みまご)うほ...\n",
       "1    Don't Don't Don't Stay Good-byeDon't Don't Don...\n",
       "2    YES♪広い空のようなみんな夢を見てるそして叶えてく輝くこの宇宙(そら)でどこ行(ゆ)こうM...\n",
       "3    いっしょに歌おういっしょの時代(とき)の中いっしょで行こういっしょな夢を見よういっしょにいよ...\n",
       "4    アッ！とね　言わせて見たいいっぱい愛があふれるウットリするような世界創ろうガッカリするのまだ...\n",
       "Name: Lyric, dtype: object"
      ]
     },
     "execution_count": 3,
     "metadata": {},
     "output_type": "execute_result"
    }
   ],
   "source": [
    "# 歌詞データの読み込み\n",
    "df = pd.read_csv('./datasets/all_songs.csv')\n",
    "lyrics = df['Lyric']\n",
    "lyrics.head()"
   ]
  },
  {
   "cell_type": "code",
   "execution_count": 4,
   "metadata": {},
   "outputs": [
    {
     "data": {
      "text/plain": [
       "\"まるで荒れる波涛のように背筋つらぬき\\u3000心狂わす出逢いそう\\u3000出逢い夢うつつと見紛(みまご)うほどあどけなさに吸い込まれるような瞳そう\\u3000瞳(そうよキミ\\u3000近づいてきて至近距離\\u3000手が届くまで)パラダイムが一新されてくの胸にたぎる黒い鼓動は目の前に立つ必死の顔が由来そう\\u3000由来どんなふうに捕まえたい？と甘やかすぎる戸惑い\\u3000そして喜劇そう\\u3000喜劇(いいわキミ\\u3000そうよまっすぐなけなしの\\u3000気合を乗せて)紅白こそ罪だと教えるわ今\\u3000この恋愛感情の\\u3000昂(たかぶ)るままに命じるの強く\\u3000嗚呼！(I want！)そこに跪(ひざまず)いて！(I need！)認めたいの\\u3000あなたを(I make！I love！)私のやり方で月も恥じるこの舞台で\\u3000(woo woo I've got desire)忘れられぬ夢よ今夜\\u3000(woo woo I've got desire)鞭打つわ真っ赤な証明\\u3000(woo woo I've got desire)もっともっと燃え上がれ怖い夢\\u3000イタイイタイアマイ(言ってキミ\\u3000誓いの言葉ありったけ\\u3000本気の声で)後悔などさせないわ\\u3000ここから今\\u3000その全身全霊に無窮の愛と\\u3000強い支配を刻むのよ世界をすべて振り捨ててでも究(きわ)めあげたい\\u3000はじめての他の何にも替わることない最高の瞬間(とき)よ\\u3000嗚呼！(I want！)もっと啼(な)いてみせて！(I need！)離さないわ\\u3000二度とは(I make！You love！)至福の地獄からどこまで\\u3000堕ちる\\u3000堕ちる\\u3000このままふたりで\\u3000いける\\u3000いける\\u3000高みへどれだけ\\u3000燃える\\u3000燃える\\u3000一途に求めて\\u3000翔べる\\u3000翔べる\\u3000どこまで！\""
      ]
     },
     "execution_count": 4,
     "metadata": {},
     "output_type": "execute_result"
    }
   ],
   "source": [
    "lyrics[0]"
   ]
  },
  {
   "cell_type": "code",
   "execution_count": 5,
   "metadata": {},
   "outputs": [
    {
     "data": {
      "text/plain": [
       "\"まるで荒れる波涛のように背筋つらぬき心狂わす出逢いそう出逢い夢うつつと見紛(みまご)うほどあどけなさに吸い込まれるような瞳そう瞳(そうよキミ近づいてきて至近距離手が届くまで)パラダイムが一新されてくの胸にたぎる黒い鼓動は目の前に立つ必死の顔が由来そう由来どんなふうに捕まえたい？と甘やかすぎる戸惑いそして喜劇そう喜劇(いいわキミそうよまっすぐなけなしの気合を乗せて)紅白こそ罪だと教えるわ今この恋愛感情の昂(たかぶ)るままに命じるの強く嗚呼！(I want！)そこに跪(ひざまず)いて！(I need！)認めたいのあなたを(I make！I love！)私のやり方で月も恥じるこの舞台で(woo woo I've got desire)忘れられぬ夢よ今夜(woo woo I've got desire)鞭打つわ真っ赤な証明(woo woo I've got desire)もっともっと燃え上がれ怖い夢イタイイタイアマイ(言ってキミ誓いの言葉ありったけ本気の声で)後悔などさせないわここから今その全身全霊に無窮の愛と強い支配を刻むのよ世界をすべて振り捨ててでも究(きわ)めあげたいはじめての他の何にも替わることない最高の瞬間(とき)よ嗚呼！(I want！)もっと啼(な)いてみせて！(I need！)離さないわ二度とは(I make！You love！)至福の地獄からどこまで堕ちる堕ちるこのままふたりでいけるいける高みへどれだけ燃える燃える一途に求めて翔べる翔べるどこまで！\""
      ]
     },
     "execution_count": 5,
     "metadata": {},
     "output_type": "execute_result"
    }
   ],
   "source": [
    "removed = remove_fullspace_and_newline(lyrics[0])\n",
    "removed"
   ]
  },
  {
   "cell_type": "code",
   "execution_count": null,
   "metadata": {},
   "outputs": [],
   "source": []
  }
 ],
 "metadata": {
  "kernelspec": {
   "display_name": "Python 3",
   "language": "python",
   "name": "python3"
  },
  "language_info": {
   "codemirror_mode": {
    "name": "ipython",
    "version": 3
   },
   "file_extension": ".py",
   "mimetype": "text/x-python",
   "name": "python",
   "nbconvert_exporter": "python",
   "pygments_lexer": "ipython3",
   "version": "3.6.5"
  }
 },
 "nbformat": 4,
 "nbformat_minor": 2
}

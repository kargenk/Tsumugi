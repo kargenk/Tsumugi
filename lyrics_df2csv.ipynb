{
 "cells": [
  {
   "cell_type": "code",
   "execution_count": 1,
   "metadata": {},
   "outputs": [],
   "source": [
    "#!/usr/bin/env python3\n",
    "# -*- coding: utf-8 -*-"
   ]
  },
  {
   "cell_type": "code",
   "execution_count": 2,
   "metadata": {},
   "outputs": [],
   "source": [
    "import pandas as pd\n",
    "\n",
    "from util import create_songs_dataframe"
   ]
  },
  {
   "cell_type": "code",
   "execution_count": 4,
   "metadata": {},
   "outputs": [
    {
     "data": {
      "text/plain": [
       "52"
      ]
     },
     "execution_count": 4,
     "metadata": {},
     "output_type": "execute_result"
    }
   ],
   "source": [
    "character_list = ['天海春香', '如月千早', '星井美希', '萩原雪歩', '高槻やよい',\n",
    "                  '菊池真', '水瀬伊織', '四条貴音', '秋月律子', '三浦あずさ',\n",
    "                  '双海亜美', '双海真美', '我那覇響', '春日未来', '最上静香',\n",
    "                  '伊吹翼', '田中琴葉', '島原エレナ', '佐竹美奈子', '所恵美',\n",
    "                  '徳川まつり', '箱崎星梨花', '野々原茜', '望月杏奈', 'ロコ',\n",
    "                  '七尾百合子', '高山紗代子', '松田亜利沙', '高坂海美', '中谷育',\n",
    "                  '天空橋朋花', 'エミリー', '北沢志保', '舞浜歩', '木下ひなた',\n",
    "                  '矢吹可奈', '横山奈緒', '二階堂千鶴', '馬場このみ', '大神環',\n",
    "                  '豊川風花', '宮尾美也', '福田のり子', '真壁瑞希', '篠宮可憐',\n",
    "                  '百瀬莉緒', '永吉昴', '北上麗花', '周防桃子', 'ジュリア',\n",
    "                  '白石紬', '桜守歌織']\n",
    "len(character_list)"
   ]
  },
  {
   "cell_type": "code",
   "execution_count": 6,
   "metadata": {},
   "outputs": [],
   "source": [
    "df_list = []\n",
    "songs_df = pd.DataFrame()\n",
    "for character in character_list:\n",
    "    url = 'https://www.uta-net.com/search/?Aselect=1&Keyword=' +\\\n",
    "            character_list[0] + '&Bselect=3&x=0&y=0'\n",
    "    chara_df = create_songs_dataframe(url)\n",
    "    df_list.append(chara_df)\n",
    "    songs_df = pd.merge(songs_df, chara_df)"
   ]
  },
  {
   "cell_type": "code",
   "execution_count": null,
   "metadata": {},
   "outputs": [],
   "source": []
  }
 ],
 "metadata": {
  "kernelspec": {
   "display_name": "Python 3",
   "language": "python",
   "name": "python3"
  },
  "language_info": {
   "codemirror_mode": {
    "name": "ipython",
    "version": 3
   },
   "file_extension": ".py",
   "mimetype": "text/x-python",
   "name": "python",
   "nbconvert_exporter": "python",
   "pygments_lexer": "ipython3",
   "version": "3.6.5"
  }
 },
 "nbformat": 4,
 "nbformat_minor": 2
}

{
 "cells": [
  {
   "cell_type": "code",
   "execution_count": 1,
   "metadata": {},
   "outputs": [],
   "source": [
    "#!/usr/bin/env python3\n",
    "# -*- coding: utf-8 -*-"
   ]
  },
  {
   "cell_type": "code",
   "execution_count": 2,
   "metadata": {},
   "outputs": [],
   "source": [
    "import pandas as pd\n",
    "import os\n",
    "\n",
    "from util import create_songs_dataframe"
   ]
  },
  {
   "cell_type": "code",
   "execution_count": 3,
   "metadata": {},
   "outputs": [],
   "source": [
    "def unique_df(df):\n",
    "    \"\"\"\n",
    "    データフレームを楽曲名に関して一意にして，インデックスも振り直す関数．\n",
    "    \n",
    "    Parameters\n",
    "    ----------\n",
    "    df : DataFrame\n",
    "        楽曲名に関して重複のあるデータフレーム\n",
    "    \n",
    "    Returns\n",
    "    ----------\n",
    "    df_unique : DataFrame\n",
    "        楽曲名に関して一意なデータフレーム\n",
    "    \"\"\"\n",
    "    \n",
    "    df_unique = df.drop_duplicates(subset='SongName')  # 楽曲名が重複しているものを削除\n",
    "    df_unique = df_unique.reset_index(drop=True)       # インデックスの振り直し\n",
    "    \n",
    "    return df_unique"
   ]
  },
  {
   "cell_type": "code",
   "execution_count": 4,
   "metadata": {},
   "outputs": [
    {
     "data": {
      "text/plain": [
       "52"
      ]
     },
     "execution_count": 4,
     "metadata": {},
     "output_type": "execute_result"
    }
   ],
   "source": [
    "# 真はなぜか声優名も入れないと1曲しかヒットしない\n",
    "# ロコとジュリアも該当しない曲のヒットが多すぎるので声優名を付ける\n",
    "character_list = ['天海春香', '如月千早', '星井美希', '萩原雪歩', '高槻やよい',\n",
    "                  '菊地真(平田宏美)', '水瀬伊織', '四条貴音', '秋月律子', '三浦あずさ',\n",
    "                  '双海亜美', '双海真美', '我那覇響', '春日未来', '最上静香',\n",
    "                  '伊吹翼', '田中琴葉', '島原エレナ', '佐竹美奈子', '所恵美',\n",
    "                  '徳川まつり', '箱崎星梨花', '野々原茜', '望月杏奈', 'ロコ(中村温姫)',\n",
    "                  '七尾百合子', '高山紗代子', '松田亜利沙', '高坂海美', '中谷育',\n",
    "                  '天空橋朋花', 'エミリー', '北沢志保', '舞浜歩', '木下ひなた',\n",
    "                  '矢吹可奈', '横山奈緒', '二階堂千鶴', '馬場このみ', '大神環',\n",
    "                  '豊川風花', '宮尾美也', '福田のり子', '真壁瑞希', '篠宮可憐',\n",
    "                  '百瀬莉緒', '永吉昴', '北上麗花', '周防桃子', 'ジュリア(愛美)',\n",
    "                  '白石紬', '桜守歌織']\n",
    "len(character_list)"
   ]
  },
  {
   "cell_type": "code",
   "execution_count": 5,
   "metadata": {
    "scrolled": true
   },
   "outputs": [
    {
     "name": "stdout",
     "output_type": "stream",
     "text": [
      "天海春香 done!\n",
      "如月千早 done!\n",
      "星井美希 done!\n",
      "萩原雪歩 done!\n",
      "高槻やよい done!\n",
      "菊地真(平田宏美) done!\n",
      "水瀬伊織 done!\n",
      "四条貴音 done!\n",
      "秋月律子 done!\n",
      "三浦あずさ done!\n",
      "双海亜美 done!\n",
      "双海真美 done!\n",
      "我那覇響 done!\n",
      "春日未来 done!\n",
      "最上静香 done!\n",
      "伊吹翼 done!\n",
      "田中琴葉 done!\n",
      "島原エレナ done!\n",
      "佐竹美奈子 done!\n",
      "所恵美 done!\n",
      "徳川まつり done!\n",
      "箱崎星梨花 done!\n",
      "野々原茜 done!\n",
      "望月杏奈 done!\n",
      "ロコ(中村温姫) done!\n",
      "七尾百合子 done!\n",
      "高山紗代子 done!\n",
      "松田亜利沙 done!\n",
      "高坂海美 done!\n",
      "中谷育 done!\n",
      "天空橋朋花 done!\n",
      "エミリー done!\n",
      "北沢志保 done!\n",
      "舞浜歩 done!\n",
      "木下ひなた done!\n",
      "矢吹可奈 done!\n",
      "横山奈緒 done!\n",
      "二階堂千鶴 done!\n",
      "馬場このみ done!\n",
      "大神環 done!\n",
      "豊川風花 done!\n",
      "宮尾美也 done!\n",
      "福田のり子 done!\n",
      "真壁瑞希 done!\n",
      "篠宮可憐 done!\n",
      "百瀬莉緒 done!\n",
      "永吉昴 done!\n",
      "北上麗花 done!\n",
      "周防桃子 done!\n",
      "ジュリア(愛美) done!\n",
      "白石紬 done!\n",
      "桜守歌織 done!\n"
     ]
    }
   ],
   "source": [
    "df_dict = {}\n",
    "songs_df = pd.DataFrame()\n",
    "for character in character_list:\n",
    "    url = 'https://www.uta-net.com/search/?Aselect=1&Keyword=' +\\\n",
    "            character + '&Bselect=3&x=0&y=0'\n",
    "    char_df = create_songs_dataframe(url)\n",
    "    df_dict[character] = char_df\n",
    "    songs_df = pd.concat([songs_df, char_df])\n",
    "    print(character, 'done!')"
   ]
  },
  {
   "cell_type": "code",
   "execution_count": 22,
   "metadata": {},
   "outputs": [],
   "source": [
    "# label指定で不適当な楽曲情報を削除\n",
    "df_dict['如月千早'] = df_dict['如月千早'].drop(21).reset_index(drop=True)\n",
    "df_dict['エミリー'] = df_dict['エミリー'].drop([6, 7]).reset_index(drop=True)\n",
    "songs_df = songs_df.reset_index(drop=True).drop([69, 746, 747])"
   ]
  },
  {
   "cell_type": "code",
   "execution_count": 23,
   "metadata": {},
   "outputs": [
    {
     "name": "stdout",
     "output_type": "stream",
     "text": [
      "(401, 6)\n"
     ]
    },
    {
     "data": {
      "text/html": [
       "<div>\n",
       "<style scoped>\n",
       "    .dataframe tbody tr th:only-of-type {\n",
       "        vertical-align: middle;\n",
       "    }\n",
       "\n",
       "    .dataframe tbody tr th {\n",
       "        vertical-align: top;\n",
       "    }\n",
       "\n",
       "    .dataframe thead th {\n",
       "        text-align: right;\n",
       "    }\n",
       "</style>\n",
       "<table border=\"1\" class=\"dataframe\">\n",
       "  <thead>\n",
       "    <tr style=\"text-align: right;\">\n",
       "      <th></th>\n",
       "      <th>Artist</th>\n",
       "      <th>Composer</th>\n",
       "      <th>Lyricist</th>\n",
       "      <th>SongName</th>\n",
       "      <th>URL</th>\n",
       "      <th>Lyric</th>\n",
       "    </tr>\n",
       "  </thead>\n",
       "  <tbody>\n",
       "    <tr>\n",
       "      <th>0</th>\n",
       "      <td>天海春香(中村繪里子)</td>\n",
       "      <td>NBGI(LindaAI-CUE)</td>\n",
       "      <td>NBGI(LindaAI-CUE)</td>\n",
       "      <td>I Want</td>\n",
       "      <td>https://www.uta-net.com/song/275902/</td>\n",
       "      <td>まるで荒れる波涛のように背筋つらぬき　心狂わす出逢いそう　出逢い夢うつつと見紛(みまご)うほ...</td>\n",
       "    </tr>\n",
       "    <tr>\n",
       "      <th>1</th>\n",
       "      <td>天海春香(中村繪里子)</td>\n",
       "      <td>イイジマケン</td>\n",
       "      <td>イイジマケン</td>\n",
       "      <td>あ・り・が・と・YESTERDAYS</td>\n",
       "      <td>https://www.uta-net.com/song/143280/</td>\n",
       "      <td>Don't Don't Don't Stay Good-byeDon't Don't Don...</td>\n",
       "    </tr>\n",
       "    <tr>\n",
       "      <th>2</th>\n",
       "      <td>天海春香(中村繪里子)、菊地真(平田宏美)</td>\n",
       "      <td>若林充</td>\n",
       "      <td>yura</td>\n",
       "      <td>YES♪</td>\n",
       "      <td>https://www.uta-net.com/song/260171/</td>\n",
       "      <td>YES♪広い空のようなみんな夢を見てるそして叶えてく輝くこの宇宙(そら)でどこ行(ゆ)こうM...</td>\n",
       "    </tr>\n",
       "    <tr>\n",
       "      <th>3</th>\n",
       "      <td>天海春香(中村繪里子)、星井美希(長谷川明子)、高槻やよい(仁後真耶子)、双海亜美/真美(下...</td>\n",
       "      <td>藤末樹</td>\n",
       "      <td>yura</td>\n",
       "      <td>いっしょ</td>\n",
       "      <td>https://www.uta-net.com/song/260172/</td>\n",
       "      <td>いっしょに歌おういっしょの時代(とき)の中いっしょで行こういっしょな夢を見よういっしょにいよ...</td>\n",
       "    </tr>\n",
       "    <tr>\n",
       "      <th>4</th>\n",
       "      <td>IM@S ALLSTARS++</td>\n",
       "      <td>NBGI(高田龍一)</td>\n",
       "      <td>NBGI(mft)</td>\n",
       "      <td>L・O・B・M</td>\n",
       "      <td>https://www.uta-net.com/song/275775/</td>\n",
       "      <td>アッ！とね　言わせて見たいいっぱい愛があふれるウットリするような世界創ろうガッカリするのまだ...</td>\n",
       "    </tr>\n",
       "  </tbody>\n",
       "</table>\n",
       "</div>"
      ],
      "text/plain": [
       "                                              Artist           Composer  \\\n",
       "0                                        天海春香(中村繪里子)  NBGI(LindaAI-CUE)   \n",
       "1                                        天海春香(中村繪里子)             イイジマケン   \n",
       "2                              天海春香(中村繪里子)、菊地真(平田宏美)                若林充   \n",
       "3  天海春香(中村繪里子)、星井美希(長谷川明子)、高槻やよい(仁後真耶子)、双海亜美/真美(下...                藤末樹   \n",
       "4                                    IM@S ALLSTARS++         NBGI(高田龍一)   \n",
       "\n",
       "            Lyricist            SongName  \\\n",
       "0  NBGI(LindaAI-CUE)              I Want   \n",
       "1             イイジマケン  あ・り・が・と・YESTERDAYS   \n",
       "2               yura                YES♪   \n",
       "3               yura                いっしょ   \n",
       "4          NBGI(mft)             L・O・B・M   \n",
       "\n",
       "                                    URL  \\\n",
       "0  https://www.uta-net.com/song/275902/   \n",
       "1  https://www.uta-net.com/song/143280/   \n",
       "2  https://www.uta-net.com/song/260171/   \n",
       "3  https://www.uta-net.com/song/260172/   \n",
       "4  https://www.uta-net.com/song/275775/   \n",
       "\n",
       "                                               Lyric  \n",
       "0  まるで荒れる波涛のように背筋つらぬき　心狂わす出逢いそう　出逢い夢うつつと見紛(みまご)うほ...  \n",
       "1  Don't Don't Don't Stay Good-byeDon't Don't Don...  \n",
       "2  YES♪広い空のようなみんな夢を見てるそして叶えてく輝くこの宇宙(そら)でどこ行(ゆ)こうM...  \n",
       "3  いっしょに歌おういっしょの時代(とき)の中いっしょで行こういっしょな夢を見よういっしょにいよ...  \n",
       "4  アッ！とね　言わせて見たいいっぱい愛があふれるウットリするような世界創ろうガッカリするのまだ...  "
      ]
     },
     "execution_count": 23,
     "metadata": {},
     "output_type": "execute_result"
    }
   ],
   "source": [
    "songs_df = unique_df(songs_df)  # 曲名の重複を削除して，インデックス振り直し\n",
    "print(songs_df.shape)\n",
    "songs_df.head()"
   ]
  },
  {
   "cell_type": "code",
   "execution_count": 24,
   "metadata": {},
   "outputs": [],
   "source": [
    "# データの書き出し\n",
    "data_path = './datasets/'\n",
    "char_path = os.path.join(data_path, 'character')\n",
    "if not os.path.exists(char_path):\n",
    "    os.makedirs(char_path)\n",
    "\n",
    "# キャラごとのデータを保存\n",
    "for name, df in df_dict.items():\n",
    "    df.to_csv(os.path.join(char_path, name + '_songs.csv'), encoding='utf-8_sig')\n",
    "\n",
    "songs_df.to_csv(os.path.join(data_path, 'all_songs.csv'), encoding='utf-8_sig')  # 全楽曲のdfを保存"
   ]
  },
  {
   "cell_type": "code",
   "execution_count": null,
   "metadata": {},
   "outputs": [],
   "source": []
  }
 ],
 "metadata": {
  "kernelspec": {
   "display_name": "Python 3",
   "language": "python",
   "name": "python3"
  },
  "language_info": {
   "codemirror_mode": {
    "name": "ipython",
    "version": 3
   },
   "file_extension": ".py",
   "mimetype": "text/x-python",
   "name": "python",
   "nbconvert_exporter": "python",
   "pygments_lexer": "ipython3",
   "version": "3.6.5"
  }
 },
 "nbformat": 4,
 "nbformat_minor": 2
}
